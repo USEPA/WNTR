{
 "cells": [
  {
   "cell_type": "markdown",
   "metadata": {},
   "source": [
    "# WNTR / EPANET-MSX demo\n",
    "This demo shows a simple example of multispecies chlorine decay taken from the \n",
    "EPANETMSX user manual. The Net3 example network from EPANET is used, and two \n",
    "different decay coefficients are assigned - one for each source of water.\n",
    "The river uses decay coefficient k1, the lake uses decay coefficient k2, and \n",
    "the two values are an order of magnitude different. Once the initial example,\n",
    "from the EPANETMSX user manual, has been run, parameter sensitivity is performed\n",
    "to look at the impacts of different decay coefficients for the river source."
   ]
  },
  {
   "cell_type": "code",
   "execution_count": 2,
   "metadata": {},
   "outputs": [],
   "source": [
    "from pprint import pprint"
   ]
  },
  {
   "cell_type": "markdown",
   "metadata": {},
   "source": [
    "### Load the network model, optionally remove EPANET quality"
   ]
  },
  {
   "cell_type": "code",
   "execution_count": 3,
   "metadata": {},
   "outputs": [],
   "source": [
    "import wntr\n",
    "\n",
    "\n",
    "wn = wntr.network.WaterNetworkModel(\"../networks/Net3.inp\")\n",
    "\n",
    "wn.options.quality.parameter = \"NONE\""
   ]
  },
  {
   "cell_type": "markdown",
   "metadata": {},
   "source": [
    "### Add a new MSX model to the water network, set options"
   ]
  },
  {
   "cell_type": "code",
   "execution_count": 4,
   "metadata": {},
   "outputs": [],
   "source": [
    "wn.add_msx_model()\n",
    "wn.msx.title = \"Multisource Chlorine Decay\"\n",
    "wn.msx.references.append(\n",
    "    \"\"\"(2023) Shang F, L Rossman, and J Uber. \n",
    "\"EPANET-MSX 2.0 User Manual\". EPA/600/R-22/199\"\"\"\n",
    ")\n",
    "wn.msx.options.area_units = \"FT2\"\n",
    "wn.msx.options.rate_units = \"DAY\"\n",
    "wn.msx.options.timestep = 300"
   ]
  },
  {
   "cell_type": "markdown",
   "metadata": {},
   "source": [
    "### Add the MSX reaction system information\n",
    "This reaction system comes from the EPANET-MSX user manual. There are two species: Free Chlorine and a tracer. The tracer is used to select which decay coefficient is being used. The river is source 1, the lake is source 2.\n",
    "\n",
    "The amount of free chlorine is based on the rate reaction:\n",
    "\n",
    "$$\n",
    "    \\frac{d}{dt}\\mathrm{Cl_2} = -(k_1 T_1 + k_2(1-T_1)) \\mathrm{Cl_2}\n",
    "$$"
   ]
  },
  {
   "cell_type": "code",
   "execution_count": null,
   "metadata": {},
   "outputs": [],
   "source": [
    "T1 = wn.msx.add_species(\"T1\", \"bulk\", units=\"MG\", note=\"Source 1 Tracer\")\n",
    "Cl2 = wn.msx.add_species(\"CL2\", \"bulk\", units=\"MG\", note=\"Free Chlorine\")\n",
    "print(repr(Cl2))"
   ]
  },
  {
   "cell_type": "code",
   "execution_count": null,
   "metadata": {},
   "outputs": [],
   "source": [
    "k1 = wn.msx.add_constant(\"k1\", 1.3, units=\"1/day\")\n",
    "k2 = wn.msx.add_constant(\"k2\", 17.7, units=\"1/day\")\n",
    "print(repr(k2))"
   ]
  },
  {
   "cell_type": "code",
   "execution_count": null,
   "metadata": {},
   "outputs": [],
   "source": [
    "rxn_T1 = wn.msx.add_reaction(\"T1\", \"pipe\", \"rate\", \"0\")\n",
    "rxn_Cl2 = wn.msx.add_reaction(\"CL2\", \"pipe\", \"rate\", \"-(k1*T1 + k2*(1-T1))*CL2\")\n",
    "print(repr(rxn_Cl2))"
   ]
  },
  {
   "cell_type": "markdown",
   "metadata": {},
   "source": [
    "### Set up the initial quality\n",
    "In this example, the initial quality is based on the two sources: the tracer, indicating which source is which, is set to 1.0 for the river; the chlorine is being boosted at the sources to the same level, 1.2 mg/L."
   ]
  },
  {
   "cell_type": "code",
   "execution_count": null,
   "metadata": {},
   "outputs": [],
   "source": [
    "from wntr.msx.elements import InitialQuality\n",
    "\n",
    "net_data = wn.msx.network_data\n",
    "net_data.initial_quality[\"T1\"] = InitialQuality(node_values={\"River\": 1.0})\n",
    "net_data.initial_quality[\"CL2\"] = InitialQuality(node_values={\"River\": 1.2, \"Lake\": 1.2})\n",
    "pprint(net_data.initial_quality)"
   ]
  },
  {
   "cell_type": "markdown",
   "metadata": {},
   "source": [
    "### Run the simulation and view the results\n",
    "With the MSX model attached to the WaterNetworkModel, there is nothing different in how the EpanetSimulator is called. Results are saved in keys with the species' name."
   ]
  },
  {
   "cell_type": "code",
   "execution_count": null,
   "metadata": {},
   "outputs": [],
   "source": [
    "sim = wntr.sim.EpanetSimulator(wn)\n",
    "res = sim.run_sim()\n",
    "print(\"Node results:\", \", \".join([k for k in res.node.keys()]))\n",
    "print(\"Link results:\", \", \".join([k for k in res.link.keys()]))"
   ]
  },
  {
   "cell_type": "markdown",
   "metadata": {},
   "source": [
    "Generate some graphics that show how the river fraction changes through time."
   ]
  },
  {
   "cell_type": "code",
   "execution_count": null,
   "metadata": {},
   "outputs": [],
   "source": [
    "import matplotlib.pyplot as plt\n",
    "\n",
    "_ = wntr.graphics.plot_network(\n",
    "    wn,\n",
    "    node_attribute=res.node[\"T1\"].loc[3600 * 12, :],\n",
    "    title=\"12 h\",\n",
    "    node_colorbar_label=\"River\\nFraction\",\n",
    ")\n",
    "_ = wntr.graphics.plot_network(\n",
    "    wn,\n",
    "    node_attribute=res.node[\"T1\"].loc[3600 * 24, :],\n",
    "    title=\"24 h\",\n",
    "    node_colorbar_label=\"River\\nFraction\",\n",
    ")\n",
    "_ = wntr.graphics.plot_network(\n",
    "    wn,\n",
    "    node_attribute=res.node[\"T1\"].loc[3600 * 36, :],\n",
    "    title=\"36 h\",\n",
    "    node_colorbar_label=\"River\\nFraction\",\n",
    ")\n",
    "query = \"117\"  # '191', '269', '117'\n",
    "res.node[\"CL2\"][query].plot()\n",
    "res.node[\"T1\"][query].plot()\n",
    "plt.title(\"Node {}\\nk1 = {:.1f}, k2 = {:.1f}\".format(query, k1.value, k2.value))\n",
    "_ = plt.legend([\"Cl2\", \"T1\"])"
   ]
  },
  {
   "cell_type": "markdown",
   "metadata": {},
   "source": [
    "### Look at impact of different k1 values on residuals"
   ]
  },
  {
   "cell_type": "code",
   "execution_count": 11,
   "metadata": {},
   "outputs": [],
   "source": [
    "d_k1 = dict()\n",
    "k1 = wn.msx.reaction_system.constants[\"k1\"]\n",
    "for i in range(7):\n",
    "    # Increase the reaction rate\n",
    "    newk = 1.3 + i * 2.6\n",
    "    k1.value = newk\n",
    "    resk = sim.run_sim()\n",
    "    d_k1[newk] = resk"
   ]
  },
  {
   "cell_type": "code",
   "execution_count": null,
   "metadata": {},
   "outputs": [],
   "source": [
    "# res.node[\"T1\"].loc[0:3600*36, query].plot(style='k.')\n",
    "for newk, resk in d_k1.items():\n",
    "    resk.node[\"CL2\"].loc[0 : 3600 * 36, query].plot()\n",
    "plt.legend([\"{:.1f}\".format(k) for k in d_k1.keys()], title=\"k1 (1/day)\")\n",
    "plt.title(\"Chlorine residual at node {}\".format(query))\n",
    "plt.xlabel(\"Seconds\")\n",
    "plt.ylabel(\"Concentraion [mg/L]\")"
   ]
  },
  {
   "cell_type": "markdown",
   "metadata": {},
   "source": [
    "### Save the model\n",
    "The model is now saved in two formats: the EPANET-MSX style format as Net3.msx and then as a JSON file, Net3-msx.json.\n",
    "We also can save the model as in a library format; this strips the JSON file of any network-specific information so that it only contains the species, constants, and reaction dynamics."
   ]
  },
  {
   "cell_type": "code",
   "execution_count": 13,
   "metadata": {},
   "outputs": [],
   "source": [
    "from wntr.msx import io as msxio\n",
    "\n",
    "msxio.write_msxfile(wn.msx, \"Net3.msx\")\n",
    "msxio.write_json(wn.msx, \"Net3-msx.json\")\n",
    "msxio.write_json(wn.msx, \"multisource-cl.json\", as_library=True)"
   ]
  },
  {
   "cell_type": "markdown",
   "metadata": {},
   "source": [
    "We can look at the file that was written out, and we can read in the two JSON files to see how the library format has stripped out the network data."
   ]
  },
  {
   "cell_type": "code",
   "execution_count": null,
   "metadata": {},
   "outputs": [],
   "source": [
    "with open(\"Net3.msx\", \"r\") as fin:\n",
    "    print(fin.read())"
   ]
  },
  {
   "cell_type": "code",
   "execution_count": null,
   "metadata": {},
   "outputs": [],
   "source": [
    "import json\n",
    "\n",
    "with_net: dict = None\n",
    "without_net: dict = None\n",
    "\n",
    "with open(\"Net3-msx.json\", \"r\") as fin:\n",
    "    with_net = json.load(fin)\n",
    "with open(\"multisource-cl.json\", \"r\") as fin:\n",
    "    without_net = json.load(fin)\n",
    "\n",
    "print(\"With network data:\")\n",
    "pprint(with_net[\"network_data\"])\n",
    "\n",
    "print(\"As a library:\")\n",
    "pprint(without_net[\"network_data\"])"
   ]
  },
  {
   "cell_type": "markdown",
   "metadata": {},
   "source": [
    "### Using the MSX WNTR library\n",
    "WNTR now includes a library functionality that allows a user to access certain objects by name.\n",
    "The MSX integration includes adding a library of certain reaction models that are described in\n",
    "the EPANET-MSX user manual. This section demonstrates how to use the model that was just saved\n",
    "in the library."
   ]
  },
  {
   "cell_type": "code",
   "execution_count": null,
   "metadata": {},
   "outputs": [],
   "source": [
    "from wntr.library.msx import MsxLibrary\n",
    "\n",
    "my_library = MsxLibrary(extra_paths=[\".\"])  # load files from the current directory\n",
    "my_library.model_name_list()"
   ]
  },
  {
   "cell_type": "markdown",
   "metadata": {},
   "source": [
    "Note that this has pulled in a lot more files than might be expected. This is because it is getting the default models (the first five models) followed by all the models in the current directory ('.'). It grabs any file that has the extension .json or .msx, which means that it has pulled in \"temp\", since this demo has run the EpanetSimulator several times, Net3, Net3-msx, and multisource-cl, because they were just created.\n",
    "\n",
    "The models are accessed by name. To see how they are different, compare the initial quality for the \"Net3\" model (which came from the .msx file created above) and the \"multisource-cl\" model (created with as_library=True)."
   ]
  },
  {
   "cell_type": "code",
   "execution_count": null,
   "metadata": {},
   "outputs": [],
   "source": [
    "my_library.get_model(\"Net3\").network_data.initial_quality"
   ]
  },
  {
   "cell_type": "code",
   "execution_count": null,
   "metadata": {},
   "outputs": [],
   "source": [
    "my_library.get_model(\"multisource-cl\").network_data.initial_quality"
   ]
  },
  {
   "cell_type": "markdown",
   "metadata": {},
   "source": [
    "Now, examine a model that comes from the built-in data."
   ]
  },
  {
   "cell_type": "code",
   "execution_count": null,
   "metadata": {},
   "outputs": [],
   "source": [
    "arsenic = my_library.get_model(\"arsenic_chloramine\")\n",
    "for key, value in arsenic.reaction_system.variables():\n",
    "    print(repr(value))\n",
    "for key, value in arsenic.reaction_system.reactions():\n",
    "    print(repr(value))"
   ]
  }
 ],
 "metadata": {
  "kernelspec": {
   "display_name": "Python 3",
   "language": "python",
   "name": "python3"
  },
  "language_info": {
   "codemirror_mode": {
    "name": "ipython",
    "version": 3
   },
   "file_extension": ".py",
   "mimetype": "text/x-python",
   "name": "python",
   "nbconvert_exporter": "python",
   "pygments_lexer": "ipython3",
   "version": "3.12.5"
  }
 },
 "nbformat": 4,
 "nbformat_minor": 4
}
