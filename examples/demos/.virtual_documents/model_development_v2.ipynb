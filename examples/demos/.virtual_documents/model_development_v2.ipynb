








## Imports
import geopandas as gpd
import matplotlib.pylab as plt
import wntr

crs = "EPSG:3547"  # ft


# TODO, add metadata to hide this cell
wn0 = wntr.network.WaterNetworkModel("../networks/ky4.inp")
wn0.options.time.duration = 24 * 3600
sim = wntr.sim.EpanetSimulator(wn0)
results0 = sim.run_sim()
pressure0 = results0.node["pressure"].loc[24 * 3600, :]
#wntr.graphics.plot_network(wn0, node_attribute=pressure0, node_size=30, title="Pressure")
wntr.network.io.write_geojson(wn0, "../data/ky4", crs=crs)

# junctions should have base demand (see PR)
#aed0 = wntr.metrics.average_expected_demand(wn0)
#print(aed0)
#for name, control in wn0.controls():
#    print(name, control)
#for name, pattern in wn0.patterns():
#    print(name, pattern.multipliers)








geojson_files = {
    "junctions": "../data/ky4_junctions.geojson",
    "tanks": "../data/ky4_tanks.geojson",
    "reservoirs": "../data/ky4_reservoirs.geojson",
    "pipes": "../data/ky4_pipes.geojson",
    "pumps": "../data/ky4_pumps.geojson",
}

wn = wntr.network.read_geojson(geojson_files)





line = "LINK ~@Pump-1 OPEN IF NODE T-3 BELOW  27.6606"  # 90.75 ft
wn.add_control("Pump1_open", line)

line = "LINK ~@Pump-1 CLOSED IF NODE T-3 ABOVE  32.2326"  # 105.75 ft
wn.add_control("Pump1_closed", line)





multipliers = [
    0.33, 0.25, 0.209, 0.209, 0.259, 0.36,
    0.529, 0.91, 1.2, 1.299, 1.34, 1.34,
    1.32, 1.269, 1.25, 1.25, 1.279, 1.37,
    1.519, 1.7, 1.75, 1.669, 0.899, 0.479,
]
default_pattern_name = wn.options.hydraulic.pattern
wn.add_pattern(default_pattern_name, multipliers)





pump = wn.get_link("~@Pump-1")
pump.initial_status = "Closed"





# TODO, this shoudl be 24, but the simulation doesn't run to completion, due to demands?
wn.options.time.duration = 0  # 24*3600





#aed = wntr.metrics.average_expected_demand(wn)
#print(aed)
sim = wntr.sim.EpanetSimulator(wn)
results = sim.run_sim()
pressure = results.node["pressure"].loc[0, :]
wntr.graphics.plot_network(wn, node_attribute=pressure, node_size=30, title="Pressure")


wn0.describe()
wn1.describe()
# compare RMSE pressure at a specific time











diconnected_pipes = gpd.read_file("../data/ky4_disconnected_pipes.geojson", crs=crs)
tanks = gpd.read_file("../data/ky4_tanks.geojson", crs=crs)
reservoirs = gpd.read_file("../data/ky4_reservoirs.geojson", crs=crs)
pumps = gpd.read_file("../data/ky4_pumps.geojson", crs=crs)

diconnected_pipes.set_index("index", inplace=True) # This needs to be updated to name
tanks.set_index("name", inplace=True)
reservoirs.set_index("name", inplace=True)
pumps.set_index("name", inplace=True)

# TODO remove start_node_name end_node_name and pumps -- not sure how we add these back in, but I don't think the names should exist here
del pumps['start_node_name']
del pumps['end_node_name']

# Define distance threshold used to refine data
distance_threshold = 100.0





pipes, junctions = wntr.gis.geospatial.connect_lines(diconnected_pipes, distance_threshold)
print(pipes.head())

# TODO, change to plotly or interactive so we can zoom in
fig, ax = plt.subplots()
diconnected_pipes.plot(color="b", linewidth=4, ax=ax)
pipes.plot(color="r", linewidth=2, ax=ax)
junctions.plot(color="k", ax=ax)





# TODO use sample_raster function
junctions["elevation"] = 100
print(junctions.head())





snap_reservoirs = wntr.gis.snap(reservoirs, junctions, distance_threshold)
print(reservoirs.head())
print(snap_reservoirs)

snap_tanks = wntr.gis.snap(tanks, junctions, distance_threshold)
print(tanks.head())
print(snap_tanks)

# TODO, how do we add the pump?  snap to the nearest pipe? why is the pump a point?  does this work with the perfect data above?
snap_pumps = wntr.gis.snap(pumps, junctions, distance_threshold)
print(pumps.head())
print(snap_pumps)





def add_connector(snap_attribute, pipes):
    for name, row in snap_attribute.iterrows():
        attributes = {'CV': 0, 
                      'diameter': 0.3, 
                      'status': 'Open',
                      'length': 1, 
                      'minor_loss': 0,
                      'roughness': 150,
                      'geometry': row['geometry'],
                      'start_node_name': row['node'],
                      'end_node_name': name}
        pipes.loc[name+'_connector'] = attributes
    return pipes

add_connector(snap_reservoirs, pipes)
add_connector(snap_tanks, pipes)





# TODO
# For each pump
# Determine upstream direction using the graph
# Add upstream junction (junction_upstream)
# Add start_node_name and end_node_name to pump





buildings = gpd.read_file("../data/ky4_buildings.geojson", crs=crs)
buildings.to_crs(crs, inplace=True)
buildings["area"] = buildings.area
buildings["base_demand"] = buildings["area"] / 0.00001

buildings.geometry = buildings.geometry.centroid
snap_buildings = wntr.gis.snap(buildings, junctions, distance_threshold)
buildings["junction"] = None
buildings.loc[snap_buildings.index, "junction"] = snap_buildings.loc[:, "node"]

print(buildings.head())








gis_data = wntr.gis.WaterNetworkGIS(
    {
        "junctions": junctions,
        'tanks': tanks,
        'reservoirs': reservoirs,
        "pipes": pipes,
        'pumps': pumps
    }
)
wn = wntr.network.from_gis(gis_data)





line = "LINK ~@Pump-1 OPEN IF NODE T-3 BELOW  27.6606"  # 90.75 ft
wn.add_control("Pump1_open", line)

line = "LINK ~@Pump-1 CLOSED IF NODE T-3 ABOVE  32.2326"  # 105.75 ft
wn.add_control("Pump1_closed", line)





multipliers = [
    0.33, 0.25, 0.209, 0.209, 0.259, 0.36,
    0.529, 0.91, 1.2, 1.299, 1.34, 1.34,
    1.32, 1.269, 1.25, 1.25, 1.279, 1.37,
    1.519, 1.7, 1.75, 1.669, 0.899, 0.479,
]
default_pattern_name = wn.options.hydraulic.pattern
wn.add_pattern(default_pattern_name, multipliers)

for i, row in buildings.iterrows():
    junction_name = buildings.loc[i, "junction"]
    if junction_name is None:
        continue
    base_demand = buildings.loc[i, "base_demand"]
    junction = wn.get_node(junction_name)
    junction.demand_timeseries_list.append((base_demand, default_pattern_name, category))





pump = wn.get_link("~@Pump-1")
pump.initial_status = "Closed"





# TODO, this shoudl be 24, but the simulation doesn't run to completion, due to demands?
wn.options.time.duration = 0  # 24*3600





sim = wntr.sim.EpanetSimulator(wn)
results = sim.run_sim()
pressure = results.node["pressure"].loc[0, :]
wntr.graphics.plot_network(wn, node_attribute=pressure, node_size=30, title="Pressure")


wn0.describe()
wn2.describe() 
# compare RMSE pressure at a specific time
