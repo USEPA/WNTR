{
 "cells": [
  {
   "cell_type": "markdown",
   "metadata": {
    "tags": []
   },
   "source": [
    "# WNTR Geospatial Tutorial\n",
    "The following tutorial illustrates the use of the `wntr.gis` module to use geospatial data in resilience analysis.  The tutorial uses a water network model from Kentucky coupled with GIS data to quantify potential water service disruptions from pipes damaged in a landslide."
   ]
  },
  {
   "cell_type": "markdown",
   "metadata": {
    "tags": []
   },
   "source": [
    "## Imports\n",
    "Import WNTR and additional Python packages that are needed for the tutorial\n",
    "- Geopandas is used to load geospatial data\n",
    "- Shapely is used to define the region of interest\n",
    "- Matplotlib is used to create subplots"
   ]
  },
  {
   "cell_type": "code",
   "execution_count": null,
   "metadata": {},
   "outputs": [],
   "source": [
    "import geopandas as gpd\n",
    "from shapely.geometry import box\n",
    "import matplotlib.pylab as plt\n",
    "import wntr"
   ]
  },
  {
   "cell_type": "markdown",
   "metadata": {},
   "source": [
    "# Water Network Model\n",
    "Water network models can be created from EPANET INP files, from GIS data in GeoJSON or Shapefile format, or from scratch using methods such as `add_junction` and `add_pipe`. The following section creates a water network model from an EPANET INP file and illustrates how models are created from GIS data."
   ]
  },
  {
   "cell_type": "markdown",
   "metadata": {},
   "source": [
    "## Create a Water Network Model from an EPANET INP file\n",
    "The water distribution network model used in this tutorial was downloaded from the [UKnowledge Water Distribution Systems Research Database](https://uknowledge.uky.edu/wdsrd/). KY10 was selected for the analysis.\n",
    "\n",
    "Citation: Hoagland, Steven, \"10 KY 10\" (2016). Kentucky Dataset. 12. https://uknowledge.uky.edu/wdst/12. Accessed on 4/4/2024."
   ]
  },
  {
   "cell_type": "code",
   "execution_count": null,
   "metadata": {},
   "outputs": [],
   "source": [
    "# Create a water network model from an INP file\n",
    "inp_file = '../networks/ky10.inp'\n",
    "wn = wntr.network.WaterNetworkModel(inp_file)"
   ]
  },
  {
   "cell_type": "code",
   "execution_count": null,
   "metadata": {},
   "outputs": [],
   "source": [
    "# Print a basic description of the model\n",
    "wn.describe(level=1)"
   ]
  },
  {
   "cell_type": "code",
   "execution_count": null,
   "metadata": {
    "tags": []
   },
   "outputs": [],
   "source": [
    "# Create a basic network graphic, showing junction elevation\n",
    "# Note, the remaining graphics in this tutorial are created from the geospatial data directly, rather than the plot_network function\n",
    "ax = wntr.graphics.plot_network(wn, node_attribute='elevation', node_range=(175, 300), title='ky10 elevation')"
   ]
  },
  {
   "cell_type": "markdown",
   "metadata": {},
   "source": [
    "## Convert the Water Network Model to GIS data\n",
    "The Water Network Model is converted to a collection of GeoDataFrames and set the coordinate reference system (CRS) is set to EPSG:3089.  Data for junctions, tanks, reservoirs, pipes, pumps, and valves are stored in separate GeoDataFrames."
   ]
  },
  {
   "cell_type": "code",
   "execution_count": null,
   "metadata": {
    "tags": []
   },
   "outputs": [],
   "source": [
    "# Convert the Water Network Model to GIS data and set the CRS\n",
    "wn_gis = wntr.network.to_gis(wn)\n",
    "wn_gis.pipes.head()"
   ]
  },
  {
   "cell_type": "code",
   "execution_count": null,
   "metadata": {
    "tags": []
   },
   "outputs": [],
   "source": [
    "# Set the CRS to EPSG:3089, NAD83 / Kentucky Single Zone (ftUS)\n",
    "crs = 'EPSG:3089'\n",
    "wn_gis.set_crs(crs)"
   ]
  },
  {
   "cell_type": "markdown",
   "metadata": {},
   "source": [
    "## Save the GIS data to a GeoJSON or Shape file\n",
    "The dictionary of GeoDataFrames are written to GeoJSON files or Shapefiles.  One file is created for junctions, tanks, reservoirs, pipes, pumps, and valves."
   ]
  },
  {
   "cell_type": "code",
   "execution_count": null,
   "metadata": {
    "tags": []
   },
   "outputs": [],
   "source": [
    "wn_gis.write_geojson('ky10')"
   ]
  },
  {
   "cell_type": "markdown",
   "metadata": {},
   "source": [
    "## Generate a Water Network Model from GIS data\n",
    "Water network models can be created from GeoJSON files or Shapefiles. A specific set of column names are required to define junctions, tanks, reservoirs, pipes, pumps, and valves.  Model attributes like patterns, curves, and options need to be added separately."
   ]
  },
  {
   "cell_type": "code",
   "execution_count": null,
   "metadata": {
    "tags": []
   },
   "outputs": [],
   "source": [
    "# Print valid GeoJSON or Shapefiles column names required to build a model\n",
    "column_names = wntr.network.io.valid_gis_names()\n",
    "print(\"Junction column names\", column_names['junctions'])\n",
    "print(\"Tank column names\", column_names['tanks'])\n",
    "print(\"Reservoir column names\", column_names['reservoirs'])\n",
    "print(\"Pipe column names\", column_names['pipes'])\n",
    "print(\"Pump column names\", column_names['pumps'])\n",
    "print(\"Valve column names\", column_names['valves'])"
   ]
  },
  {
   "cell_type": "code",
   "execution_count": null,
   "metadata": {
    "tags": []
   },
   "outputs": [],
   "source": [
    "# Build a water network model from a set of GeoJSON files\n",
    "geojson_files = {'junctions': 'ky10_junctions.geojson',\n",
    "                 'tanks': 'ky10_tanks.geojson',\n",
    "                 'reservoirs': 'ky10_reservoirs.geojson',\n",
    "                 'pipes': 'ky10_pipes.geojson',\n",
    "                 'pumps': 'ky10_pumps.geojson',\n",
    "                 'valves': 'ky10_valves.geojson'}\n",
    "wn2 = wntr.network.read_geojson(geojson_files)"
   ]
  },
  {
   "cell_type": "code",
   "execution_count": null,
   "metadata": {
    "tags": []
   },
   "outputs": [],
   "source": [
    "# Compare model attributes of the original model with the model built from GeoJSON files (note the absence of patterns and controls)\n",
    "print(wn.describe(level=1))\n",
    "print(wn2.describe(level=1))"
   ]
  },
  {
   "cell_type": "markdown",
   "metadata": {},
   "source": [
    "# External GIS Data\n",
    "The external data used in this tutorial includes landslide footprint data and social vulnerability data."
   ]
  },
  {
   "cell_type": "markdown",
   "metadata": {},
   "source": [
    "## Create a region of interest (ROI) for the analysis\n",
    "The region of interest (ROI) is defined by a bounding box around all pipes, with a 5000 ft buffer. The ROI is used to clip external data to only include the area included in the analysis."
   ]
  },
  {
   "cell_type": "code",
   "execution_count": null,
   "metadata": {
    "tags": []
   },
   "outputs": [],
   "source": [
    "# Region of interest\n",
    "bounds = wn_gis.pipes.total_bounds\n",
    "geom = box(*bounds)\n",
    "ROI = geom.buffer(5000) # feet"
   ]
  },
  {
   "cell_type": "markdown",
   "metadata": {},
   "source": [
    "## Load landslide GIS data\n",
    "The landslide data used in this tutorial was downloaded from the [UKnowledge Kentucky Geological Survey Research Data](https://uknowledge.uky.edu/kgs_data/).  The Kentucky Geological Survey Landslide Inventory from March 2023 was selected for the analysis.  The data contains landslide areas derived from aerial photography. \n",
    "\n",
    "Citation: Crawford, M.M., 2023. Kentucky Geological Survey landslide inventory [2023-03]: Kentucky Geological Survey Research Data, https://uknowledge.uky.edu/kgs_data/7/, Accessed on 4/4/2024."
   ]
  },
  {
   "cell_type": "code",
   "execution_count": null,
   "metadata": {
    "tags": []
   },
   "outputs": [],
   "source": [
    "# To reduce the file size checked into the WNTR repository, the following code was run on the raw data file\n",
    "\n",
    "#landslide_file = '../data/KGS_Landslide_Inventory_exp.gdb'\n",
    "#landslide_data = gpd.read_file(landslide_file, driver=\"FileGDB\", layer='Areas_derived_from_aerial_photography')\n",
    "#print(landslide_data.crs)\n",
    "#landslide_data = landslide_data.clip(ROI)\n",
    "#landslide_data.to_file(\"../data/ky10_landslide_data.geojson\", index=True, driver='GeoJSON')"
   ]
  },
  {
   "cell_type": "code",
   "execution_count": null,
   "metadata": {
    "scrolled": true
   },
   "outputs": [],
   "source": [
    "# Load the landslide data from file and print the CRS (which is already in EPSG:3089)\n",
    "landslide_file = '../data/ky10_landslide_data.geojson'\n",
    "landslide_data = gpd.read_file(landslide_file) \n",
    "landslide_data.set_index('index', inplace=True)\n",
    "landslide_data.index.name = None\n",
    "print(landslide_data.crs)\n",
    "\n",
    "landslide_data.head()"
   ]
  },
  {
   "cell_type": "code",
   "execution_count": null,
   "metadata": {
    "tags": []
   },
   "outputs": [],
   "source": [
    "# Each landslide is extended to include the surrounding 1000 ft, to create a region that might be impacted by an individual landslide.  \n",
    "# Other datasets or methods could be used to define landslide susceptibility or vulnerability.\n",
    "landslide_regions = landslide_data.copy()\n",
    "landslide_regions['geometry'] = landslide_data.buffer(1000)"
   ]
  },
  {
   "cell_type": "code",
   "execution_count": null,
   "metadata": {
    "tags": []
   },
   "outputs": [],
   "source": [
    "# Plot the landslide data and landslide regions along with pipes\n",
    "ax = landslide_regions.plot(color='gray', alpha=0.5)\n",
    "ax = landslide_data.plot(color='red', label='Landslide data', ax=ax)\n",
    "ax = wn_gis.pipes.plot(color='black', ax=ax)\n",
    "ax.set_title('Landslide and pipe data')\n",
    "# Uncomment the following 2 lines to zoom in on a specific area\n",
    "#ax.set_xlim(5.74e6, 5.76e6)\n",
    "#ax.set_ylim(3.82e6, 3.84e6)"
   ]
  },
  {
   "cell_type": "markdown",
   "metadata": {},
   "source": [
    "## Load Social Vulnerability Index (SVI) GIS data\n",
    "The social vulnerability data used in this tutorial was downloaded from the [Centers for Disease Control and Prevention/Agency for Toxic Substances and Disease Registry](https://www.atsdr.cdc.gov/placeandhealth/svi/index.html). The data contains census and social vulnerability metrics for each census tract. \n",
    "\n",
    "The quantity of interest used in this analysis is \"RPL_THEMES\" which ranks vulnerability across socioeconomic status, household characteristics, racial and ethnic minority status, and housing type and transportation.  The value ranges between 0 and 1, where higher values are associated with higher vulnerability.\n",
    "\n",
    "Citation: Centers for Disease Control and Prevention/Agency for Toxic Substances and Disease Registry/Geospatial Research, Analysis, and Services Program. CDC/ATSDR Social Vulnerability Index 2020 Database Kentucky. https://www.atsdr.cdc.gov/placeandhealth/svi/data_documentation_download.html. Accessed on 4/4/2024."
   ]
  },
  {
   "cell_type": "code",
   "execution_count": null,
   "metadata": {
    "tags": []
   },
   "outputs": [],
   "source": [
    "# To reduce the file size checked into the WNTR repository, the following code was run on the raw data file\n",
    "\n",
    "#svi_file = '../data/SVI2020_KENTUCKY_tract.gdb'\n",
    "#svi_data = gpd.read_file(svi_file, driver=\"FileGDB\", layer='SVI2020_KENTUCKY_tract')\n",
    "#print(svi_data.crs)\n",
    "#svi_data.to_crs(crs, inplace=True)\n",
    "#svi_data = svi_data.clip(ROI)\n",
    "#svi_data.to_file(\"../data/ky10_svi_data.geojson\", index=True, driver='GeoJSON')"
   ]
  },
  {
   "cell_type": "code",
   "execution_count": null,
   "metadata": {
    "tags": []
   },
   "outputs": [],
   "source": [
    "# Load the SVI data from file and print the CRS (which is already in EPSG:3089)\n",
    "svi_file = '../data/ky10_svi_data.geojson'\n",
    "svi_data = gpd.read_file(svi_file)\n",
    "print(svi_data.crs)\n",
    "svi_data.set_index('index', inplace=True)\n",
    "svi_data.index.name = None\n",
    "\n",
    "svi_data.head()"
   ]
  },
  {
   "cell_type": "code",
   "execution_count": null,
   "metadata": {
    "tags": []
   },
   "outputs": [],
   "source": [
    "# Plot SVI data and pipes (higher values of SVI are associated with higher vulnerability)\n",
    "ax = svi_data.plot(column='RPL_THEMES', label='SVI data', cmap='RdYlGn_r', vmin=0, vmax=1, legend=True)\n",
    "ax = wn_gis.pipes.plot(color='black', ax=ax)\n",
    "ax.set_title('SVI and pipe data')"
   ]
  },
  {
   "cell_type": "markdown",
   "metadata": {},
   "source": [
    "# Intersect Water Network Model with GIS data\n",
    "In this section, landslide and SVI data are interested with the water network model."
   ]
  },
  {
   "cell_type": "markdown",
   "metadata": {},
   "source": [
    "## Intersect pipes with landslide regions\n",
    "Pipes are intersected with landslide regions to determine the landslides that could impact each pipe. This information could be used to compute the likelihood that a pipe will be impacted by landslides."
   ]
  },
  {
   "cell_type": "code",
   "execution_count": null,
   "metadata": {
    "tags": []
   },
   "outputs": [],
   "source": [
    "# Determine landslide regions that intersect each pipe and print in order of descending number of intersections.\n",
    "pipe_intersect = wntr.gis.intersect(wn_gis.pipes, landslide_regions)\n",
    "\n",
    "pipe_intersect.sort_values('n', ascending=False).head()"
   ]
  },
  {
   "cell_type": "code",
   "execution_count": null,
   "metadata": {},
   "outputs": [],
   "source": [
    "# Add the intersection data to the water network pipe data\n",
    "wn_gis.pipes[['intersections', 'n']] = pipe_intersect\n",
    "wn_gis.pipes.sort_values('n', ascending=False).head()"
   ]
  },
  {
   "cell_type": "markdown",
   "metadata": {},
   "source": [
    "## Intersect landslide regions with pipes\n",
    "Landslide regions are intersected with pipes to determine the pipes that could be impacted by each landslide.  This information is used to build landslide scenarios."
   ]
  },
  {
   "cell_type": "code",
   "execution_count": null,
   "metadata": {
    "tags": []
   },
   "outputs": [],
   "source": [
    "# Determine pipes that intersect each landslide region, remove landslides that intersect no pipes, and print in order of descending number of intersections.\n",
    "landslide_intersect = wntr.gis.intersect(landslide_regions, wn_gis.pipes)\n",
    "landslide_intersect = landslide_intersect[landslide_intersect['n'] > 0]\n",
    "\n",
    "landslide_intersect.sort_values('n', ascending=False).head()"
   ]
  },
  {
   "cell_type": "code",
   "execution_count": null,
   "metadata": {},
   "outputs": [],
   "source": [
    "# Add the intersection data to the landslide regions data\n",
    "landslide_regions[['intersections', 'n']] = landslide_intersect\n",
    "\n",
    "landslide_regions.sort_values('n', ascending=False).head()"
   ]
  },
  {
   "cell_type": "code",
   "execution_count": null,
   "metadata": {
    "tags": []
   },
   "outputs": [],
   "source": [
    "# Plot intersection results\n",
    "fig, axes = plt.subplots(1,2, figsize=(15,5))\n",
    "\n",
    "wn_gis.pipes.plot(color='gray', alpha=0.5, ax=axes[0])\n",
    "wn_gis.pipes[wn_gis.pipes['n'] > 0].plot(column='n', legend=True, ax=axes[0])\n",
    "axes[0].set_title('Number of landslide regions that intersect each pipe')\n",
    "\n",
    "wn_gis.pipes.plot(color='gray', alpha=0.5, ax=axes[1])\n",
    "landslide_regions.plot(column='n', vmax=10, legend=True, ax=axes[1])\n",
    "axes[1].set_title('Number of pipes that intersect each landslide region')"
   ]
  },
  {
   "cell_type": "markdown",
   "metadata": {},
   "source": [
    "## Intersect junctions with SVI data\n",
    "Junctions are intersected with SVI to determine the social vulnerability of the population at each junction.  This information is used to determine the social vulnerability of individuals that experience water service disruptions."
   ]
  },
  {
   "cell_type": "code",
   "execution_count": null,
   "metadata": {
    "tags": []
   },
   "outputs": [],
   "source": [
    "# Determine the SVI of each junction using \"RPL_THEMES\", which ranks vulnerability across socioeconomic status, household characteristics, \n",
    "# racial and ethnic minority status, and housing type and transportation. The value ranges between 0 and 1, where higher values are associated with higher vulnerability.\n",
    "junction_svi = wntr.gis.intersect(wn_gis.junctions, svi_data, 'RPL_THEMES')\n",
    "junction_svi.head()"
   ]
  },
  {
   "cell_type": "code",
   "execution_count": null,
   "metadata": {},
   "outputs": [],
   "source": [
    "# Select the mean value to use in the analysis\n",
    "wn_gis.junctions['RPL_THEMES'] = junction_svi['mean']"
   ]
  },
  {
   "cell_type": "code",
   "execution_count": null,
   "metadata": {
    "tags": []
   },
   "outputs": [],
   "source": [
    "# Plot SVI for each census track and SVI assigned to each junction\n",
    "fig, axes = plt.subplots(1,2, figsize=(15,5))\n",
    "\n",
    "svi_data.plot(column='RPL_THEMES', label='SVI data', vmin=0, vmax=1, legend=True, ax=axes[0])\n",
    "wn_gis.pipes.plot(color='black', ax=axes[0])\n",
    "axes[0].set_title('SVI and pipe data')\n",
    "\n",
    "wn_gis.pipes.plot(color='gray', alpha=0.5, ax=axes[1])\n",
    "wn_gis.junctions.plot(column='RPL_THEMES', vmin=0, vmax=1, legend=True, ax=axes[1])\n",
    "axes[1].set_title('SVI value at each junction')"
   ]
  },
  {
   "cell_type": "markdown",
   "metadata": {
    "tags": []
   },
   "source": [
    "# Hydraulic Simulations\n",
    "The following section runs hydraulic simulations for the baseline (no landslide) and landslide scenarios. A subset of landslide scenarios is run to simply the tutorial. For each simulation, the water service availability (WSA) at each junction is computed.  WSA is defined as the ratio of delivered demand to the expected demand. A value below 1 indicates that expected demand is not met."
   ]
  },
  {
   "cell_type": "code",
   "execution_count": null,
   "metadata": {
    "tags": []
   },
   "outputs": [],
   "source": [
    "# Create a function to setup the model for hydraulic simulations\n",
    "def model_setup(inp_file):\n",
    "    wn = wntr.network.WaterNetworkModel(inp_file)\n",
    "    wn.options.hydraulic.demand_model = 'PDD'\n",
    "    wn.options.hydraulic.required_pressure = 20 # m\n",
    "    wn.options.hydraulic.minimum_pressure  = 0 # m\n",
    "    wn.options.time.duration = 48*3600 # 48 hour simulation\n",
    "    return wn"
   ]
  },
  {
   "cell_type": "markdown",
   "metadata": {},
   "source": [
    "## Run baseline simulation"
   ]
  },
  {
   "cell_type": "code",
   "execution_count": null,
   "metadata": {
    "tags": []
   },
   "outputs": [],
   "source": [
    "# Run a baseline simulation, with no landslides or damage.  Compute water service availability (WSA) for each junction.\n",
    "wn = model_setup(inp_file)\n",
    "sim = wntr.sim.EpanetSimulator(wn)\n",
    "baseline_results = sim.run_sim()\n",
    "\n",
    "expected_demand = wntr.metrics.expected_demand(wn)\n",
    "demand = baseline_results.node['demand'].loc[:,wn.junction_name_list]\n",
    "wsa = wntr.metrics.water_service_availability(expected_demand.sum(axis=0), demand.sum(axis=0))\n",
    "\n",
    "wsa.head()"
   ]
  },
  {
   "cell_type": "code",
   "execution_count": null,
   "metadata": {
    "tags": []
   },
   "outputs": [],
   "source": [
    "# Add WSA from the base simulation to the junction GIS data\n",
    "wn_gis.junctions['wsa_base'] = wsa"
   ]
  },
  {
   "cell_type": "code",
   "execution_count": null,
   "metadata": {},
   "outputs": [],
   "source": [
    "# Plot WSA from the base simulation\n",
    "ax = wn_gis.pipes.plot(color='black', alpha=0.5)\n",
    "ax = wn_gis.junctions.plot(column='wsa_base', cmap='RdYlGn', vmin=0, vmax=1, legend=True, ax=ax)\n",
    "ax.set_title('Baseline WSA')"
   ]
  },
  {
   "cell_type": "markdown",
   "metadata": {
    "tags": []
   },
   "source": [
    "## Run landslide scenarios\n",
    "Landslide scenarios are down selected by identifying the set of landslides that impact a unique set of pipes.  Scenarios are further down selected to 6 scenarios to simplify the tutorial."
   ]
  },
  {
   "cell_type": "code",
   "execution_count": null,
   "metadata": {
    "tags": []
   },
   "outputs": [],
   "source": [
    "# Down select landslide regions that impact a unique set of pipes\n",
    "duplicated_intersections = landslide_regions['intersections'].astype(str).duplicated()\n",
    "landslide_scenarios = landslide_regions.loc[~duplicated_intersections, :]\n",
    "landslide_scenarios = landslide_scenarios.sort_values('n', ascending=False)\n",
    "\n",
    "landslide_scenarios.head()"
   ]
  },
  {
   "cell_type": "code",
   "execution_count": null,
   "metadata": {
    "tags": []
   },
   "outputs": [],
   "source": [
    "# Further down select the landslide scenarios to a small set for demonstration purposes. Comment out the following line to run a full analysis.\n",
    "landslide_scenarios = landslide_scenarios.loc[[6980, 7003, 7202, 7028,6966, 7058],:]\n",
    "\n",
    "landslide_scenarios"
   ]
  },
  {
   "cell_type": "code",
   "execution_count": null,
   "metadata": {},
   "outputs": [],
   "source": [
    "# Plot the location of landslide regions used in the analysis\n",
    "ax = landslide_scenarios.plot(color='blue')\n",
    "wn_gis.pipes.plot(color='black', alpha=0.5, ax=ax)\n",
    "ax.set_title('Landslide scenarios')"
   ]
  },
  {
   "cell_type": "code",
   "execution_count": null,
   "metadata": {},
   "outputs": [],
   "source": [
    "# Run hydraulic simulations and extract water service availability for each landslide scenario.  \n",
    "# Print the landslide number, the number of pipes that intersect the landslide, and the average WSA\n",
    "results = {}\n",
    "for i, scenario in landslide_scenarios.iterrows():\n",
    "    wn = model_setup(inp_file)\n",
    "    for pipe_i in scenario['intersections']:\n",
    "        pipe_object =wn.get_link(pipe_i)\n",
    "        pipe_object.initial_status = 'CLOSED'\n",
    "    sim = wntr.sim.EpanetSimulator(wn)\n",
    "    results[i] = sim.run_sim()\n",
    "    \n",
    "    # Compute WSA\n",
    "    demand = results[i].node['demand'].loc[:,wn.junction_name_list]\n",
    "    wsa = wntr.metrics.water_service_availability(expected_demand.sum(axis=0), demand.sum(axis=0))\n",
    "    \n",
    "    # Store WSA in the junctions GeoDataFrame\n",
    "    column_name = 'wsa_'+str(i)\n",
    "    wn_gis.junctions[column_name] = wsa\n",
    "    print(i, len(scenario['intersections']), wsa.mean())"
   ]
  },
  {
   "cell_type": "markdown",
   "metadata": {
    "tags": []
   },
   "source": [
    "# Analysis Results\n",
    "The following section plots analysis results, including water service availability for the landslide scenarios and SVI of impacted junctions."
   ]
  },
  {
   "cell_type": "markdown",
   "metadata": {},
   "source": [
    "## Water Service Availability\n",
    "Each scenario includes WSA for each junction.  Note that WSA can be > 1 and < 0 due to numerical differences in expected and actual demand. For certain types of analysis, the WSA should be truncated to values between 0 and 1."
   ]
  },
  {
   "cell_type": "code",
   "execution_count": null,
   "metadata": {
    "tags": []
   },
   "outputs": [],
   "source": [
    "# Extract and plot WSA for 6 scenarios. \n",
    "column_names = ['wsa_'+str(i) for i in landslide_scenarios.iloc[0:6,:].index]\n",
    "wsa_results = wn_gis.junctions[column_names]\n",
    "\n",
    "ax = wsa_results.plot()\n",
    "ax.set_ylim(-0.1, 1.1)"
   ]
  },
  {
   "cell_type": "code",
   "execution_count": null,
   "metadata": {
    "tags": []
   },
   "outputs": [],
   "source": [
    "# Plot WSA for each scenario\n",
    "fig, axes = plt.subplots(2,3, figsize=(15,10))\n",
    "axes = axes.flatten()\n",
    "axes_counter = 0\n",
    "\n",
    "for i, scenario in landslide_scenarios.iterrows():\n",
    "    wsa_column_name = 'wsa_'+str(i)\n",
    "    ax = axes[axes_counter]\n",
    "    ax = wn_gis.pipes.plot(color='black', alpha=0.5, ax=ax)\n",
    "    wn_gis.junctions.plot(column=wsa_column_name, cmap='RdYlGn', vmin=0, vmax=1, legend=True, ax=ax)\n",
    "    ax = landslide_scenarios.loc[[i],:].boundary.plot(color='blue', ax=ax)\n",
    "    ax.set_title('Landslide ' + str(i))\n",
    "    axes_counter = axes_counter + 1"
   ]
  },
  {
   "cell_type": "markdown",
   "metadata": {},
   "source": [
    "## SVI of impacted junctions\n",
    "In this analysis, impacted junctions are defined as junctions where WSA falls below 0.5 (50% of the water expected was received) at any time during the simulation. Other criteria could also be used to defined impact."
   ]
  },
  {
   "cell_type": "code",
   "execution_count": null,
   "metadata": {
    "tags": []
   },
   "outputs": [],
   "source": [
    "# Identify and print junctions that have WSA < 0.5\n",
    "impacted = (wsa_results < 0.5).any(axis=1)\n",
    "impacted_junctions = impacted[impacted == True].index\n",
    "\n",
    "impacted_junctions"
   ]
  },
  {
   "cell_type": "code",
   "execution_count": null,
   "metadata": {
    "tags": []
   },
   "outputs": [],
   "source": [
    "# Plot the SVI of impacted junctions\n",
    "ax = wn_gis.pipes.plot(color='black', alpha=0.5)\n",
    "wn_gis.junctions.loc[impacted_junctions,:].plot(column='RPL_THEMES', cmap='RdYlGn_r',vmin=0, vmax=1, legend=True, ax=ax)\n",
    "ax.set_title('SVI of impacted junctions')"
   ]
  },
  {
   "cell_type": "markdown",
   "metadata": {},
   "source": [
    "## Save analysis results to GIS files\n",
    "Results that are added to the `wn_gis` object can be saved to GIS formatted files.  Note that lists (such as the information stored in 'intersections') is not JSON serializable and must first be removed.  The resulting GIS files contain WSA per scenario and can be loaded into GIS platforms for further analysis."
   ]
  },
  {
   "cell_type": "code",
   "execution_count": null,
   "metadata": {
    "tags": []
   },
   "outputs": [],
   "source": [
    "del wn_gis.pipes['intersections']\n",
    "wn_gis.write_geojson('ky10_analysis_results')"
   ]
  },
  {
   "cell_type": "code",
   "execution_count": null,
   "metadata": {},
   "outputs": [],
   "source": []
  }
 ],
 "metadata": {
  "kernelspec": {
   "display_name": "Python 3 (ipykernel)",
   "language": "python",
   "name": "python3"
  },
  "language_info": {
   "codemirror_mode": {
    "name": "ipython",
    "version": 3
   },
   "file_extension": ".py",
   "mimetype": "text/x-python",
   "name": "python",
   "nbconvert_exporter": "python",
   "pygments_lexer": "ipython3",
   "version": "3.11.5"
  },
  "toc-autonumbering": true,
  "vscode": {
   "interpreter": {
    "hash": "45e5fc2add644b17ca9d771f06d4d0791b1baf8fc0ad9b13d75afaf563ce7ce4"
   }
  }
 },
 "nbformat": 4,
 "nbformat_minor": 4
}
