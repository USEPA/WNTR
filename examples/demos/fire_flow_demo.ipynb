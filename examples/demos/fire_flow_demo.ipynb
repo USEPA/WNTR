{
 "cells": [
  {
   "cell_type": "markdown",
   "metadata": {},
   "source": [
    "# WNTR Fire Flow Demo\n",
    "This demonstration covers how to run simple fire flow analysis using WNTR.\n",
    "\n",
    "### 1 Simulation set up\n",
    "\n",
    "#### 1a Import packages\n",
    "Numpy and Matplotlib are required to support data handling and graphics/plotting. "
   ]
  },
  {
   "cell_type": "code",
   "execution_count": null,
   "metadata": {},
   "outputs": [],
   "source": [
    "import wntr\n",
    "import matplotlib\n",
    "import matplotlib.pylab as plt\n",
    "import numpy as np\n",
    "\n",
    "# Set colormap for network maps\n",
    "cmap=matplotlib.colormaps['viridis']"
   ]
  },
  {
   "cell_type": "markdown",
   "metadata": {},
   "source": [
    "#### 1b Create a water network model\n",
    "If adapting code for a different INP file, code for 1b and 1c need to be changed to reflect the correct file path and desired simulation parameters."
   ]
  },
  {
   "cell_type": "code",
   "execution_count": null,
   "metadata": {},
   "outputs": [],
   "source": [
    "# Identify file path to inp file\n",
    "inp_file = \"../networks/Net3.inp\"\n",
    "\n",
    "# Create water network model \n",
    "wn = wntr.network.WaterNetworkModel(inp_file)\n",
    "\n",
    "# Calculate population per junction\n",
    "population = wntr.metrics.population(wn)"
   ]
  },
  {
   "cell_type": "markdown",
   "metadata": {},
   "source": [
    "#### 1c Define fire flow parameters\n",
    "The parameters `minimum_pressure` and `required_pressure` are used for PDD simulations. Nodes with pressures below minimum pressure will not receive any water, and node pressures need to be at least the required pressure to receive all of the requested demand.\n",
    "\n",
    "Assuming that there are hydrants at every junction in the network model, hydrants of interest are identified as nodes connnected to pipe diameters of interest. For this reason, a range of pipe diameters to include in the analysis needs to be identified."
   ]
  },
  {
   "cell_type": "code",
   "execution_count": null,
   "metadata": {},
   "outputs": [],
   "source": [
    "# Define simulation parameters \n",
    "start_time = 2*3600 # 2 hours\n",
    "fire_duration = 4*3600 # 4 hours\n",
    "total_duration = start_time + fire_duration\n",
    "\n",
    "fire_demand = 0.5047 # 8000 GPM\n",
    "\n",
    "minimum_pressure = 3.52 # 5 psi\n",
    "required_pressure = 14.06 # 20 psi\n",
    "\n",
    "min_pipe_diam = 0.1524 # 6 inch\n",
    "max_pipe_diam = 0.2032 # 8 inch"
   ]
  },
  {
   "cell_type": "markdown",
   "metadata": {},
   "source": [
    "### 2 Check normal conditions \n",
    "\n",
    "#### 2a Identify non-zero demand (NZD) junctions that fall below minimum pressure during normal conditions \n",
    "This step helps determine which junctions that experience low pressures during the disaster simulation are a direct result of the disaster (step 4). "
   ]
  },
  {
   "cell_type": "code",
   "execution_count": null,
   "metadata": {},
   "outputs": [],
   "source": [
    "# Calculate average expected demand and identify junctions with non-zero average expected demand (AED)\n",
    "AED = wntr.metrics.average_expected_demand(wn)\n",
    "nzd_junct = AED[AED > 0].index\n",
    "\n",
    "# Set hydraulic parameters\n",
    "wn.options.hydraulic.demand_model = 'PDD'    \n",
    "wn.options.time.duration = total_duration\n",
    "wn.options.hydraulic.minimum_pressure = minimum_pressure\n",
    "wn.options.hydraulic.required_pressure = required_pressure \n",
    "\n",
    "# Run simulation\n",
    "sim = wntr.sim.WNTRSimulator(wn)\n",
    "results = sim.run_sim()\n",
    "\n",
    "# Save junction pressure results and identify junctions that fall below minimum pressure\n",
    "pressure = results.node['pressure'].loc[start_time::, nzd_junct]\n",
    "normal_pressure_below_pmin = pressure.columns[(pressure < minimum_pressure).any()]"
   ]
  },
  {
   "cell_type": "markdown",
   "metadata": {},
   "source": [
    "### 3 Identify hydrant locations \n",
    "\n",
    "#### 3a Query pipes to include in analysis"
   ]
  },
  {
   "cell_type": "code",
   "execution_count": null,
   "metadata": {},
   "outputs": [],
   "source": [
    "# Queries pipes with diameters within diameter bounds set in 1b \n",
    "pipe_diameter = wn.query_link_attribute('diameter')\n",
    "pipes_of_interest = pipe_diameter[(pipe_diameter <= max_pipe_diam) & (pipe_diameter >= min_pipe_diam)]"
   ]
  },
  {
   "cell_type": "markdown",
   "metadata": {},
   "source": [
    "#### 3b Find junctions connected to pipes of interest"
   ]
  },
  {
   "cell_type": "code",
   "execution_count": null,
   "metadata": {},
   "outputs": [],
   "source": [
    "# Queries junctions connected to pipes of interest\n",
    "junct_of_interest = set()\n",
    "for pipe_name in pipes_of_interest.index:\n",
    "    pipe = wn.get_link(pipe_name)\n",
    "    if pipe.start_node_name in wn.junction_name_list:\n",
    "        junct_of_interest.add(pipe.start_node_name)\n",
    "    if pipe.end_node_name in wn.junction_name_list:\n",
    "        junct_of_interest.add(pipe.end_node_name)"
   ]
  },
  {
   "cell_type": "markdown",
   "metadata": {},
   "source": [
    "### 4 Simulate hydraulics\n",
    "\n",
    "A try/except/finally approach is taken to ensure the script can finish running and still catch any convergence issues increased fire flow might cause. A user can revisit nodes with failed simulations individually to determine the cause of failure, if desired. "
   ]
  },
  {
   "cell_type": "code",
   "execution_count": null,
   "metadata": {},
   "outputs": [],
   "source": [
    "# Create dictionary to save results\n",
    "analysis_results = {}\n",
    "\n",
    "# Simulate fire flow demand for each hydrant location\n",
    "for junct in junct_of_interest:\n",
    "    wn = wntr.network.WaterNetworkModel(inp_file)\n",
    "    wn.options.hydraulic.demand_model = 'PDD'    \n",
    "    wn.options.time.duration = total_duration\n",
    "    wn.options.hydraulic.minimum_pressure = minimum_pressure\n",
    "    wn.options.hydraulic.required_pressure = required_pressure\n",
    "\n",
    "    # Create fire flow pattern\n",
    "    fire_flow_pattern = wntr.network.elements.Pattern.binary_pattern(\n",
    "        'fire_flow',\n",
    "        start_time=start_time,\n",
    "        end_time=total_duration,\n",
    "        step_size=wn.options.time.pattern_timestep,\n",
    "        duration=wn.options.time.duration\n",
    "        )\n",
    "    wn.add_pattern('fire_flow', fire_flow_pattern)\n",
    "\n",
    "    # Apply fire flow pattern to hydrant location\n",
    "    fire_junct = wn.get_node(junct)\n",
    "    fire_junct.demand_timeseries_list.append((fire_demand, fire_flow_pattern, 'Fire flow'))\n",
    "\n",
    "    try:\n",
    "        # Simulate hydraulics\n",
    "        sim = wntr.sim.WNTRSimulator(wn) \n",
    "        sim_results = sim.run_sim()\n",
    " \n",
    "        # Using pressure results, identify impacted junctions\n",
    "        sim_pressure = sim_results.node['pressure'].loc[start_time::, nzd_junct]\n",
    "        sim_pressure_below_pmin = sim_pressure.columns[(sim_pressure < minimum_pressure).any()]\n",
    "        impacted_junctions = set(sim_pressure_below_pmin) - set(normal_pressure_below_pmin)\n",
    "        impacted_junctions = list(impacted_junctions)\n",
    "        \n",
    "    except Exception as e:\n",
    "        # Identify failed simulations and the reason\n",
    "        impacted_junctions = None\n",
    "        print(junct, ' Failed:', e)\n",
    "\n",
    "    finally:\n",
    "        # Save simulation results\n",
    "        analysis_results[junct] = impacted_junctions"
   ]
  },
  {
   "cell_type": "markdown",
   "metadata": {},
   "source": [
    "### 5 Visualize results\n",
    "\n",
    "#### 5a Calculate junction and population impacts"
   ]
  },
  {
   "cell_type": "code",
   "execution_count": null,
   "metadata": {},
   "outputs": [],
   "source": [
    "# Save junction and population impact results to dictionary\n",
    "num_junctions_impacted = {}\n",
    "num_people_impacted = {}\n",
    "for pipe_name, impacted_junctions in analysis_results.items():\n",
    "    if impacted_junctions is not None:\n",
    "        num_junctions_impacted[pipe_name] = len(impacted_junctions)\n",
    "        num_people_impacted[pipe_name] = population[impacted_junctions].sum()"
   ]
  },
  {
   "cell_type": "markdown",
   "metadata": {},
   "source": [
    "#### 5b Plot results\n",
    "If a different INP file from the example Net3.inp file is being used, the parameter `node_range` can be adjusted to better suit the simulation results."
   ]
  },
  {
   "cell_type": "code",
   "execution_count": null,
   "metadata": {},
   "outputs": [],
   "source": [
    "#Plot junctions impacted due to increased fire flow\n",
    "wntr.graphics.plot_network(wn, node_attribute=num_junctions_impacted, node_size=20, link_width=0, \n",
    "                           node_range=[0,5], node_cmap = cmap, node_colorbar_label='Junctions Impacted', \n",
    "                           title='Number of junctions impacted by each fire flow demand')\n",
    "\n",
    "#Plot population impacted due to increased fire flow\n",
    "wntr.graphics.plot_network(wn, node_attribute=num_people_impacted, node_size=20, link_width=0, \n",
    "                           node_range=[0,2500], node_cmap = cmap, node_colorbar_label='Population Impacted',\n",
    "                           title='Number of people impacted by each fire flow demand')                    "
   ]
  },
  {
   "cell_type": "markdown",
   "metadata": {},
   "source": [
    "#### Data Testing\n",
    "The following code is included for data testing and is not required for fire flow analysis."
   ]
  },
  {
   "cell_type": "code",
   "execution_count": null,
   "metadata": {},
   "outputs": [],
   "source": [
    "import pandas as pd\n",
    "\n",
    "# Test simulation results\n",
    "# Import expected results\n",
    "junct_test = pd.read_csv('../../wntr/tests/data_for_testing/fire_flow_demo_junction_test_data.csv', index_col=0).squeeze('columns').to_dict()\n",
    "junct_test = {str(key): value for key, value in junct_test.items()}\n",
    "\n",
    "people_test = pd.read_csv('../../wntr/tests/data_for_testing/fire_flow_demo_people_test_data.csv', index_col=0).squeeze('columns').to_dict()\n",
    "people_test = {str(key): value for key, value in people_test.items()}\n",
    "\n",
    "# Check if simulation results match expected results\n",
    "assert num_junctions_impacted == junct_test, \"impacted junction results differ\"\n",
    "assert num_people_impacted == people_test, \"impacted people results differ\""
   ]
  },
  {
   "cell_type": "code",
   "execution_count": null,
   "metadata": {},
   "outputs": [],
   "source": [
    "num_junctions_impacted.keys() == people_test.keys()"
   ]
  },
  {
   "cell_type": "code",
   "execution_count": null,
   "metadata": {},
   "outputs": [],
   "source": [
    "pd.Series(people_test).sort_index()"
   ]
  },
  {
   "cell_type": "code",
   "execution_count": null,
   "metadata": {},
   "outputs": [],
   "source": [
    "pd.Series(num_junctions_impacted).sort_index()"
   ]
  }
 ],
 "metadata": {
  "kernelspec": {
   "display_name": "Python 3 (ipykernel)",
   "language": "python",
   "name": "python3"
  },
  "language_info": {
   "codemirror_mode": {
    "name": "ipython",
    "version": 3
   },
   "file_extension": ".py",
   "mimetype": "text/x-python",
   "name": "python",
   "nbconvert_exporter": "python",
   "pygments_lexer": "ipython3",
   "version": "3.9.7"
  },
  "vscode": {
   "interpreter": {
    "hash": "45e5fc2add644b17ca9d771f06d4d0791b1baf8fc0ad9b13d75afaf563ce7ce4"
   }
  }
 },
 "nbformat": 4,
 "nbformat_minor": 4
}
