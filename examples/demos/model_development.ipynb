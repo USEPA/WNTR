{
 "cells": [
  {
   "cell_type": "markdown",
   "metadata": {},
   "source": [
    "# Developing a model from limited data"
   ]
  },
  {
   "cell_type": "markdown",
   "metadata": {},
   "source": [
    "This notebook presents an example where a new water distribution system network is created from imperfect and missing data. The KY4 network was used as the \"perfect\" system model; it was then disassembled and the data truncated and skewed to make the \"imperfect\" data that will be used to create a new model."
   ]
  },
  {
   "cell_type": "code",
   "execution_count": null,
   "metadata": {},
   "outputs": [],
   "source": [
    "## Initial imports and setup\n",
    "import geopandas as gpd\n",
    "import numpy as np\n",
    "import matplotlib.pylab as plt\n",
    "import wntr\n",
    "\n",
    "crs = \"EPSG:3547\"  # ft\n",
    "\n",
    "distance_threshold = 100.0"
   ]
  },
  {
   "cell_type": "code",
   "execution_count": null,
   "metadata": {},
   "outputs": [],
   "source": [
    "# TODO, add metadata to hide this cell\n",
    "wn0 = wntr.network.WaterNetworkModel(\"../networks/ky4.inp\")\n",
    "wn0.options.time.duration = 24 * 3600\n",
    "sim = wntr.sim.EpanetSimulator(wn0)\n",
    "results0 = sim.run_sim()\n",
    "pressure0 = results0.node[\"pressure\"].loc[24 * 3600, :]\n",
    "wntr.graphics.plot_network(wn0, node_attribute=pressure0, node_size=30, title=\"Pressure\")\n",
    "wntr.network.io.write_geojson(wn0, \"../data/ky4\", crs=crs)\n",
    "\n",
    "# junctions should have base demand (see PR)\n",
    "aed0 = wntr.metrics.average_expected_demand(wn0)\n",
    "print(aed0)\n",
    "for name, control in wn0.controls():\n",
    "    print(name, control)\n",
    "for name, pattern in wn0.patterns():\n",
    "    print(name, pattern.multipliers)"
   ]
  },
  {
   "cell_type": "code",
   "execution_count": null,
   "metadata": {},
   "outputs": [],
   "source": [
    "# Option 1, direct from GeoJSON files\n",
    "geojson_files = {\n",
    "    \"junctions\": \"../data/ky4_junctions.geojson\",\n",
    "    \"tanks\": \"../data/ky4_tanks.geojson\",\n",
    "    \"reservoirs\": \"../data/ky4_reservoirs.geojson\",\n",
    "    \"pipes\": \"../data/ky4_pipes.geojson\",\n",
    "    \"pumps\": \"../data/ky4_pumps.geojson\",\n",
    "}\n",
    "wn = wntr.network.read_geojson(geojson_files)"
   ]
  },
  {
   "cell_type": "code",
   "execution_count": null,
   "metadata": {},
   "outputs": [],
   "source": [
    "# Option 2, from GeoDataFrames\n",
    "junctions = gpd.read_file(\"../data/ky4_junctions.geojson\", crs=crs)\n",
    "tanks = gpd.read_file(\"../data/ky4_tanks.geojson\", crs=crs)\n",
    "reservoirs = gpd.read_file(\"../data/ky4_reservoirs.geojson\", crs=crs)\n",
    "pipes = gpd.read_file(\"../data/ky4_pipes.geojson\", crs=crs)\n",
    "pumps = gpd.read_file(\"../data/ky4_pumps.geojson\", crs=crs)\n",
    "\n",
    "junctions.set_index(\"name\", inplace=True)\n",
    "tanks.set_index(\"name\", inplace=True)\n",
    "reservoirs.set_index(\"name\", inplace=True)\n",
    "pipes.set_index(\"name\", inplace=True)\n",
    "pumps.set_index(\"name\", inplace=True)\n",
    "\n",
    "gis_data = wntr.gis.WaterNetworkGIS(\n",
    "    {\n",
    "        \"junctions\": junctions,\n",
    "        \"tanks\": tanks,\n",
    "        \"reservoirs\": reservoirs,\n",
    "        \"pipes\": pipes,\n",
    "        \"pumps\": pumps,\n",
    "    }\n",
    ")\n",
    "wn = wntr.network.from_gis(gis_data)"
   ]
  },
  {
   "cell_type": "code",
   "execution_count": null,
   "metadata": {},
   "outputs": [],
   "source": [
    "pump = wn.get_link(\"~@Pump-1\")\n",
    "pump.initial_status = \"Closed\""
   ]
  },
  {
   "cell_type": "code",
   "execution_count": null,
   "metadata": {},
   "outputs": [],
   "source": [
    "line = \"LINK ~@Pump-1 OPEN IF NODE T-3 BELOW  27.6606\"  # 90.75 ft\n",
    "wn.add_control(\"Pump1_open\", line)\n",
    "line = \"LINK ~@Pump-1 CLOSED IF NODE T-3 ABOVE  32.2326\"  # 105.75 ft\n",
    "wn.add_control(\"Pump1_closed\", line)"
   ]
  },
  {
   "cell_type": "code",
   "execution_count": null,
   "metadata": {},
   "outputs": [],
   "source": [
    "# Add patterns\n",
    "multipliers = [\n",
    "    0.33,\n",
    "    0.25,\n",
    "    0.209,\n",
    "    0.209,\n",
    "    0.259,\n",
    "    0.36,\n",
    "    0.529,\n",
    "    0.91,\n",
    "    1.2,\n",
    "    1.299,\n",
    "    1.34,\n",
    "    1.34,\n",
    "    1.32,\n",
    "    1.269,\n",
    "    1.25,\n",
    "    1.25,\n",
    "    1.279,\n",
    "    1.37,\n",
    "    1.519,\n",
    "    1.7,\n",
    "    1.75,\n",
    "    1.669,\n",
    "    0.899,\n",
    "    0.479,\n",
    "]\n",
    "default_pattern_name = wn.options.hydraulic.pattern\n",
    "wn.add_pattern(default_pattern_name, multipliers)"
   ]
  },
  {
   "cell_type": "code",
   "execution_count": null,
   "metadata": {},
   "outputs": [],
   "source": [
    "aed = wntr.metrics.average_expected_demand(wn)\n",
    "print(aed)\n",
    "\n",
    "# Run simulation, plot_results\n",
    "# TODO, this shoudl be 24, but the simulation doesn't run to completion, due to demands?\n",
    "wn.options.time.duration = 0  # 24*3600\n",
    "sim = wntr.sim.EpanetSimulator(wn)\n",
    "results = sim.run_sim()\n",
    "pressure = results.node[\"pressure\"].loc[0, :]\n",
    "wntr.graphics.plot_network(wn, node_attribute=pressure, node_size=30, title=\"Pressure\")"
   ]
  },
  {
   "cell_type": "markdown",
   "metadata": {},
   "source": [
    "### Create a model from imperfect geospatial data"
   ]
  },
  {
   "cell_type": "code",
   "execution_count": null,
   "metadata": {},
   "outputs": [],
   "source": [
    "# Load pipe data\n",
    "# Missing junctions (no start and end node names or locations)\n",
    "# Pipe endpoints are not aligned\n",
    "diconnected_pipes = gpd.read_file(\"../data/ky4_disconnected_pipes.geojson\")\n",
    "# pipes.set_index('index', inplace=True)\n",
    "# del pipes['start_node']\n",
    "# del pipes['end_node_n']\n",
    "pipesA, junctionsA = wntr.gis.geospatial.reconnect_network(diconnected_pipes, distance_threshold)"
   ]
  },
  {
   "cell_type": "code",
   "execution_count": null,
   "metadata": {},
   "outputs": [],
   "source": [
    "fig, ax = plt.subplots()\n",
    "diconnected_pipes.plot(color=\"b\", linewidth=4, ax=ax)\n",
    "pipesA.plot(color=\"r\", linewidth=2, ax=ax)\n",
    "junctionsA.plot(color=\"k\", ax=ax)"
   ]
  },
  {
   "cell_type": "code",
   "execution_count": null,
   "metadata": {},
   "outputs": [],
   "source": [
    "junctionsB = gpd.GeoDataFrame(junctionsA, columns=[\"geometry\"])\n",
    "junctionsB[\"base_demand\"] = 0\n",
    "junctionsB[\"elevation\"] = 0\n",
    "pipesB = pipesA.rename(columns={\"new_start_node\": \"start_node_name\", \"new_end_node\": \"end_node_name\"}).set_index(\n",
    "    \"index\"\n",
    ")\n",
    "junctionsB"
   ]
  },
  {
   "cell_type": "code",
   "execution_count": null,
   "metadata": {},
   "outputs": [],
   "source": [
    "# build the wn_gis object\n",
    "gis_data = wntr.gis.WaterNetworkGIS(\n",
    "    {\n",
    "        \"junctions\": junctionsB,\n",
    "        #'tanks': tanks,\n",
    "        #'reservoirs': reservoirs,\n",
    "        \"pipes\": pipesB,\n",
    "        #'pumps': pumps\n",
    "    }\n",
    ")\n",
    "wn = wntr.network.from_gis(gis_data)  # TODO this won't work until PR 452 is merged\n",
    "wntr.graphics.plot_network(wn, node_attribute=pressure, node_size=30, title=\"elevation\")"
   ]
  },
  {
   "cell_type": "code",
   "execution_count": null,
   "metadata": {},
   "outputs": [],
   "source": [
    "# TODO, recreate this file using complete column names and no start or end node names\n",
    "# TODO rename the file 'ky4_diconnected_pipes.geojson'\n",
    "# TODO rename 'index' to 'name'\n",
    "# TODO same crs as above\n",
    "diconnected_pipes = gpd.read_file(\"../data/ky4_disconnected_pipes.geojson\", crs=crs)\n",
    "diconnected_pipes.set_index(\"index\", inplace=True)\n",
    "\n",
    "pipes, junctions = wntr.gis.geospatial.connect_lines(diconnected_pipes, distance_threshold)"
   ]
  },
  {
   "cell_type": "code",
   "execution_count": null,
   "metadata": {},
   "outputs": [],
   "source": [
    "fig, ax = plt.subplots()\n",
    "diconnected_pipes.plot(color=\"b\", linewidth=4, ax=ax)\n",
    "pipes.plot(color=\"r\", linewidth=2, ax=ax)\n",
    "junctions.plot(color=\"k\", ax=ax)\n",
    "\n",
    "# The following lines should not be needed, see PR\n",
    "junctions[\"node_type\"] = \"Junction\"\n",
    "pipes[\"link_type\"] = \"Pipe\"\n",
    "\n",
    "# Assign elevation to junctions - using raster\n",
    "# TODO\n",
    "junctions[\"elevation\"] = 100\n",
    "\n",
    "# Load reservoir - complete dataset, location and head\n",
    "reservoirs = gpd.read_file(\"../data/ky4_reservoirs.geojson\", crs=crs)\n",
    "reservoirs.set_index(\"name\", inplace=True)\n",
    "# TODO snap reservoirs to nearest junction\n",
    "# snap_reservoirs = wntr.gis.snap(reservoirs, junctions, distance_threshold)\n",
    "\n",
    "# Load tank data - complete dataset, location, min/max level, diameter\n",
    "tanks = gpd.read_file(\"../data/ky4_tanks.geojson\", crs=crs)\n",
    "tanks.set_index(\"name\", inplace=True)\n",
    "# TODO snap tanks to nearest junction\n",
    "\n",
    "# Load pump data - location, settings, start, end node)\n",
    "pumps = gpd.read_file(\"../data/ky4_pumps.geojson\", crs=crs)\n",
    "pumps.set_index(\"name\", inplace=True)\n",
    "# TODO snap end points to nearest junction, add pump and close bipass?\n",
    "\n",
    "\n",
    "# build the wn_gis object\n",
    "# TODO, add back in tanks, reservoirs, and pumps\n",
    "gis_data = wntr.gis.WaterNetworkGIS(\n",
    "    {\n",
    "        \"junctions\": junctions,\n",
    "        #'tanks': tanks,\n",
    "        #'reservoirs': reservoirs,\n",
    "        \"pipes\": pipes,\n",
    "        #'pumps': pumps\n",
    "    }\n",
    ")\n",
    "wn = wntr.network.from_gis(gis_data)  # TODO this won't work until PR 452 is merged"
   ]
  },
  {
   "cell_type": "code",
   "execution_count": null,
   "metadata": {},
   "outputs": [],
   "source": [
    "# Add controls, initial status, and pattern (same code as above)\n",
    "\n",
    "# Add demands, estimated from building size\n",
    "buildings = gpd.read_file(\"../data/ky4_buildings.geojson\", crs=crs)\n",
    "buildings.to_crs(crs, inplace=True)\n",
    "buildings[\"area\"] = buildings.area\n",
    "buildings[\"base_demand\"] = buildings[\"area\"] / 0.00001\n",
    "\n",
    "buildings.geometry = buildings.geometry.centroid\n",
    "snap_buildings = wntr.gis.snap(buildings, junctions, distance_threshold)\n",
    "buildings[\"junction\"] = None\n",
    "buildings.loc[snap_buildings.index, \"junction\"] = snap_buildings.loc[:, \"node\"]"
   ]
  },
  {
   "cell_type": "code",
   "execution_count": null,
   "metadata": {},
   "outputs": [],
   "source": [
    "category = None\n",
    "pattern_name = \"1\"\n",
    "print(buildings)\n",
    "for i, row in buildings.iterrows():\n",
    "    junction_name = buildings.loc[i, \"junction\"]\n",
    "    if junction_name is None:\n",
    "        continue\n",
    "    base_demand = buildings.loc[i, \"base_demand\"]\n",
    "    junction = wn.get_node(junction_name)\n",
    "    junction.demand_timeseries_list.append((base_demand, pattern_name, category))\n",
    "wntr.graphics.plot_network(wn, node_attribute=pressure, node_size=30, title=\"elevation\")\n",
    "# Run simulation, plot_results\n",
    "wn.options.time.duration = 24 * 3600\n",
    "sim = wntr.sim.EpanetSimulator(wn)\n",
    "results = sim.run_sim()\n",
    "pressure = results.node[\"pressure\"].loc[24 * 3600, :]"
   ]
  },
  {
   "cell_type": "code",
   "execution_count": null,
   "metadata": {},
   "outputs": [],
   "source": []
  }
 ],
 "metadata": {
  "kernelspec": {
   "display_name": "Python 3",
   "language": "python",
   "name": "python3"
  },
  "language_info": {
   "codemirror_mode": {
    "name": "ipython",
    "version": 3
   },
   "file_extension": ".py",
   "mimetype": "text/x-python",
   "name": "python",
   "nbconvert_exporter": "python",
   "pygments_lexer": "ipython3",
   "version": "3.12.1"
  }
 },
 "nbformat": 4,
 "nbformat_minor": 2
}
