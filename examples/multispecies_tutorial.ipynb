{
 "cells": [
  {
   "cell_type": "markdown",
   "metadata": {},
   "source": [
    "# WNTR Multi-species Water Quality Tutorial\n",
    "The following tutorial replicates the simple multi-species example of chlorine decay taken from the \n",
    " [EPANET-MSX user manual](https://cfpub.epa.gov/si/si_public_record_report.cfm?dirEntryId=358205&Lab=CESER). The Net3 example network from EPANET is used, and two \n",
    "different decay coefficients are assigned - one for each source of water.\n",
    "The river uses decay coefficient k1, the lake uses decay coefficient k2, and \n",
    "the two values are an order of magnitude different. A parameter sensitivity is also performed\n",
    "to look at the effects of different decay coefficients for the river source."
   ]
  },
  {
   "cell_type": "markdown",
   "metadata": {},
   "source": [
    "## Imports\n",
    "Import WNTR and additional Python packages that are needed for the tutorial.\n",
    "- Pprint is used to \"pretty-print\" data structures, making them more readable\n",
    "- JSON is used to work with JSON data\n",
    "- Matplotlib is used to create graphics"
   ]
  },
  {
   "cell_type": "code",
   "execution_count": null,
   "metadata": {},
   "outputs": [],
   "source": [
    "from pprint import pprint\n",
    "import json\n",
    "import matplotlib.pyplot as plt\n",
    "\n",
    "import wntr\n",
    "from wntr.msx.elements import InitialQuality\n",
    "from wntr.library.msx import MsxLibrary\n",
    "from wntr.msx import io as msxio"
   ]
  },
  {
   "cell_type": "markdown",
   "metadata": {},
   "source": [
    "# Create the water network model \n",
    "It is advised to remove the EPANET quality parameter to avoid conflicts in the water quality analysis.  "
   ]
  },
  {
   "cell_type": "code",
   "execution_count": null,
   "metadata": {},
   "outputs": [],
   "source": [
    "# Create a WaterNetworkModel from an EPANET input (INP) file\n",
    "wn = wntr.network.WaterNetworkModel(\"networks/Net3.inp\")\n",
    "# Set the water quality parameter to none\n",
    "wn.options.quality.parameter = \"NONE\""
   ]
  },
  {
   "cell_type": "markdown",
   "metadata": {},
   "source": [
    "## Define a new multi-species (MSX) reaction model"
   ]
  },
  {
   "cell_type": "code",
   "execution_count": null,
   "metadata": {},
   "outputs": [],
   "source": [
    "# Define the MSX model from the EPANET-MSX user manual\n",
    "wn.add_msx_model()\n",
    "wn.msx.title = \"Multisource Chlorine Decay\"\n",
    "wn.msx.references.append(\n",
    "    \"\"\"(2023) Shang, F., L. Rossman, and J. Uber. \n",
    "\"EPANET-MSX 2.0 User Manual\". EPA/600/R-22/199\"\"\"\n",
    ")\n",
    "\n",
    "# Set the MSX options for the simumulation\n",
    "wn.msx.options.area_units = \"FT2\"\n",
    "wn.msx.options.rate_units = \"DAY\"\n",
    "wn.msx.options.timestep = 300"
   ]
  },
  {
   "cell_type": "markdown",
   "metadata": {},
   "source": [
    "## Add the MSX reaction dynamics information\n",
    "For this tutorial, the reaction dynamics come from the EPANET-MSX user manual. Two species are tracked: free chlorine (Cl2) and a tracer (T1). The tracer is used to select the appropriate decay coefficient. The river is source 1 and the lake is source 2.\n",
    "\n",
    "The amount of free chlorine is based on the reaction rate equation:\n",
    "\n",
    "$$\n",
    "    \\frac{d}{dt}\\mathrm{Cl_2} = -(k_1 T_1 + k_2(1-T_1)) \\mathrm{Cl_2}\n",
    "$$"
   ]
  },
  {
   "cell_type": "code",
   "execution_count": null,
   "metadata": {},
   "outputs": [],
   "source": [
    "# Define the MSX species, T1 and CL2, to be tracked in the simulation\n",
    "T1 = wn.msx.add_species(\"T1\", \"bulk\", units=\"MG\", note=\"Source 1 Tracer\")\n",
    "Cl2 = wn.msx.add_species(\"CL2\", \"bulk\", units=\"MG\", note=\"Free Chlorine\")\n",
    "# Print the parameters for T1 and Cl2\n",
    "print(repr(T1))\n",
    "print(repr(Cl2))"
   ]
  },
  {
   "cell_type": "code",
   "execution_count": null,
   "metadata": {},
   "outputs": [],
   "source": [
    "# Define the decay coefficient for each water source\n",
    "k1 = wn.msx.add_constant(\"k1\", 1.3, units=\"1/day\")\n",
    "k2 = wn.msx.add_constant(\"k2\", 17.7, units=\"1/day\")\n",
    "# Print the parameters for k1 and k2\n",
    "print(repr(k1))\n",
    "print(repr(k2))"
   ]
  },
  {
   "cell_type": "code",
   "execution_count": null,
   "metadata": {},
   "outputs": [],
   "source": [
    "# Define the reaction equations for T1 and Cl2\n",
    "rxn_T1 = wn.msx.add_reaction(\"T1\", \"pipe\", \"rate\", \"0\")\n",
    "rxn_Cl2 = wn.msx.add_reaction(\"CL2\", \"pipe\", \"rate\", \"-(k1*T1 + k2*(1-T1))*CL2\")\n",
    "# Print the parameters for the Cl2 reaction\n",
    "print(repr(rxn_Cl2))"
   ]
  },
  {
   "cell_type": "markdown",
   "metadata": {},
   "source": [
    "## Set the initial quality values for the species\n",
    "The initial quality values are set for the two species being simulated. The river's tracer, T1, is set to 1.0. The free chlorine species, Cl2, is set to 1.2 mg/L at both sources (river and lake)."
   ]
  },
  {
   "cell_type": "code",
   "execution_count": null,
   "metadata": {},
   "outputs": [],
   "source": [
    "# Define the initial water quality value for T1 and Cl2\n",
    "net_data = wn.msx.network_data\n",
    "net_data.initial_quality[\"T1\"] = InitialQuality(node_values={\"River\": 1.0})\n",
    "net_data.initial_quality[\"CL2\"] = InitialQuality(node_values={\"River\": 1.2, \"Lake\": 1.2})\n",
    "# Print the values for Cl2 and T1\n",
    "pprint(net_data.initial_quality)"
   ]
  },
  {
   "cell_type": "markdown",
   "metadata": {},
   "source": [
    "# Simulate the hydraulics and water quality and view the results\n",
    "With the MSX model attached to the `WaterNetworkModel`, the EpanetSimulator is called in the same manner as a non-MSX water quality simulation. The results are saved in keys with the species' name."
   ]
  },
  {
   "cell_type": "code",
   "execution_count": null,
   "metadata": {},
   "outputs": [],
   "source": [
    "# Simulate the hydraulics and water quality using EPANET\n",
    "sim = wntr.sim.EpanetSimulator(wn)\n",
    "res = sim.run_sim()\n",
    "# Print the available result categories for the junctions and links\n",
    "print(\"Node results:\", \", \".join([k for k in res.node.keys()]))\n",
    "print(\"Link results:\", \", \".join([k for k in res.link.keys()]))"
   ]
  },
  {
   "cell_type": "code",
   "execution_count": null,
   "metadata": {},
   "outputs": [],
   "source": [
    "# Plot the fraction of water coming from the river using the tracer species, T1, for each junctions at hour 12, 24, and 36 of the simulation \n",
    "for plot_hr in [12, 24, 36]: \n",
    "    wntr.graphics.plot_network(\n",
    "        wn,\n",
    "        node_attribute=res.node[\"T1\"].loc[3600 * plot_hr, :],\n",
    "        title=f\"{plot_hr} h\",\n",
    "        node_colorbar_label=\"River\\nfraction\",\n",
    ")\n",
    "\n",
    "# Plot the concentration of Cl2 and T1 over time for a specific junction\n",
    "# Additional junction names are provided as examples\n",
    "junction_name = \"117\"  # '191', '269', '117'\n",
    "res.node[\"CL2\"][junction_name].plot()\n",
    "res.node[\"T1\"][junction_name].plot()\n",
    "plt.title(\"Node {}\\nk1 = {:.1f}, k2 = {:.1f}\".format(junction_name, k1.value, k2.value))\n",
    "_ = plt.legend([\"Cl2\", \"T1\"])\n",
    "_ = plt.xlabel('Time (s)')\n",
    "_ = plt.ylabel('Concentration (mg/L)')"
   ]
  },
  {
   "cell_type": "markdown",
   "metadata": {},
   "source": [
    "# Explore the effects of changing the value of decay coefficients\n"
   ]
  },
  {
   "cell_type": "code",
   "execution_count": null,
   "metadata": {},
   "outputs": [],
   "source": [
    "# Create a loop that stores several values for the river's decay coefficient, k1\n",
    "# Iterate through each coefficient value and rerun the simulation\n",
    "results = dict()\n",
    "k1 = wn.msx.reaction_system.constants[\"k1\"]\n",
    "for i in range(7):\n",
    "    # Create new decay coefficient, new_k1\n",
    "    new_k1 = 1.3 + i * 2.6\n",
    "    k1.value = new_k1\n",
    "    res = sim.run_sim()\n",
    "    results[new_k1] = res.node[\"CL2\"]"
   ]
  },
  {
   "cell_type": "code",
   "execution_count": null,
   "metadata": {},
   "outputs": [],
   "source": [
    "# Plot the free chlorine, Cl2, concentration over time for the junction for all of the simulated k1 values\n",
    "for k1, res in results.items():\n",
    "    res.loc[0 : 3600 * 36, junction_name].plot()\n",
    "plt.legend([\"{:.1f}\".format(k1) for k1 in results.keys()], title=\"k1 (1/day)\")\n",
    "plt.title(\"Chlorine residual at node {}\".format(junction_name))\n",
    "plt.xlabel(\"Time (s)\")\n",
    "plt.ylabel(\"Concentration (mg/L)\")"
   ]
  },
  {
   "cell_type": "markdown",
   "metadata": {},
   "source": [
    "# Save results to CSV files\n",
    "Save chlorine residual results for each reaction rate value"
   ]
  },
  {
   "cell_type": "code",
   "execution_count": null,
   "metadata": {},
   "outputs": [],
   "source": [
    "for k1, res in results.items():\n",
    "    res.to_csv('chlorine_residual_'+str(k1)+'.csv')"
   ]
  },
  {
   "cell_type": "markdown",
   "metadata": {},
   "source": [
    "# Save the reaction dynamics model\n",
    "The reaction dynamics model can be saved in multiple formats, which include the EPANET-MSX style format and a JSON file.\n",
    "This model can also be saved in a library format, which strips the JSON file of any network-specific information so that it only contains the species, constants, and reaction dynamics, which can then be applied to any `WaterNetworkModel`."
   ]
  },
  {
   "cell_type": "code",
   "execution_count": null,
   "metadata": {},
   "outputs": [],
   "source": [
    "# Save the reaction dynamics model as a MSX file, Net3.msx\n",
    "msxio.write_msxfile(wn.msx, \"Net3.msx\")\n",
    "# Save the reaction dynamics model as a JSON file, Net3-msx.json\n",
    "msxio.write_json(wn.msx, \"Net3-msx.json\")\n",
    "# Save the reaction dynamics model as a library\n",
    "msxio.write_json(wn.msx, \"multisource-cl.json\", as_library=True)"
   ]
  },
  {
   "cell_type": "code",
   "execution_count": null,
   "metadata": {},
   "outputs": [],
   "source": [
    "# Open and print the content of the saved MSX file to confirm the information\n",
    "with open(\"Net3.msx\", \"r\") as fin:\n",
    "    print(fin.read())"
   ]
  },
  {
   "cell_type": "code",
   "execution_count": null,
   "metadata": {},
   "outputs": [],
   "source": [
    "# Open the JSON and the library files \n",
    "with_net: dict = None\n",
    "without_net: dict = None\n",
    "\n",
    "with open(\"Net3-msx.json\", \"r\") as fin:\n",
    "    with_net = json.load(fin)\n",
    "with open(\"multisource-cl.json\", \"r\") as fin:\n",
    "    without_net = json.load(fin)\n",
    "\n",
    "# Print the content of the JSON file\n",
    "print(\"With network data:\")\n",
    "pprint(with_net[\"network_data\"])\n",
    "\n",
    "# Print the content of the library file \n",
    "# Compare against the JSON file data to confirm network data has been removed\n",
    "print(\"As a library:\")\n",
    "pprint(without_net[\"network_data\"])"
   ]
  },
  {
   "cell_type": "markdown",
   "metadata": {},
   "source": [
    "# Use the WNTR MSX library\n",
    "WNTR now includes a library functionality that allows a user to access certain objects by name.\n",
    "The MSX integration includes adding a library of certain reaction models that are described in\n",
    "the EPANET-MSX user manual. This section demonstrates how to use the model that was just saved\n",
    "in the library."
   ]
  },
  {
   "cell_type": "code",
   "execution_count": null,
   "metadata": {},
   "outputs": [],
   "source": [
    "# Load the MSX library files from the current directory\n",
    "# Includes MSX and JSON file formats\n",
    "my_library = MsxLibrary(extra_paths=[\".\"])  \n",
    "# Print the names of the MSX library files from the current directory\n",
    "my_library.model_name_list()"
   ]
  },
  {
   "cell_type": "markdown",
   "metadata": {},
   "source": [
    "Note that more files are listed than what might have been expected. This is because any file that has the extension .json or .msx is included. Thus, the first five models included in WNTR are listed along with those in the current directory ('.'), Net3, Net3-msx, multisource-cl, and \"temp\" files (since they were just created/saved in this tutorial). The reaction dynamic models are accessed by name. "
   ]
  },
  {
   "cell_type": "code",
   "execution_count": null,
   "metadata": {},
   "outputs": [],
   "source": [
    "# Compare the initial quality for the \"Net3\" and \"multisource-cl\" models\n",
    "iq_Net3 = my_library.get_model(\"Net3\").network_data.initial_quality\n",
    "print(iq_Net3)\n",
    "iq_multi = my_library.get_model(\"multisource-cl\").network_data.initial_quality\n",
    "print(iq_multi)"
   ]
  },
  {
   "cell_type": "code",
   "execution_count": null,
   "metadata": {},
   "outputs": [],
   "source": [
    "# Load the \"arsenic_chloramine\" model \n",
    "arsenic = my_library.get_model(\"arsenic_chloramine\")\n",
    "# Print the variables (e.g., species, constants) and reaction equations in this model\n",
    "for key, value in arsenic.reaction_system.variables():\n",
    "    print(repr(value))\n",
    "for key, value in arsenic.reaction_system.reactions():\n",
    "    print(repr(value))"
   ]
  }
 ],
 "metadata": {
  "kernelspec": {
   "display_name": "Python 3 (ipykernel)",
   "language": "python",
   "name": "python3"
  },
  "language_info": {
   "codemirror_mode": {
    "name": "ipython",
    "version": 3
   },
   "file_extension": ".py",
   "mimetype": "text/x-python",
   "name": "python",
   "nbconvert_exporter": "python",
   "pygments_lexer": "ipython3",
   "version": "3.11.7"
  }
 },
 "nbformat": 4,
 "nbformat_minor": 4
}
