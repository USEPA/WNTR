{
 "cells": [
  {
   "cell_type": "markdown",
   "metadata": {},
   "source": [
    "# WNTR Pipe Break Tutorial\n",
    "The following tutorial covers how to run a simple pipe break analysis using WNTR."
   ]
  },
  {
   "cell_type": "markdown",
   "metadata": {},
   "source": [
    "## Imports\n",
    "Import WNTR and additional Python packages that are needed for the tutorial.\n",
    "- Numpy is required to define comparison operators (i.e., np.greater) in queries\n",
    "- Pandas is used for data manipulation and analysis\n",
    "- Matplotlib is used to create graphics"
   ]
  },
  {
   "cell_type": "code",
   "execution_count": null,
   "metadata": {},
   "outputs": [],
   "source": [
    "import wntr\n",
    "import matplotlib\n",
    "import matplotlib.pyplot as plt\n",
    "import numpy as np\n",
    "import pandas as pd"
   ]
  },
  {
   "cell_type": "markdown",
   "metadata": {},
   "source": [
    "## Water network model\n",
    "If adapting code for a different EPANET input (INP) file, the correct file path and desired simulation parameters will need to be updated."
   ]
  },
  {
   "cell_type": "code",
   "execution_count": null,
   "metadata": {},
   "outputs": [],
   "source": [
    "# Identify file path to inp file\n",
    "inp_file = 'networks/Net3.inp'\n",
    "\n",
    "# Create water network model \n",
    "wn = wntr.network.WaterNetworkModel(inp_file)\n",
    "\n",
    "# Calculate population per junction\n",
    "population = wntr.metrics.population(wn)"
   ]
  },
  {
   "cell_type": "markdown",
   "metadata": {},
   "source": [
    "## Pipe break parameters\n",
    "The parameters `minimum_pressure` and `required_pressure` are used for pressure dependent demand (PDD) simulations. Nodes with pressures below minimum pressure will not receive any water, and node pressures need to be at least the required pressure to receive all of the requested demand.\n",
    "\n",
    "The parameter `min_pipe_diam` defines the lower limit of pipe diameters to include in analysis.  "
   ]
  },
  {
   "cell_type": "code",
   "execution_count": null,
   "metadata": {},
   "outputs": [],
   "source": [
    "# Define simulation parameters \n",
    "start_time = 2*3600 # 2 hours\n",
    "break_duration = 12*3600 # 12 hours\n",
    "total_duration = start_time + break_duration # 14 hours\n",
    "\n",
    "minimum_pressure = 3.52 # 5 psi\n",
    "required_pressure = 14.06 # 20 psi \n",
    "\n",
    "min_pipe_diam = 0.3048 # 12 inch"
   ]
  },
  {
   "cell_type": "markdown",
   "metadata": {},
   "source": [
    "## Baseline simulation\n",
    "The baseline simulation can be used to identify non-zero (NZD) junctions that fall below minimum pressure during normal operating conditions. This step helps determine which junctions that experience low pressures during the disaster simulation are a direct result of the disaster and not normal operating conditions. "
   ]
  },
  {
   "cell_type": "code",
   "execution_count": null,
   "metadata": {},
   "outputs": [],
   "source": [
    "# Calculate the average expected demand (AED) and identify the junctions with non-zero AED\n",
    "AED = wntr.metrics.average_expected_demand(wn)\n",
    "nzd_junct = AED[AED > 0].index\n",
    "\n",
    "# Set hydraulic parameters\n",
    "wn.options.hydraulic.demand_model = 'PDD'    \n",
    "wn.options.time.duration = total_duration\n",
    "wn.options.hydraulic.minimum_pressure = minimum_pressure\n",
    "wn.options.hydraulic.required_pressure = required_pressure \n",
    "\n",
    "# Simulate the hydraulics\n",
    "sim = wntr.sim.WNTRSimulator(wn)\n",
    "results = sim.run_sim()\n",
    "\n",
    "# Save junction pressure results and identify junctions that fall below minimum pressure\n",
    "pressure = results.node['pressure'].loc[start_time::, nzd_junct]\n",
    "normal_pressure_below_pmin = pressure.columns[(pressure < minimum_pressure).any()]"
   ]
  },
  {
   "cell_type": "markdown",
   "metadata": {},
   "source": [
    "## Pipe break simulations\n",
    "A try/except/finally approach is taken to ensure the script can finish running and still catch any convergence issues that might have occurred due to a pipe break. A user can revisit nodes with failed simulations individually to determine the cause of failure, if desired. "
   ]
  },
  {
   "cell_type": "code",
   "execution_count": null,
   "metadata": {},
   "outputs": [],
   "source": [
    "# Create dictionary to save results\n",
    "analysis_results = {} \n",
    "\n",
    "# Query all pipes with diameter greater than threshold set earlier to include in analysis\n",
    "pipes_of_interest = wn.query_link_attribute('diameter', np.greater_equal, min_pipe_diam)\n",
    "\n",
    "# Simulate pipe break (simulated as pipe closures) for each pipe\n",
    "for pipe_name in pipes_of_interest.index: \n",
    "    wn = wntr.network.WaterNetworkModel(inp_file)\n",
    "    wn.options.hydraulic.demand_model = 'PDD'    \n",
    "    wn.options.time.duration = total_duration\n",
    "    wn.options.hydraulic.minimum_pressure = minimum_pressure\n",
    "    wn.options.hydraulic.required_pressure = required_pressure\n",
    "    \n",
    "    # Create pipe closure control and apply to pipe of interest\n",
    "    pipe = wn.get_link(pipe_name)\n",
    "    act = wntr.network.controls.ControlAction(pipe, 'status', 0)\n",
    "    cond = wntr.network.controls.SimTimeCondition(wn, 'Above', start_time)\n",
    "    ctrl = wntr.network.controls.Control(cond, act)\n",
    "    wn.add_control('close pipe ' + pipe_name, ctrl)\n",
    "    \n",
    "    try:\n",
    "        # Simulate hydraulics\n",
    "        sim = wntr.sim.WNTRSimulator(wn) \n",
    "        sim_results = sim.run_sim()\n",
    " \n",
    "        # Identify impacted junctions using pressure results\n",
    "        sim_pressure = sim_results.node['pressure'].loc[start_time::, nzd_junct]\n",
    "        sim_pressure_below_pmin = sim_pressure.columns[(sim_pressure < minimum_pressure).any()]\n",
    "        impacted_junctions = set(sim_pressure_below_pmin) - set(normal_pressure_below_pmin)\n",
    "        impacted_junctions = list(impacted_junctions)\n",
    "        \n",
    "    except Exception as e:\n",
    "        # Identify failed simulations and the reason\n",
    "        impacted_junctions = None\n",
    "        print(pipe_name, ' Failed:', e)\n",
    "\n",
    "    finally:\n",
    "        # Save simulation results\n",
    "        analysis_results[pipe_name] = impacted_junctions"
   ]
  },
  {
   "cell_type": "markdown",
   "metadata": {},
   "source": [
    "## Results"
   ]
  },
  {
   "cell_type": "code",
   "execution_count": null,
   "metadata": {},
   "outputs": [],
   "source": [
    "# Calculate and save junction and population impact results to dictionary\n",
    "num_junctions_impacted = {}\n",
    "num_people_impacted = {}\n",
    "for pipe_name, impacted_junctions in analysis_results.items():\n",
    "    if impacted_junctions is not None:\n",
    "        num_junctions_impacted[pipe_name] = len(impacted_junctions)\n",
    "        num_people_impacted[pipe_name] = population[impacted_junctions].sum()"
   ]
  },
  {
   "cell_type": "code",
   "execution_count": null,
   "metadata": {},
   "outputs": [],
   "source": [
    "# Set colormap for network maps\n",
    "cmap=matplotlib.colormaps['viridis']\n",
    "\n",
    "# Plot junctions impacted due to pipe breaks\n",
    "# The parameter `link_range` can be adjusted to better suit the simulation results of the network used in the analysis  \n",
    "wntr.graphics.plot_network(wn, link_attribute=num_junctions_impacted, node_size=0, link_width=2, \n",
    "                           link_range=[0,10], link_cmap = cmap, link_colorbar_label='Junctions Impacted', \n",
    "                           title='Number of junctions impacted by each pipe closure')\n",
    "\n",
    "# Plot population impacted due to pipe breaks\n",
    "wntr.graphics.plot_network(wn, link_attribute=num_people_impacted, node_size=0, link_width=2, \n",
    "                           link_range=[0,5000], link_cmap = cmap, link_colorbar_label='Population Impacted',\n",
    "                           title='Number of people impacted by each pipe closure')"
   ]
  },
  {
   "cell_type": "markdown",
   "metadata": {},
   "source": [
    "## Save results to CSV files"
   ]
  },
  {
   "cell_type": "code",
   "execution_count": null,
   "metadata": {},
   "outputs": [],
   "source": [
    "# Save the junction impacted results to CSV\n",
    "# Check to verify the file was created in the directory\n",
    "num_junctions_impacted = pd.Series(num_junctions_impacted)\n",
    "num_junctions_impacted.to_csv('pipe_break_junctions_impacted.csv')\n",
    "\n",
    "# Save the population impacted results to CSV\n",
    "num_people_impacted = pd.Series(num_people_impacted)\n",
    "num_people_impacted.to_csv('pipe_break_people_impacted.csv')"
   ]
  }
 ],
 "metadata": {
  "kernelspec": {
   "display_name": "wntr_test",
   "language": "python",
   "name": "python3"
  },
  "language_info": {
   "codemirror_mode": {
    "name": "ipython",
    "version": 3
   },
   "file_extension": ".py",
   "mimetype": "text/x-python",
   "name": "python",
   "nbconvert_exporter": "python",
   "pygments_lexer": "ipython3",
   "version": "3.12.10"
  }
 },
 "nbformat": 4,
 "nbformat_minor": 4
}
