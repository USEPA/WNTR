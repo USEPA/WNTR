{
 "cells": [
  {
   "cell_type": "markdown",
   "metadata": {
    "tags": []
   },
   "source": [
    "# WNTR Landslide Tutorial\n",
    "The following tutorial illustrates the use of the `wntr.gis` module to use landslide geospatial data in a resilience analysis. The objective of this tutorial is to 1) quantify water service disruptions that could occur from pipes damaged in landslides and 2) identify population impacted by the service disruptions.\n",
    "\n",
    "To simplify the tutorials, it is assumed that pipes within a 1000 ft buffer of each landslide susceptible region are damaged in that landslide.\n",
    "This assumption could be replaced with detailed landslide analysis that includes slope, soil type, weather conditions, and pipe material."
   ]
  },
  {
   "cell_type": "markdown",
   "metadata": {
    "tags": []
   },
   "source": [
    "## Imports\n",
    "Import WNTR and additional Python packages that are needed for the tutorial.\n",
    "- Geopandas is used to load geospatial data\n",
    "- Shapely is used to define a region of interest to crop data\n",
    "- Matplotlib is used to create graphics"
   ]
  },
  {
   "cell_type": "code",
   "execution_count": null,
   "metadata": {},
   "outputs": [],
   "source": [
    "import geopandas as gpd\n",
    "from shapely.geometry import box\n",
    "import matplotlib.pylab as plt\n",
    "import wntr"
   ]
  },
  {
   "cell_type": "markdown",
   "metadata": {},
   "source": [
    "## Units\n",
    "WNTR uses SI (International System) units (length in meters, time in seconds, mass in kilograms), **with the exception of the landslide buffer which is in feet to match the coordinate reference system of the geospatial data**.  See https://usepa.github.io/WNTR/units.html for more details on WNTR units."
   ]
  },
  {
   "cell_type": "code",
   "execution_count": null,
   "metadata": {},
   "outputs": [],
   "source": [
    "# Define the coordinates used to zoom in on network graphics\n",
    "zoom_coords = [(5.75e6, 5.79e6), (3.82e6, 3.85e6)] "
   ]
  },
  {
   "cell_type": "markdown",
   "metadata": {},
   "source": [
    "# Water network model\n",
    "The following section creates a `WaterNetworkModel` object from an EPANET input (INP) file and converts the model to GeoDataFrames for use in geospatial analysis."
   ]
  },
  {
   "cell_type": "markdown",
   "metadata": {},
   "source": [
    "## Create a water network model\n",
    "The drinking water distribution network model used in this tutorial was downloaded from the [UKnowledge Water Distribution Systems Research Database](https://uknowledge.uky.edu/wdsrd/). KY 10 was selected for the analysis. The following section creates a `WaterNetworkModel` from an EPANET INP file and calculates some general attributes of the model.\n",
    "\n",
    "*Citation: Hoagland, Steven, \"10 KY 10\" (2016). Kentucky Dataset. 12. https://uknowledge.uky.edu/wdst/12. Accessed on 4/4/2024.*"
   ]
  },
  {
   "cell_type": "code",
   "execution_count": null,
   "metadata": {},
   "outputs": [],
   "source": [
    "# Create a WaterNetworkModel from an EPANET INP file\n",
    "inp_file = 'networks/ky10.inp'\n",
    "wn = wntr.network.WaterNetworkModel(inp_file)"
   ]
  },
  {
   "cell_type": "code",
   "execution_count": null,
   "metadata": {},
   "outputs": [],
   "source": [
    "# Print a basic description of the model \n",
    "# The level can be 0, 1, or 2 and defines the level of detail included in the description\n",
    "wn.describe(level=1)"
   ]
  },
  {
   "cell_type": "code",
   "execution_count": null,
   "metadata": {},
   "outputs": [],
   "source": [
    "# Calculate the total pipe length in meters \n",
    "length = wn.query_link_attribute('length')\n",
    "total_length = length.sum() # m\n",
    "# Print the total pipe length in meters and feet\n",
    "print('Total pipe length =', round(total_length,2), 'm, =', round(total_length*3.28084,2), 'ft')"
   ]
  },
  {
   "cell_type": "code",
   "execution_count": null,
   "metadata": {},
   "outputs": [],
   "source": [
    "# Calculate the average expected demand in cubic meters\n",
    "average_expected_demand = wntr.metrics.average_expected_demand(wn) # m^3/s\n",
    "# Calculate the average volume per day in cubic meters\n",
    "average_volume_per_day = average_expected_demand*(24*3600) # m^3\n",
    "# Calculate the total water use in cubic meters\n",
    "total_water_use = average_volume_per_day.sum() # m^3\n",
    "# Print the total water use in cubic meters and million gallons\n",
    "print('Total water use =', round(total_water_use,2), 'm^3 =', round(total_water_use*264.172/1e6,2), 'million gallons')"
   ]
  },
  {
   "cell_type": "code",
   "execution_count": null,
   "metadata": {},
   "outputs": [],
   "source": [
    "# Calculate the population served at each junction using the default average volume of water consumed per capita per day of 200 gallons/day\n",
    "population = wntr.metrics.population(wn) \n",
    "# Calcualte the total population served by the network\n",
    "total_population = population.sum()\n",
    "# Print the total population served by the network\n",
    "print('Total population =', total_population)"
   ]
  },
  {
   "cell_type": "code",
   "execution_count": null,
   "metadata": {
    "tags": []
   },
   "outputs": [],
   "source": [
    "# Plot the elevation for each junction on the network \n",
    "# Note that the remaining graphics in this tutorial are created from the geospatial data directly, rather than the `plot_network` function\n",
    "# The `plot_network` function currently does not include vertices\n",
    "ax = wntr.graphics.plot_network(wn, node_attribute='elevation', node_range=(175, 300), title='KY 10 elevation', node_colorbar_label='Elevation (m)')"
   ]
  },
  {
   "cell_type": "markdown",
   "metadata": {},
   "source": [
    "## Convert the WaterNetworkModel to geographic information system (GIS) data\n",
    "The `WaterNetworkModel` is converted to a collection of GIS compatible GeoDataFrames and the coordinate reference system (CRS) is set to **EPSG:3089 NAD83 / Kentucky Single Zone (ftUS)** (see https://epsg.io/3089 for more details). Data for junctions, tanks, reservoirs, pipes, pumps, and valves are stored in separate GeoDataFrames."
   ]
  },
  {
   "cell_type": "code",
   "execution_count": null,
   "metadata": {
    "tags": []
   },
   "outputs": [],
   "source": [
    "# Convert the WaterNetworkModel to GIS data\n",
    "wn_gis = wn.to_gis()\n",
    "# Print only the first 5 junction entries\n",
    "# Example commands are provided for all of the network compoment conversions\n",
    "wn_gis.junctions.head()\n",
    "#wn_gis.tanks.head()\n",
    "#wn_gis.reservoirs.head()\n",
    "#wn_gis.pipes.head()\n",
    "#wn_gis.pumps.head()\n",
    "#wn_gis.tanks.head()\n"
   ]
  },
  {
   "cell_type": "code",
   "execution_count": null,
   "metadata": {
    "tags": []
   },
   "outputs": [],
   "source": [
    "# Set the CRS to EPSG:3089 NAD83 / Kentucky Single Zone (ftUS)\n",
    "crs = 'EPSG:3089'\n",
    "wn_gis.set_crs(crs)"
   ]
  },
  {
   "cell_type": "code",
   "execution_count": null,
   "metadata": {},
   "outputs": [],
   "source": [
    "# Plot the network using the GIS data \n",
    "fig, ax = plt.subplots(figsize=(5,5))\n",
    "ax = wn_gis.pipes.plot(column='diameter', linewidth=1, label='pipes', alpha=0.8, ax=ax, zorder=1)\n",
    "ax = wn_gis.reservoirs.plot(color='k', marker='s', markersize=60, label='reservoirs', ax=ax)\n",
    "ax = wn_gis.tanks.plot(color='r', markersize=20, label='tanks', ax=ax)\n",
    "ax = wn_gis.pumps.centroid.plot(color='b', markersize=20, label='pumps', ax=ax)\n",
    "ax = wn_gis.valves.centroid.plot(color='c', markersize=20, label='valves', ax=ax)\n",
    "tmp = ax.set_title('KY 10')\n",
    "# Comment/uncomment the following 3 lines to change border/axis around the graphic\n",
    "#tmp = ax.axis('off')\n",
    "tmp = ax.set_xticks([])\n",
    "tmp = ax.set_yticks([])\n",
    "# Comment/uncomment the following 2 lines to change the zoom on the network graphic\n",
    "#tmp = ax.set_xlim(zoom_coords[0])\n",
    "#tmp = ax.set_ylim(zoom_coords[1])\n",
    "tmp = plt.legend()"
   ]
  },
  {
   "cell_type": "markdown",
   "metadata": {},
   "source": [
    "## Save the GIS data to GeoJSON or Shapefile files\n",
    "The GIS data can be written to GeoJSON files or Shapefile files. One file is created for each of the network components: junctions, tanks, reservoirs, pipes, pumps, and valves (e.g., ky10_junctions.geojson, ky10_tanks.geojson). The GeoJSON or Shapefile files can be loaded into GIS software platforms for further analysis. **Note that controls, patterns, curves, and options are not included in the GIS formatted data files.** "
   ]
  },
  {
   "cell_type": "code",
   "execution_count": null,
   "metadata": {
    "tags": []
   },
   "outputs": [],
   "source": [
    "# Store the WaterNetworkModel as a collection of GeoJSON files\n",
    "# Check project folder to verify that files were written \n",
    "wn_gis.write_geojson('ky10')"
   ]
  },
  {
   "cell_type": "markdown",
   "metadata": {},
   "source": [
    "# Landslide GIS data\n",
    "Landslide inventory data is loaded and the impacted areas are expanded to illustrate landslide scenarios. "
   ]
  },
  {
   "cell_type": "markdown",
   "metadata": {},
   "source": [
    "## Load landslide GIS data\n",
    "The landslide data used in this tutorial was downloaded from the [UKnowledge Kentucky Geological Survey Research Data](https://uknowledge.uky.edu/kgs_data/).  The Kentucky Geological Survey Landslide Inventory from March 2023 was selected for the analysis.  The data contains locations of known landslides and areas susceptible to debris flows, derived from aerial photography. \n",
    "\n",
    "*Citation: Crawford, M.M., 2023. Kentucky Geological Survey landslide inventory [2023-03]: Kentucky Geological Survey Research Data, https://uknowledge.uky.edu/kgs_data/7/, Accessed on 4/4/2024.*"
   ]
  },
  {
   "cell_type": "code",
   "execution_count": null,
   "metadata": {
    "tags": []
   },
   "outputs": [],
   "source": [
    "# To reduce the file size checked into the WNTR repository, the following code was run on the raw data file\n",
    "# This example can be copied and pasted into a .py file in your project and run on any geodatabase file to truncate the data to the region of interest (ROI)\n",
    "# The ROI includes a 5000 ft buffer surrounding all pipes. The function `box` was imported from shapely\n",
    "\"\"\"\n",
    "bounds = wn_gis.pipes.total_bounds # total_bounds returns the upper and lower bounds on x and y\n",
    "geom = box(*bounds)\n",
    "ROI = geom.buffer(5000) # feet\n",
    "\n",
    "landslide_file = 'data/KGS_Landslide_Inventory_exp.gdb'\n",
    "landslide_data = gpd.read_file(landslide_file, driver=\"FileGDB\", layer='Areas_derived_from_aerial_photography')\n",
    "print(landslide_data.crs)\n",
    "landslide_data = landslide_data.clip(ROI)\n",
    "landslide_data.to_file(\"data/ky10_landslide_data.geojson\", index=True, driver='GeoJSON')\n",
    "\"\"\""
   ]
  },
  {
   "cell_type": "code",
   "execution_count": null,
   "metadata": {
    "scrolled": true
   },
   "outputs": [],
   "source": [
    "# Load the landslide data from file and print the CRS to ensure it is in EPSG:3089  \n",
    "# The methods `to_crs` and `set_crs` can be used to change coordinate reference systems if needed\n",
    "landslide_file = 'data/ky10_landslide_data.geojson'\n",
    "landslide_data = gpd.read_file(landslide_file).set_index('index') \n",
    "# Print the CRS for the landslide data\n",
    "print(landslide_data.crs)\n",
    "# Print the first 5 entries of landslide data\n",
    "landslide_data.head()"
   ]
  },
  {
   "cell_type": "code",
   "execution_count": null,
   "metadata": {},
   "outputs": [],
   "source": [
    "# Plot the landslide data along with pipes\n",
    "ax = landslide_data.plot(color='red', label='Landslide data')\n",
    "ax = wn_gis.pipes.plot(color='black', linewidth=1, ax=ax, label='Pipes')\n",
    "ax.set_title('Landslide and pipe data')\n",
    "# Comment/uncomment the following 3 lines to change border/axis around the graphic\n",
    "#tmp = ax.axis('off')\n",
    "tmp = ax.set_xticks([])\n",
    "tmp = ax.set_yticks([])\n",
    "# Comment/uncomment the following 2 lines to change the zoom on the network graphic\n",
    "tmp = ax.set_xlim(zoom_coords[0])\n",
    "tmp = ax.set_ylim(zoom_coords[1])"
   ]
  },
  {
   "cell_type": "markdown",
   "metadata": {},
   "source": [
    "## Expand the size of each landslide using a buffer\n",
    "Each landslide is extended to include the surrounding 1000 ft to create a region that might be impacted by an individual landslide. The distance unit for buffering matches the distance unit of the CRS (ft).\n",
    "This assumption could be replaced with detailed landslide analysis that includes slope, soil type, weather conditions, and pipe material. "
   ]
  },
  {
   "cell_type": "code",
   "execution_count": null,
   "metadata": {
    "tags": []
   },
   "outputs": [],
   "source": [
    "# Create a GeoDataFrame to hold information used in landslide scenarios (initially copied from landslide_data)\n",
    "# Buffer each landslide polygon by 1000 ft\n",
    "landslide_scenarios = landslide_data.copy()\n",
    "landslide_scenarios['geometry'] = landslide_data.buffer(1000)"
   ]
  },
  {
   "cell_type": "code",
   "execution_count": null,
   "metadata": {},
   "outputs": [],
   "source": [
    "# Add a prefix to the landslide scenario index to indicate the scenario name\n",
    "landslide_scenarios.index = 'LS-' + landslide_scenarios.index.astype(str)"
   ]
  },
  {
   "cell_type": "code",
   "execution_count": null,
   "metadata": {
    "tags": []
   },
   "outputs": [],
   "source": [
    "# Plot the landslide data, the buffers of each landslide scenario, and the pipes\n",
    "ax = landslide_scenarios.plot(color='gray', alpha=0.5, label='Landslide buffer')\n",
    "ax = landslide_data.plot(color='red', label='Landslide data', ax=ax)\n",
    "ax = wn_gis.pipes.plot(color='black', linewidth=1, ax=ax, label='Pipes')\n",
    "ax.set_title('Landslide scenarios and pipe data')\n",
    "# Comment/uncomment the following 3 lines to change border/axis around the graphic\n",
    "#tmp = ax.axis('off')\n",
    "tmp = ax.set_xticks([])\n",
    "tmp = ax.set_yticks([])\n",
    "# Comment/uncomment the following 2 lines to change the zoom on the network graphic\n",
    "tmp = ax.set_xlim(zoom_coords[0])\n",
    "tmp = ax.set_ylim(zoom_coords[1])"
   ]
  },
  {
   "cell_type": "markdown",
   "metadata": {},
   "source": [
    "# Geospatial intersects\n",
    "In this section, landslide scenario data are intersected with pipes and junctions in the `WaterNetworkModel`."
   ]
  },
  {
   "cell_type": "markdown",
   "metadata": {},
   "source": [
    "## Identify pipes that intersect each landslide\n",
    "Landslide polygons are intersected with pipes to obtain a list of pipes that intersect each landslide.  <font color='red'>This information is used to to define the pipes that are closed in each landslide scenario.</font> The pipe attribute `length` is also included in the intersection to gather statistics on the pipe length that intersects each landslide.  "
   ]
  },
  {
   "cell_type": "code",
   "execution_count": null,
   "metadata": {
    "tags": []
   },
   "outputs": [],
   "source": [
    "# Use the intersect function to determine pipes and pipe length that intersects each landslide scenario\n",
    "A = landslide_scenarios\n",
    "B = wn_gis.pipes\n",
    "B_value = 'length'\n",
    "landslide_intersect = wntr.gis.intersect(A, B, B_value)\n",
    "\n",
    "# Print results in order of descending total pipe length for the first 5 entries only \n",
    "landslide_intersect.sort_values('sum', ascending=False).head()"
   ]
  },
  {
   "cell_type": "code",
   "execution_count": null,
   "metadata": {},
   "outputs": [],
   "source": [
    "# Add the intersection results to the landslide scenario data\n",
    "landslide_scenarios[['intersections', 'n', 'total pipe length']] = landslide_intersect[['intersections', 'n', 'sum']]\n",
    "\n",
    "# Print results in order of descending total pipe length for the first 5 entries only \n",
    "landslide_scenarios.sort_values('total pipe length', ascending=False).head()"
   ]
  },
  {
   "cell_type": "code",
   "execution_count": null,
   "metadata": {
    "tags": []
   },
   "outputs": [],
   "source": [
    "# Plot intersection results\n",
    "fig, axes = plt.subplots(1,2, figsize=(15,5))\n",
    "\n",
    "wn_gis.pipes.plot(color='gray', linewidth=1, ax=axes[0])\n",
    "landslide_scenarios.plot(column='n', vmax=10, legend=True, ax=axes[0], legend_kwds={'label':'Number of pipes'})\n",
    "tmp = axes[0].set_title('Number of pipes that intersect each landslide')\n",
    "# Comment/uncomment the following 3 lines to change border/axis around the graphic\n",
    "#tmp = axes[0].axis('off')\n",
    "tmp = axes[0].set_xticks([])\n",
    "tmp = axes[0].set_yticks([])\n",
    "# Comment/uncomment the following 2 lines to change the zoom on the network graphic\n",
    "tmp = axes[0].set_xlim(zoom_coords[0])\n",
    "tmp = axes[0].set_ylim(zoom_coords[1])\n",
    "\n",
    "wn_gis.pipes.plot(color='gray', linewidth=1, ax=axes[1])\n",
    "landslide_scenarios.plot(column='total pipe length', vmax=10000, legend=True, ax=axes[1], legend_kwds={'label':'Pipe length (m)'})\n",
    "tmp = axes[1].set_title('Length of pipe that intersect each landslide')\n",
    "# Comment/uncomment the following 3 lines to change border/axis around the graphic\n",
    "#tmp = axes[1].axis('off')\n",
    "tmp = axes[1].set_xticks([])\n",
    "tmp = axes[1].set_yticks([])\n",
    "# Comment/uncomment the following 2 lines to change the zoom on the network graphic\n",
    "tmp = axes[1].set_xlim(zoom_coords[0])\n",
    "tmp = axes[1].set_ylim(zoom_coords[1])"
   ]
  },
  {
   "cell_type": "markdown",
   "metadata": {},
   "source": [
    "## Identify landslides that intersect each pipe\n",
    "The WNTR intersect function is used to obtain a list of landslides that intersect each pipe to identify landslide impacts on the network. The landslide attribute `Confidence_Ranking` is also included in the intersection to gather statistics on landslide confidence for each pipe.  <font color='red'>While this information is not used in the analysis below, this type of information could be used to inform uncertainty or probability of damage.</font>\n",
    "\n",
    "**Note that `Confidence_Ranking` has a value of 3 (\"Landslide likely at or near the specified location\") for each landslide in the region of interest. Since the values are uniform in this dataset, the intersected sum, min, max, and mean are all the same value.** More information on confidence ranking can be found at https://kgs.uky.edu/kgsmap/helpfiles/landslide_help.shtm.  "
   ]
  },
  {
   "cell_type": "code",
   "execution_count": null,
   "metadata": {
    "tags": []
   },
   "outputs": [],
   "source": [
    "# Use the intersect function to determine landslides and landslide confidence ranking that intersects each pipe\n",
    "A = wn_gis.pipes\n",
    "B = landslide_scenarios\n",
    "B_value = 'Confidence_Ranking'\n",
    "pipe_intersect = wntr.gis.intersect(A, B, B_value)\n",
    "\n",
    "# Print results in order of descending number of intersections for the first 5 entries only \n",
    "pipe_intersect.sort_values('n', ascending=False).head()"
   ]
  },
  {
   "cell_type": "code",
   "execution_count": null,
   "metadata": {},
   "outputs": [],
   "source": [
    "# Add the intersection results to the GIS pipe data\n",
    "wn_gis.pipes[['intersections', 'n', 'Confidence_Ranking']] = pipe_intersect[['intersections', 'n', 'mean']]\n",
    "\n",
    "# Print results in order of descending number of intersections for the first 5 entries only \n",
    "wn_gis.pipes.sort_values('n', ascending=False).head()"
   ]
  },
  {
   "cell_type": "code",
   "execution_count": null,
   "metadata": {},
   "outputs": [],
   "source": [
    "# Plot intersection results\n",
    "ax = wn_gis.pipes.plot(color='gray', linewidth=1, zorder=1)\n",
    "wn_gis.pipes[wn_gis.pipes['n'] > 0].plot(column='n', vmax=20, legend=True, ax=ax, legend_kwds={'label':'Number of landslides'})\n",
    "tmp = ax.set_title('Number of landslide scenarios that intersect each pipe', fontdict={'fontsize':10})\n",
    "# Comment/uncomment the following 3 lines to change border/axis around the graphic\n",
    "#tmp = ax.axis('off')\n",
    "tmp = ax.set_xticks([])\n",
    "tmp = ax.set_yticks([])\n",
    "# Comment/uncomment the following 2 lines to change the zoom on the network graphic\n",
    "tmp = ax.set_xlim(zoom_coords[0])\n",
    "tmp = ax.set_ylim(zoom_coords[1])"
   ]
  },
  {
   "cell_type": "markdown",
   "metadata": {
    "tags": []
   },
   "source": [
    "# Hydraulic simulations\n",
    "The following section simulates the hydraulics for the baseline (no landslide) and landslide scenarios. A subset of landslide scenarios is run to simplify the tutorial. Simulation results are stored for later analysis."
   ]
  },
  {
   "cell_type": "code",
   "execution_count": null,
   "metadata": {
    "tags": []
   },
   "outputs": [],
   "source": [
    "# Create a function to setup the WaterNetworkModel for hydraulic simulations\n",
    "def model_setup(inp_file):\n",
    "    wn = wntr.network.WaterNetworkModel(inp_file)\n",
    "    wn.options.hydraulic.demand_model = 'PDD'\n",
    "    wn.options.hydraulic.required_pressure = 20 # m\n",
    "    wn.options.hydraulic.minimum_pressure  = 0 # m\n",
    "    wn.options.time.duration = 48*3600 # s (48 hour simulation)\n",
    "    return wn"
   ]
  },
  {
   "cell_type": "markdown",
   "metadata": {},
   "source": [
    "## Baseline scenario"
   ]
  },
  {
   "cell_type": "code",
   "execution_count": null,
   "metadata": {
    "tags": []
   },
   "outputs": [],
   "source": [
    "# Simulate the baseline hydraulics with no landslide or damage using EPANET \n",
    "wn = model_setup(inp_file)\n",
    "sim = wntr.sim.EpanetSimulator(wn)\n",
    "baseline_results = sim.run_sim()"
   ]
  },
  {
   "cell_type": "code",
   "execution_count": null,
   "metadata": {},
   "outputs": [],
   "source": [
    "# Print the pressures for each junction for only the first 5 timesteps \n",
    "baseline_results.node['pressure'].head()"
   ]
  },
  {
   "cell_type": "markdown",
   "metadata": {
    "tags": []
   },
   "source": [
    "## Landslide scenarios\n",
    "Landslide scenarios are downselected by identifying the set of landslides that impact a unique set of pipes. Scenarios are further downselected to six scenarios to simplify the tutorial. A hydraulic simulation is run for each landslide scenario, where pipes that intersect the landslide are closed for 48 hours. Results from each scenario are stored for later analysis."
   ]
  },
  {
   "cell_type": "code",
   "execution_count": null,
   "metadata": {
    "tags": []
   },
   "outputs": [],
   "source": [
    "# Remove scenarios with no intersecting pipes\n",
    "landslide_scenarios = landslide_scenarios[landslide_scenarios['n'] > 0]\n",
    "landslide_scenarios = landslide_scenarios[~landslide_scenarios['n'].isna()]\n",
    "\n",
    "# Select landslide scenarios that impact a unique set of pipes (i.e., remove duplicative pipe entries)\n",
    "duplicated_intersections = landslide_scenarios['intersections'].astype(str).duplicated()\n",
    "landslide_scenarios = landslide_scenarios.loc[~duplicated_intersections, :]\n",
    "\n",
    "# Print the number of unique landslide scenarios for the first 5 entries only \n",
    "print('Number of unique landslide scenarios', landslide_scenarios.shape[0])\n",
    "landslide_scenarios.head()"
   ]
  },
  {
   "cell_type": "code",
   "execution_count": null,
   "metadata": {
    "tags": []
   },
   "outputs": [],
   "source": [
    "# Further downselect the landslide scenarios for demonstration purposes\n",
    "# Uncomment one option at a time to explore that option\n",
    "\n",
    "# Option 1. Six scenarios that illustrate a wide range of impact\n",
    "landslide_scenarios_downselect = landslide_scenarios.loc[['LS-4495', 'LS-7003', 'LS-7111', 'LS-5086', 'LS-6966', 'LS-7058'],:] \n",
    "\n",
    "# Option 2. Six scenarios with the highest intersecting pipe length\n",
    "#landslide_scenarios_downselect = landslide_scenarios.sort_values('total pipe length', ascending=False).iloc[0:6,:]\n",
    "\n",
    "# Option 3. Six scenarios with the highest number of intersecting pipes\n",
    "#landslide_scenarios_downselect = landslide_scenarios.sort_values('n', ascending=False).iloc[0:6,:]\n",
    "\n",
    "# Option 4. Random selection of six scenarios\n",
    "#landslide_scenarios_downselect = landslide_scenarios.sample(n=6, random_state=1234)\n",
    "\n",
    "# Print the landslide scenarios selected\n",
    "landslide_scenarios_downselect"
   ]
  },
  {
   "cell_type": "code",
   "execution_count": null,
   "metadata": {},
   "outputs": [],
   "source": [
    "# Plot the location of landslides used in the analysis\n",
    "ax = landslide_scenarios_downselect.plot(color='blue')\n",
    "wn_gis.pipes.plot(color='gray', linewidth=1, ax=ax)\n",
    "tmp = ax.set_title('Landslide scenarios')\n",
    "# Comment/uncomment the following 3 lines to change border/axis around the graphic\n",
    "#tmp = ax.axis('off')\n",
    "tmp = ax.set_xticks([])\n",
    "tmp = ax.set_yticks([])"
   ]
  },
  {
   "cell_type": "code",
   "execution_count": null,
   "metadata": {},
   "outputs": [],
   "source": [
    "# Simulate the hydraulics for each landslide scenario using EPANET\n",
    "# Store simulation results in a dictionary\n",
    "# Each scenario closes all pipes that intersect the landslide for the 48 hour simulation\n",
    "results = {}\n",
    "for i, scenario in landslide_scenarios_downselect.iterrows():\n",
    "    wn = model_setup(inp_file)\n",
    "    for pipe_i in scenario['intersections']:\n",
    "        pipe_object = wn.get_link(pipe_i)\n",
    "        pipe_object.initial_status = 'CLOSED'\n",
    "    sim = wntr.sim.EpanetSimulator(wn)\n",
    "    results[i] = sim.run_sim()"
   ]
  },
  {
   "cell_type": "markdown",
   "metadata": {
    "tags": []
   },
   "source": [
    "# Analysis results\n",
    "The following section calculates and plots analysis results, including water service availability (WSA) of impacted junctions for each scenario."
   ]
  },
  {
   "cell_type": "markdown",
   "metadata": {},
   "source": [
    "## Water service availability (WSA)\n",
    "Water service availability (WSA) is the ratio of delivered demand to the expected demand. WSA is calculated for each junction (alternatively, WSA can be calculated for each timestep, or for each junction and timestep). A value equal to 1 indicates that all expected demand is met, while a value of 0 indicates that the none of expected demand is met. \n",
    "\n",
    "**Note that WSA can be > 1 and < 0 due to numerical differences in expected and actual demand. For certain types of analysis, WSA should be truncated to values between 0 and 1.**"
   ]
  },
  {
   "cell_type": "code",
   "execution_count": null,
   "metadata": {},
   "outputs": [],
   "source": [
    "# Calculate expected demand for each junction and timestep\n",
    "expected_demand = wntr.metrics.expected_demand(wn)\n",
    "\n",
    "# Print the expected demand for each junction for only the first 5 timesteps\n",
    "expected_demand.round(2).head()"
   ]
  },
  {
   "cell_type": "code",
   "execution_count": null,
   "metadata": {},
   "outputs": [],
   "source": [
    "# Calculate total expected demand at each junction (axis 0 is the time index)\n",
    "expected_demand_j = expected_demand.sum(axis=0)\n",
    "\n",
    "# Print the total expected demand for each junction\n",
    "expected_demand_j"
   ]
  },
  {
   "cell_type": "code",
   "execution_count": null,
   "metadata": {},
   "outputs": [],
   "source": [
    "# Calculate the baseline WSA for each junction\n",
    "demand_baseline = baseline_results.node['demand'].loc[:,wn.junction_name_list]\n",
    "demand_baseline_j = demand_baseline.sum(axis=0) # total demand at each junction\n",
    "wsa_baseline_j = wntr.metrics.water_service_availability(expected_demand_j, demand_baseline_j)\n",
    "\n",
    "# Print WSA for first 5 junctions\n",
    "wsa_baseline_j.head()"
   ]
  },
  {
   "cell_type": "code",
   "execution_count": null,
   "metadata": {
    "tags": []
   },
   "outputs": [],
   "source": [
    "# Add WSA from the baseline simulation to the junction GIS data\n",
    "wn_gis.junctions['baseline'] = wsa_baseline_j"
   ]
  },
  {
   "cell_type": "code",
   "execution_count": null,
   "metadata": {},
   "outputs": [],
   "source": [
    "# Plot WSA from the baseline simulation for each junction on the network \n",
    "ax = wn_gis.pipes.plot(color='black', linewidth=1)\n",
    "ax = wn_gis.junctions.plot(column='baseline', cmap='cividis', vmin=0, vmax=1, legend=True, ax=ax, legend_kwds={'label':'WSA'})\n",
    "tmp = ax.set_title('Baseline WSA')\n",
    "# Comment/uncomment the following 3 lines to change border/axis around the graphic\n",
    "#tmp = ax.axis('off')\n",
    "tmp = ax.set_xticks([])\n",
    "tmp = ax.set_yticks([])"
   ]
  },
  {
   "cell_type": "code",
   "execution_count": null,
   "metadata": {},
   "outputs": [],
   "source": [
    "# Calculate WSA associated with each landslide scenarios\n",
    "for i, scenario in landslide_scenarios_downselect.iterrows():\n",
    "    demand = results[i].node['demand'].loc[:,wn.junction_name_list]\n",
    "    demand_j = demand.sum(axis=0) # total demand at each junction\n",
    "    wsa_j = wntr.metrics.water_service_availability(expected_demand_j, demand_j)\n",
    "    \n",
    "    # Add WSA to the junction GIS data\n",
    "    wn_gis.junctions[i] = wsa_j\n",
    "    # Print landslide scenarion ID, number of intersected pipes, and WSA\n",
    "    print(i, len(scenario['intersections']), wsa_j.mean())"
   ]
  },
  {
   "cell_type": "code",
   "execution_count": null,
   "metadata": {
    "tags": []
   },
   "outputs": [],
   "source": [
    "# Extract WSA for each landslide scenario \n",
    "wsa_results = wn_gis.junctions[landslide_scenarios_downselect.index]\n",
    "\n",
    "# Print WSA for only first 5 junctions for each landslide scenario\n",
    "wsa_results.head()"
   ]
  },
  {
   "cell_type": "code",
   "execution_count": null,
   "metadata": {},
   "outputs": [],
   "source": [
    "# Plot the distribution of WSA for each landslide scenario \n",
    "# Note that WSA can be > 1 and < 0 due to numerical differences in expected and actual demand \n",
    "ax = wsa_results.boxplot()\n",
    "tmp = ax.set_ylim(-0.25, 1.25)\n",
    "tmp = ax.set_ylabel('WSA')\n",
    "tmp = ax.set_xlabel('Landslide scenario')\n",
    "tmp = ax.set_title('Distribution of WSA for each scenario')"
   ]
  },
  {
   "cell_type": "code",
   "execution_count": null,
   "metadata": {
    "tags": []
   },
   "outputs": [],
   "source": [
    "# Plot WSA from each landslide scenario for each junction on the network\n",
    "fig, axes = plt.subplots(2,3, figsize=(15,10))\n",
    "axes = axes.flatten()\n",
    "\n",
    "for i, scenario in enumerate(wsa_results.columns):\n",
    "    wn_gis.pipes.plot(color='gray', linewidth=1, ax=axes[i]) # pipes\n",
    "    wn_gis.junctions.plot(column=scenario, cmap='cividis', vmin=0, vmax=1, legend=True, ax=axes[i], legend_kwds={'label':'WSA'}) # junction wsa\n",
    "    tmp = axes[i].set_title('WSA '+scenario)\n",
    "    # Comment/uncomment the following 3 lines to change border/axis around the graphic\n",
    "    #tmp = axes[i].axis('off')\n",
    "    tmp = axes[i].set_xticks([])\n",
    "    tmp = axes[i].set_yticks([])\n",
    "    if i >= 6: # axes is defined to have 6 subplots\n",
    "        break"
   ]
  },
  {
   "cell_type": "markdown",
   "metadata": {},
   "source": [
    "## WSA of impacted junctions\n",
    "In this analysis, impacted junctions are defined as junctions where WSA falls below 0.5 (50% of the expected water was received) at any time during the simulation. Other criteria could also be used to define impact."
   ]
  },
  {
   "cell_type": "code",
   "execution_count": null,
   "metadata": {},
   "outputs": [],
   "source": [
    "# Extract junctions that are impacted by WSA < 0.5 for each landslide scenario\n",
    "impacted_junctions = {}\n",
    "for scenario in wsa_results.columns:\n",
    "    filter = wsa_results[scenario] < 0.5\n",
    "    impacted_junctions[scenario] = wsa_results.index[filter]\n",
    "\n",
    "# Print a list of impacted junctions for each landslide scenario\n",
    "impacted_junctions"
   ]
  },
  {
   "cell_type": "code",
   "execution_count": null,
   "metadata": {
    "scrolled": true
   },
   "outputs": [],
   "source": [
    "# Plot WSA for only the impacted junctions on the network for each landslide scenario\n",
    "fig, axes = plt.subplots(2,3, figsize=(15,10))\n",
    "axes = axes.flatten()\n",
    "\n",
    "for i, scenario in enumerate(wsa_results.columns):\n",
    "    j = impacted_junctions[scenario]\n",
    "    wn_gis.pipes.plot(color='gray', linewidth=1, alpha=0.5, ax=axes[i]) # pipes\n",
    "    if len(j) > 0:\n",
    "        wn_gis.junctions.loc[j,:].plot(column=scenario, cmap='cividis', vmin=0, vmax=1, legend=True, ax=axes[i], legend_kwds={'label':'WSA'}) # junction wsa\n",
    "    tmp = axes[i].set_title('WSA '+scenario)\n",
    "    # Comment/uncomment the following 3 lines to change border/axis around the graphic\n",
    "    #tmp = axes[i].axis('off')\n",
    "    tmp = axes[i].set_xticks([])\n",
    "    tmp = axes[i].set_yticks([])\n",
    "    if i >= 6: # axes is defined to have 6 subplots\n",
    "        break"
   ]
  },
  {
   "cell_type": "markdown",
   "metadata": {},
   "source": [
    "## Save analysis results to GIS files\n",
    "The analysis above stored WSA results for each scenario to the `wn_gis` object, which can be saved to GIS formatted files and loaded into GIS software platforms for further analysis.  **Note that lists (such as the information stored in 'intersections') is not JSON serializable and must first be removed.**"
   ]
  },
  {
   "cell_type": "code",
   "execution_count": null,
   "metadata": {
    "tags": []
   },
   "outputs": [],
   "source": [
    "# Save the results as a GeoJSON file\n",
    "del wn_gis.pipes['intersections']\n",
    "wn_gis.write_geojson('ky10_analysis_results')"
   ]
  },
  {
   "cell_type": "code",
   "execution_count": null,
   "metadata": {},
   "outputs": [],
   "source": []
  }
 ],
 "metadata": {
  "kernelspec": {
   "display_name": "wntr_test",
   "language": "python",
   "name": "python3"
  },
  "language_info": {
   "codemirror_mode": {
    "name": "ipython",
    "version": 3
   },
   "file_extension": ".py",
   "mimetype": "text/x-python",
   "name": "python",
   "nbconvert_exporter": "python",
   "pygments_lexer": "ipython3",
   "version": "3.12.10"
  },
  "toc-autonumbering": true
 },
 "nbformat": 4,
 "nbformat_minor": 4
}
