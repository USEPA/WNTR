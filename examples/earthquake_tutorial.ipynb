{
 "cells": [
  {
   "cell_type": "markdown",
   "metadata": {},
   "source": [
    "# WNTR Earthquake Demo\n",
    "This demonstration covers how to run simple earthquake analysis with partial repairs using WNTR.\n",
    "\n",
    "### 1 Simulation set up\n",
    "\n",
    "#### 1a Import packages\n",
    "Numpy, Pandas, Matplotlib, and SciPy are required to support data handling and graphics/plotting."
   ]
  },
  {
   "cell_type": "code",
   "execution_count": null,
   "metadata": {},
   "outputs": [],
   "source": [
    "import wntr\n",
    "import matplotlib\n",
    "import matplotlib.pylab as plt\n",
    "import numpy as np\n",
    "import pandas as pd\n",
    "from scipy.stats import expon\n",
    "\n",
    "np.random.seed(12345)\n",
    "\n",
    "# Set colormap for network maps\n",
    "cmap=matplotlib.colormaps['viridis']"
   ]
  },
  {
   "cell_type": "markdown",
   "metadata": {},
   "source": [
    "#### 1b Create a water network model and define earthquake characteristics\n",
    "If adapting code for a different INP file, the following code needs to be changed to reflect the correct file path and desired simulation parameters."
   ]
  },
  {
   "cell_type": "code",
   "execution_count": null,
   "metadata": {},
   "outputs": [],
   "source": [
    "# Identify file path to inp file\n",
    "inp_file = \"../networks/Net3.inp\"\n",
    "\n",
    "# Create water network model \n",
    "wn = wntr.network.WaterNetworkModel(inp_file)\n",
    "\n",
    "# Morph network coordinates, this is optional\n",
    "wn = wntr.morph.scale_node_coordinates(wn, 1000) \n",
    "\n",
    "# Define simulation parameters \n",
    "epicenter = (32000,15000) # m (x,y)\n",
    "magnitude = 6.5 # Richter magnitude\n",
    "depth = 10000 # m\n",
    "\n",
    "total_duration = 24*3600 # 24 hours\n",
    "\n",
    "minimum_pressure = 3.52 # 5 psi\n",
    "required_pressure = 14.06 # 20 psi\n",
    "\n",
    "leak_start_time = 5*3600 # 5 hours\n",
    "leak_repair_time =  15*3600 # 15 hours"
   ]
  },
  {
   "cell_type": "markdown",
   "metadata": {},
   "source": [
    "#### 1c Visualize epicenter on water network model"
   ]
  },
  {
   "cell_type": "code",
   "execution_count": null,
   "metadata": {},
   "outputs": [],
   "source": [
    "wntr.graphics.plot_network(wn, node_size=0)\n",
    "plt.scatter(epicenter[0], epicenter[1], s=500, c='r', marker='*', zorder=2)"
   ]
  },
  {
   "cell_type": "markdown",
   "metadata": {},
   "source": [
    "### 2 Create earthquake object \n",
    "\n",
    "#### 2a Initiate earthquake object and define peak ground acceleration (PGA), peak ground velocity (PGV), and repair rates (RR)\n",
    "The parameters defined in **1b** are used to generate fragility curves. Fragility curves are used to define the probability of damage with respect to PGA, PGV, and/or RR."
   ]
  },
  {
   "cell_type": "code",
   "execution_count": null,
   "metadata": {},
   "outputs": [],
   "source": [
    "# Initializes earthquake object\n",
    "earthquake = wntr.scenario.Earthquake(epicenter, magnitude, depth) \n",
    "\n",
    "# Calculates PGA, PGV, and RR\n",
    "R = earthquake.distance_to_epicenter(wn, element_type=wntr.network.Pipe)\n",
    "pga = earthquake.pga_attenuation_model(R)  \n",
    "pgv = earthquake.pgv_attenuation_model(R)\n",
    "RR = earthquake.repair_rate_model(pgv)\n",
    "\n",
    "# Queries pipe lengths for all pipes in the network\n",
    "L = pd.Series(wn.query_link_attribute('length', link_type = wntr.network.Pipe))\n",
    "\n",
    "# Generates fragility curve\n",
    "pipe_FC = wntr.scenario.FragilityCurve()\n",
    "pipe_FC.add_state('Minor Leak', 1, {'Default': expon(scale=0.2)})\n",
    "pipe_FC.add_state('Major Leak', 2, {'Default': expon()})"
   ]
  },
  {
   "cell_type": "markdown",
   "metadata": {},
   "source": [
    "#### 2b Plot fragility curve"
   ]
  },
  {
   "cell_type": "code",
   "execution_count": null,
   "metadata": {},
   "outputs": [],
   "source": [
    "plt.figure()\n",
    "wntr.graphics.plot_fragility_curve(pipe_FC, title = 'Fragility Curve', xlabel='Rate of repair * pipe length')"
   ]
  },
  {
   "cell_type": "markdown",
   "metadata": {},
   "source": [
    "#### 2c Calculate and check leak probabilities"
   ]
  },
  {
   "cell_type": "code",
   "execution_count": null,
   "metadata": {},
   "outputs": [],
   "source": [
    "# Uses RR and fragility curve to calculate leak probabilities \n",
    "pipe_Pr = pipe_FC.cdf_probability(RR*L)\n",
    "pipe_damage_state = pipe_FC.sample_damage_state(pipe_Pr)\n",
    "\n",
    "print(\"Min, Max, Average PGA: \" + str(np.round(pga.min(),2)) + \", \" + str(np.round(pga.max(),2)) + \", \" + str(np.round(pga.mean(),2)) + \" g\")\n",
    "print(\"Min, Max, Average PGV: \" + str(np.round(pgv.min(),2)) + \", \" + str(np.round(pgv.max(),2)) + \", \" + str(np.round(pgv.mean(),2)) + \" m/s\")\n",
    "print(\"Min, Max, Average repair rate: \" + str(np.round(RR.min(),5)) + \", \" + str(np.round(RR.max(),5)) + \", \" + str(np.round(RR.mean(),5)) + \" per m\")\n",
    "print(\"Min, Max, Average repair rate*pipe length: \" + str(np.round((RR*L).min(),5)) + \", \" + str(np.round((RR*L).max(),5)) + \", \" + str(np.round((RR*L).mean(),5)))"
   ]
  },
  {
   "cell_type": "markdown",
   "metadata": {},
   "source": [
    "#### 2d Plot distance to the epicenter, peak ground acceleration, and peak ground velocity"
   ]
  },
  {
   "cell_type": "code",
   "execution_count": null,
   "metadata": {},
   "outputs": [],
   "source": [
    "# Plot Distance to Epicenter\n",
    "wntr.graphics.plot_network(wn, link_attribute=R, node_size=0, link_cmap = cmap, title='Distance to Epicenter')\n",
    "\n",
    "# Plot PGA\n",
    "wntr.graphics.plot_network(wn, link_attribute=pga, node_size=0, link_cmap = cmap, link_width=1.5, title='Peak Ground Acceleration (PGA)')\n",
    "\n",
    "# Plot PGV\n",
    "wntr.graphics.plot_network(wn, link_attribute=pgv, node_size=0, link_cmap = cmap, link_width=1.5, title='Peak Ground Velocity (PVA)')"
   ]
  },
  {
   "cell_type": "markdown",
   "metadata": {},
   "source": [
    "#### 2e Plot repair rate (# of repairs needed per m) and repair rate * pipe length"
   ]
  },
  {
   "cell_type": "code",
   "execution_count": null,
   "metadata": {},
   "outputs": [],
   "source": [
    "# Plot RR\n",
    "wntr.graphics.plot_network(wn, link_attribute=RR, node_size=0, link_cmap = cmap, link_width=1.5, title='Repair Rate')\n",
    "\n",
    "# Plot RR*Pipe Length\n",
    "wntr.graphics.plot_network(wn, link_attribute=(RR*L), node_size=0, link_cmap = cmap, link_width=1.5, title='Repair Rate*Pipe Length')"
   ]
  },
  {
   "cell_type": "markdown",
   "metadata": {},
   "source": [
    "#### 2f Plot probability of leaks and damage state"
   ]
  },
  {
   "cell_type": "code",
   "execution_count": null,
   "metadata": {},
   "outputs": [],
   "source": [
    "# Plot Probability of Minor Leak\n",
    "wntr.graphics.plot_network(wn, link_attribute=pipe_Pr['Minor Leak'], node_size=0, link_cmap = cmap, link_range=[0,1], link_width=1.5, title='Probability of a Minor Leak')\n",
    "\n",
    "# Plot Probability of Major Leak\n",
    "wntr.graphics.plot_network(wn, link_attribute=pipe_Pr['Major Leak'], node_size=0, link_cmap = cmap, link_range=[0,1], link_width=1.5, title='Probability of a Major Leak')"
   ]
  },
  {
   "cell_type": "markdown",
   "metadata": {},
   "source": [
    "### 3 Simulate hydraulics\n",
    "\n",
    "#### 3a Simulate hydraulics without repair"
   ]
  },
  {
   "cell_type": "code",
   "execution_count": null,
   "metadata": {},
   "outputs": [],
   "source": [
    "# Set network parameters\n",
    "wn.options.hydraulic.demand_model = 'PDD'    \n",
    "wn.options.time.duration = total_duration\n",
    "wn.options.hydraulic.minimum_pressure = minimum_pressure\n",
    "wn.options.hydraulic.required_pressure = required_pressure \n",
    "\n",
    "# The simulation uses pressure driven hydraulics and leak models to account for loss.\n",
    "for pipe_name, damage_state in pipe_damage_state.items():\n",
    "    pipe_diameter = wn.get_link(pipe_name).diameter\n",
    "    if damage_state is not None:\n",
    "        if damage_state == 'Major Leak':\n",
    "            leak_diameter = 0.25*pipe_diameter \n",
    "            leak_area = np.pi/4.0*leak_diameter**2\n",
    "        elif damage_state == 'Minor Leak':\n",
    "            leak_diameter = 0.1*pipe_diameter \n",
    "            leak_area = np.pi/4.0*leak_diameter**2\n",
    "        else:\n",
    "            leak_area = 0\n",
    "\n",
    "        # Add pipe leak to network\n",
    "        wn = wntr.morph.split_pipe(wn,pipe_name, pipe_name+'A', 'Leak'+pipe_name)\n",
    "        n = wn.get_node('Leak'+pipe_name)\n",
    "        n.add_leak(wn, area=leak_area, start_time=leak_start_time)\n",
    "    \n",
    "sim = wntr.sim.WNTRSimulator(wn)\n",
    "results = sim.run_sim()"
   ]
  },
  {
   "cell_type": "markdown",
   "metadata": {},
   "source": [
    "#### 3b Identify highest leaks for repair¶"
   ]
  },
  {
   "cell_type": "code",
   "execution_count": null,
   "metadata": {},
   "outputs": [],
   "source": [
    "# Rank leaked demand\n",
    "leaked_demand = results.node['leak_demand']\n",
    "leaked_sum = leaked_demand.sum()\n",
    "leaked_sum.sort_values(ascending=False, inplace=True)\n",
    "\n",
    "# Plot leak demand\n",
    "leaked_demand.index = leaked_demand.index/3600\n",
    "ax=leaked_demand.plot(legend=False)\n",
    "ax.set_ylabel('Leak demand (m3/s)')\n",
    "ax.set_xlabel('Time (hr)')"
   ]
  },
  {
   "cell_type": "code",
   "execution_count": null,
   "metadata": {},
   "outputs": [],
   "source": [
    "# Select top pipes to fix\n",
    "number_of_pipes_to_repair = 4\n",
    "pipes_to_fix = leaked_sum[0:number_of_pipes_to_repair]\n",
    "print(pipes_to_fix)"
   ]
  },
  {
   "cell_type": "markdown",
   "metadata": {},
   "source": [
    "#### 3c Simulate hydraulics with repair\n",
    "When using the same water network model to run multiple simulations (with WNTRSimulator), initial conditions need to be reset between simulations. Initial conditions include simulation time, tank head, reservoir head, pipe status, pump status, and valve status."
   ]
  },
  {
   "cell_type": "code",
   "execution_count": null,
   "metadata": {},
   "outputs": [],
   "source": [
    "# Reset to initial conditions\n",
    "wn.reset_initial_values()\n",
    "\n",
    "# Identify largest leaks\n",
    "leaked_demand = results.node['leak_demand']\n",
    "leaked_sum = leaked_demand.sum()\n",
    "leaked_sum.sort_values(ascending=False, inplace=True)\n",
    "\n",
    "number_of_pipes_to_repair = 4\n",
    "leaks_to_fix = leaked_sum[0:number_of_pipes_to_repair]\n",
    "\n",
    "# Model a partial fixed leak\n",
    "for leak_name in leaks_to_fix.index:\n",
    "    node = wn.get_node(leak_name)\n",
    "    leak_area = node.leak_area\n",
    "    node.remove_leak(wn)\n",
    "    node.add_leak(wn, area=leak_area, start_time=leak_start_time, end_time=leak_repair_time)\n",
    "\n",
    "# Simulate partial repairs\n",
    "results_wrepair = sim.run_sim()"
   ]
  },
  {
   "cell_type": "markdown",
   "metadata": {},
   "source": [
    "### 4 Visualize results\n",
    "\n",
    "#### 4a Plot network pressure"
   ]
  },
  {
   "cell_type": "code",
   "execution_count": null,
   "metadata": {},
   "outputs": [],
   "source": [
    "pressure = results.node['pressure']\n",
    "pressure_wrepair = results_wrepair.node['pressure']\n",
    "pressure.index = pressure.index/3600\n",
    "pressure_wrepair.index = pressure_wrepair.index/3600\n",
    "\n",
    "# Plot pressure 24hr into simulation without repair\n",
    "pressure_at_24hr = pressure.loc[24,wn.junction_name_list]\n",
    "wntr.graphics.plot_network(wn, node_attribute=pressure_at_24hr, node_size=20, \n",
    "                           node_range=[0,90], node_cmap = cmap, node_colorbar_label='Pressure (m)', \n",
    "                           title='Pressure at 24 hours, Without Repair')\n",
    "\n",
    "# Plot pressure 24hr into simulation with partial repair\n",
    "pressure_at_24hr_wrepair = pressure_wrepair.loc[24,wn.junction_name_list]\n",
    "wntr.graphics.plot_network(wn, node_attribute=pressure_at_24hr_wrepair, node_size=20, \n",
    "                           node_range=[0,90], node_cmap = cmap, node_colorbar_label='Pressure (m)', \n",
    "                           title='Pressure at 24 hours, With Repair')\n",
    " \n",
    "# Plot average system pressure with and without partial repairs\n",
    "plt.figure()\n",
    "ax = plt.gca()\n",
    "pressure.loc[:,wn.junction_name_list].mean(axis=1).plot(label='Without Repair', ax=ax)\n",
    "pressure_wrepair.loc[:,wn.junction_name_list].mean(axis=1).plot(label='With Repair', ax=ax)\n",
    "ax.set_xlabel('Time (hr)')\n",
    "ax.set_ylabel('Average system pressure (m)')\n",
    "ax.legend()"
   ]
  },
  {
   "cell_type": "markdown",
   "metadata": {},
   "source": [
    "#### 4b Plot water service availability"
   ]
  },
  {
   "cell_type": "code",
   "execution_count": null,
   "metadata": {},
   "outputs": [],
   "source": [
    "expected_demand = wntr.metrics.expected_demand(wn)\n",
    "demand = results.node['demand'].loc[:,wn.junction_name_list]\n",
    "demand_wrepair = results_wrepair.node['demand'].loc[:,wn.junction_name_list]\n",
    "expected_demand.index = expected_demand.index/3600\n",
    "demand.index = demand.index/3600\n",
    "demand_wrepair.index = demand_wrepair.index/3600\n",
    "\n",
    "# Calculate water service availability (WSA)\n",
    "wsa = wntr.metrics.water_service_availability(expected_demand, demand)\n",
    "wsa_wrepair = wntr.metrics.water_service_availability(expected_demand, demand_wrepair)\n",
    "\n",
    "# Plot WSA\n",
    "fig, axarr = plt.subplots(1,2,figsize=(14,4))\n",
    "ax = axarr[0]\n",
    "wsa.plot(ax=ax, legend=False)\n",
    "ax.set_ylim(ymin=-0.05, ymax=1.05)\n",
    "ax.set_xlabel('Time (hr)')\n",
    "ax.set_ylabel('Water service availability')\n",
    "ax.set_title('Without Repair')\n",
    "ax = axarr[1]\n",
    "wsa_wrepair.plot(ax=ax, legend=False)\n",
    "ax.set_ylim(ymin=-0.05, ymax=1.05)\n",
    "ax.set_xlabel('Time (hr)')\n",
    "ax.set_ylabel('Water service availability')\n",
    "ax.set_title('With Repair')"
   ]
  },
  {
   "cell_type": "markdown",
   "metadata": {},
   "source": [
    "#### 4c Plot population impacted"
   ]
  },
  {
   "cell_type": "code",
   "execution_count": null,
   "metadata": {},
   "outputs": [],
   "source": [
    "# Note that water service availability of NaN is replaced with 0 for the population impacted calculation\n",
    "population = wntr.metrics.population(wn)\n",
    "people_impacted = wntr.metrics.population_impacted(population, wsa.fillna(0), np.less, 0.8)\n",
    "people_impacted_wrepair = wntr.metrics.population_impacted(population, wsa_wrepair.fillna(0), np.less, 0.8)\n",
    "\n",
    "# Plot population impacted\n",
    "fig, axarr = plt.subplots(1,2,figsize=(14,4))\n",
    "ax = axarr[0]\n",
    "people_impacted.plot(ax=ax, legend=False)\n",
    "ax.set_ylim(ymax=35000)\n",
    "ax.set_xlabel('Time (hr)')\n",
    "ax.set_ylabel('Population impacted')\n",
    "ax.set_title('Without Repair')\n",
    "ax = axarr[1]\n",
    "people_impacted_wrepair.plot(ax=ax, legend=False)\n",
    "ax.set_ylim(ymax=35000)\n",
    "ax.set_xlabel('Time (hr)')\n",
    "ax.set_ylabel('Population impacted')\n",
    "ax.set_title('With Repair')"
   ]
  },
  {
   "cell_type": "markdown",
   "metadata": {},
   "source": [
    "#### Data Testing\n",
    "The following code is included for data testing and is not required for the earthquake analysis."
   ]
  },
  {
   "cell_type": "code",
   "execution_count": null,
   "metadata": {},
   "outputs": [],
   "source": [
    "# Test simulation results\n",
    "# Import expected results\n",
    "people_test = pd.read_csv('../../wntr/tests/data_for_testing/earthquake_demo_people_test_data.csv', index_col=0)\n",
    "people_wrepair_test = pd.read_csv('../../wntr/tests/data_for_testing/earthquake_demo_people_wrepair_test_data.csv', index_col=0)\n",
    "\n",
    "# Check if simulation results match expected results\n",
    "assert (people_test == people_impacted).all(axis=None) == True, \"impacted people results differ\"\n",
    "assert (people_wrepair_test == people_impacted_wrepair).all(axis=None)  == True, \"impacted people wrepair results differ\""
   ]
  },
  {
   "cell_type": "code",
   "execution_count": null,
   "metadata": {},
   "outputs": [],
   "source": []
  }
 ],
 "metadata": {
  "kernelspec": {
   "display_name": "wntrdebug",
   "language": "python",
   "name": "python3"
  },
  "language_info": {
   "codemirror_mode": {
    "name": "ipython",
    "version": 3
   },
   "file_extension": ".py",
   "mimetype": "text/x-python",
   "name": "python",
   "nbconvert_exporter": "python",
   "pygments_lexer": "ipython3",
   "version": "3.10.10"
  },
  "vscode": {
   "interpreter": {
    "hash": "45e5fc2add644b17ca9d771f06d4d0791b1baf8fc0ad9b13d75afaf563ce7ce4"
   }
  }
 },
 "nbformat": 4,
 "nbformat_minor": 4
}
