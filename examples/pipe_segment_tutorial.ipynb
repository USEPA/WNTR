{
 "cells": [
  {
   "cell_type": "markdown",
   "metadata": {},
   "source": [
    "# WNTR Segment Break Demo\n",
    "This demonstration covers how to run simple segment break analysis using WNTR.\n",
    "\n",
    "### 1 Simulation set up\n",
    "\n",
    "#### 1a Import packages\n",
    "Matplotlib is required to support data handling and graphics/plotting. "
   ]
  },
  {
   "cell_type": "code",
   "execution_count": null,
   "metadata": {},
   "outputs": [],
   "source": [
    "import wntr\n",
    "import matplotlib\n",
    "import matplotlib.pylab as plt\n",
    "\n",
    "# Set colormap for network maps\n",
    "cmap=matplotlib.colormaps['viridis']"
   ]
  },
  {
   "cell_type": "markdown",
   "metadata": {},
   "source": [
    "#### 1b Create a water network model\n",
    "If adapting code for a different INP file, code for 1b and 1c need to be changed to reflect the correct file path and desired simulation parameters."
   ]
  },
  {
   "cell_type": "code",
   "execution_count": null,
   "metadata": {},
   "outputs": [],
   "source": [
    "# Identify file path to inp file\n",
    "inp_file = \"../networks/Net3.inp\"\n",
    "\n",
    "# Create water network model\n",
    "wn = wntr.network.WaterNetworkModel(inp_file)\n",
    "\n",
    "# Calculate population per junction\n",
    "population = wntr.metrics.population(wn)"
   ]
  },
  {
   "cell_type": "markdown",
   "metadata": {},
   "source": [
    "#### 1c Define pipe break parameters\n",
    "The parameters `minimum_pressure` and `required_pressure` are used for PDD simulations. Nodes with pressures below minimum pressure will not receive any water, and node pressures need to be at least the required pressure to receive all of the requested demand."
   ]
  },
  {
   "cell_type": "code",
   "execution_count": null,
   "metadata": {},
   "outputs": [],
   "source": [
    "# Define simulation parameters \n",
    "start_time = 2*3600 # 2 hours\n",
    "break_duration = 12*3600 # 12 hours\n",
    "total_duration = start_time + break_duration # 14 hours\n",
    "\n",
    "minimum_pressure = 3.52 # 5 psi\n",
    "required_pressure = 14.06 # 20 psi"
   ]
  },
  {
   "cell_type": "markdown",
   "metadata": {},
   "source": [
    "### 2 Check normal conditions\n",
    "\n",
    "#### 2a Identify non-zero (NZD) junctions that fall below minimum pressure during normal conditions\n",
    "This step helps determine which junctions that experience low pressures during the disaster simulation are a direct result of the disaster (step 3). "
   ]
  },
  {
   "cell_type": "code",
   "execution_count": null,
   "metadata": {},
   "outputs": [],
   "source": [
    "# Calculate average expected demand and identify junctions with non-zero average expected demand (AED)\n",
    "AED = wntr.metrics.average_expected_demand(wn)\n",
    "nzd_junct = AED[AED > 0].index\n",
    "\n",
    "# Set hydraulic parameters\n",
    "wn.options.hydraulic.demand_model = 'PDD'    \n",
    "wn.options.time.duration = total_duration\n",
    "wn.options.hydraulic.minimum_pressure = minimum_pressure\n",
    "wn.options.hydraulic.required_pressure = required_pressure \n",
    "\n",
    "# Run simulation\n",
    "sim = wntr.sim.WNTRSimulator(wn)\n",
    "results = sim.run_sim()\n",
    "\n",
    "# Save junction pressure results and identify junctions that fall below minimum pressure\n",
    "pressure = results.node['pressure'].loc[start_time::, nzd_junct]\n",
    "normal_pressure_below_pmin = pressure.columns[(pressure < minimum_pressure).any()]"
   ]
  },
  {
   "cell_type": "markdown",
   "metadata": {},
   "source": [
    "#### 2b Generate link segments, node segments, and valve layer"
   ]
  },
  {
   "cell_type": "code",
   "execution_count": null,
   "metadata": {},
   "outputs": [],
   "source": [
    "# Generate valve layer\n",
    "valve_layer = wntr.network.generate_valve_layer(wn, placement_type='strategic',n=2, seed=123)\n",
    "G = wn.to_graph()\n",
    "\n",
    "# Assign network junctions and links to a segment\n",
    "node_segments, link_segments, seg_sizes = wntr.metrics.valve_segments(G, valve_layer)"
   ]
  },
  {
   "cell_type": "markdown",
   "metadata": {},
   "source": [
    "#### 2c Visualize valve layer"
   ]
  },
  {
   "cell_type": "code",
   "execution_count": null,
   "metadata": {},
   "outputs": [],
   "source": [
    "# Graph valve layer\n",
    "wntr.graphics.plot_valve_layer(wn, valve_layer, add_colorbar=False, include_network=True)"
   ]
  },
  {
   "cell_type": "code",
   "execution_count": null,
   "metadata": {},
   "outputs": [],
   "source": [
    "# Graph segments within network\n",
    "wntr.graphics.plot_network(wn, link_attribute=link_segments, link_cmap = cmap, node_size=0, link_width=2, add_colorbar= False)"
   ]
  },
  {
   "cell_type": "markdown",
   "metadata": {},
   "source": [
    "### 3 Simulate hydraulics\n",
    "\n",
    "A try/except/finally approach is taken to ensure the script can finish running and still catch any convergence issues that might have occurred due to a segment break. A user can revisit nodes with failed simulations individually to determine the cause of failure, if desired. "
   ]
  },
  {
   "cell_type": "code",
   "execution_count": null,
   "metadata": {},
   "outputs": [],
   "source": [
    "# Create dictionary to save results\n",
    "analysis_results = {}\n",
    "\n",
    "# Simulate segment break (simulated as multiple pipe closures) for each segment\n",
    "for segment in link_segments.unique():\n",
    "    wn = wntr.network.WaterNetworkModel(inp_file)\n",
    "    wn.options.hydraulic.demand_model = 'PDD'    \n",
    "    wn.options.time.duration = total_duration\n",
    "    wn.options.hydraulic.minimum_pressure = minimum_pressure\n",
    "    wn.options.hydraulic.required_pressure = required_pressure\n",
    "\n",
    "    # Identify pipes within the segment\n",
    "    pipes_in_seg = link_segments[link_segments == segment]\n",
    "    \n",
    "    for pipe_name in pipes_in_seg.index:\n",
    "        # Create pipe closure control and apply to pipe of interest\n",
    "        pipe = wn.get_link(pipe_name) \n",
    "        act = wntr.network.controls.ControlAction(pipe, 'status', 0)\n",
    "        cond = wntr.network.controls.SimTimeCondition(wn, 'Above', start_time)\n",
    "        ctrl = wntr.network.controls.Control(cond, act)\n",
    "        wn.add_control('close pipe ' + pipe_name, ctrl)\n",
    "        \n",
    "    try:\n",
    "        # Simulate hydraulics\n",
    "        sim = wntr.sim.WNTRSimulator(wn)\n",
    "        sim_results = sim.run_sim()\n",
    " \n",
    "        # Using pressure results, identify impacted junctions\n",
    "        sim_pressure = sim_results.node['pressure'].loc[start_time::, nzd_junct]\n",
    "        sim_pressure_below_pmin = sim_pressure.columns[(sim_pressure < minimum_pressure).any()]\n",
    "        impacted_junctions = set(sim_pressure_below_pmin) - set(normal_pressure_below_pmin)\n",
    "        impacted_junctions = list(impacted_junctions)\n",
    "        \n",
    "    except Exception as e:\n",
    "        # Identify failed simulations and the reason\n",
    "        impacted_junctions = None\n",
    "        print(segment, ' Failed:', e)\n",
    "\n",
    "    finally:\n",
    "        # Save simulation results\n",
    "        analysis_results[segment] = impacted_junctions"
   ]
  },
  {
   "cell_type": "markdown",
   "metadata": {},
   "source": [
    "### 4 Visualize results\n",
    "\n",
    "#### 4a Calculate junction and population impacts\n",
    "The impacts for each segment are calculated and then mapped to each pipe within that segment. This allows for the impacts to be plotted onto a network map correctly. "
   ]
  },
  {
   "cell_type": "code",
   "execution_count": null,
   "metadata": {},
   "outputs": [],
   "source": [
    "# Save junction and population impact results to dictionary\n",
    "num_junctions_impacted_per_segment = {}\n",
    "num_people_impacted_per_segment = {}\n",
    "for segment, impacted_junctions in analysis_results.items():\n",
    "    if impacted_junctions is not None:\n",
    "        num_junctions_impacted_per_segment[segment] = len(impacted_junctions)\n",
    "        num_people_impacted_per_segment[segment] = population[impacted_junctions].sum()\n",
    "\n",
    "# Map segment junction and population impacts to each pipe within the segment\n",
    "num_junctions_impacted = link_segments.map(num_junctions_impacted_per_segment)\n",
    "num_people_impacted = link_segments.map(num_people_impacted_per_segment)"
   ]
  },
  {
   "cell_type": "markdown",
   "metadata": {},
   "source": [
    "#### 4b Plot results\n",
    "If a different INP file from the example Net3.inp file is being used, the parameter node_range can be adjusted to better suit the simulation results."
   ]
  },
  {
   "cell_type": "code",
   "execution_count": null,
   "metadata": {},
   "outputs": [],
   "source": [
    "#Plot junctions impacted due to segment breaks\n",
    "wntr.graphics.plot_network(wn, link_attribute=num_junctions_impacted, node_size=0, link_width=2, \n",
    "                           link_range=[0,10], link_cmap = cmap, link_colorbar_label='Junctions Impacted', \n",
    "                           title='Number of junctions impacted by each segment closure')\n",
    "# Extracts current axes\n",
    "ax = plt.gca()\n",
    "# Graphs valve layer onto the same axes\n",
    "wntr.graphics.plot_valve_layer(wn, valve_layer, add_colorbar=False, include_network=False, ax=ax)\n",
    "\n",
    "#Plot population impacted due to segment breaks\n",
    "wntr.graphics.plot_network(wn, link_attribute=num_people_impacted, node_size=0, link_width=2, \n",
    "                           link_range=[0,5000], link_cmap = cmap, link_colorbar_label='Population Impacted', \n",
    "                           title='Number of people impacted by each segment closure')\n",
    "# Extracts current axes\n",
    "ax = plt.gca()\n",
    "# Graphs valve layer onto the same axes\n",
    "wntr.graphics.plot_valve_layer(wn, valve_layer, add_colorbar=False, include_network=False, ax=ax)"
   ]
  },
  {
   "cell_type": "markdown",
   "metadata": {},
   "source": [
    "#### Data Testing\n",
    "The following code is included for data testing and is not required for segment break analysis."
   ]
  },
  {
   "cell_type": "code",
   "execution_count": null,
   "metadata": {},
   "outputs": [],
   "source": [
    "import pandas as pd\n",
    "\n",
    "# Test simulation results\n",
    "# Import expected results\n",
    "junct_test = pd.read_csv('../../wntr/tests/data_for_testing/segment_break_demo_junction_test_data.csv', index_col = 0).squeeze('columns')\n",
    "people_test = pd.read_csv('../../wntr/tests/data_for_testing/segment_break_demo_people_test_data.csv', index_col = 0).squeeze('columns')\n",
    "\n",
    "# Check if simulation results match expected results\n",
    "num_junctions_impacted.index = num_junctions_impacted.index.astype('int64')\n",
    "num_people_impacted.index = num_people_impacted.index.astype('int64')\n",
    "\n",
    "assert (junct_test == num_junctions_impacted).all(axis=None) == True, \"impacted junction results differ\"\n",
    "assert (people_test == num_people_impacted).all(axis=None)  == True, \"impacted people results differ\""
   ]
  },
  {
   "cell_type": "code",
   "execution_count": null,
   "metadata": {},
   "outputs": [],
   "source": []
  }
 ],
 "metadata": {
  "kernelspec": {
   "display_name": "wntrdebug",
   "language": "python",
   "name": "python3"
  },
  "language_info": {
   "codemirror_mode": {
    "name": "ipython",
    "version": 3
   },
   "file_extension": ".py",
   "mimetype": "text/x-python",
   "name": "python",
   "nbconvert_exporter": "python",
   "pygments_lexer": "ipython3",
   "version": "3.10.10"
  },
  "vscode": {
   "interpreter": {
    "hash": "45e5fc2add644b17ca9d771f06d4d0791b1baf8fc0ad9b13d75afaf563ce7ce4"
   }
  }
 },
 "nbformat": 4,
 "nbformat_minor": 4
}
