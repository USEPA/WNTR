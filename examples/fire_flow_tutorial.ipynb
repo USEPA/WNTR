{
 "cells": [
  {
   "cell_type": "markdown",
   "metadata": {},
   "source": [
    "# WNTR Fire Flow Tutorial\n",
    "The following tutorial covers how to run simple fire flow analysis using WNTR."
   ]
  },
  {
   "cell_type": "markdown",
   "metadata": {},
   "source": [
    "## Imports\n",
    "Import WNTR and additional Python packages that are needed for the tutorial.\n",
    "- Numpy is required to define comparison operators (i.e., np.greater) in queries\n",
    "- Pandas is used for data manipulation and analysis\n",
    "- Matplotlib is used to create graphics"
   ]
  },
  {
   "cell_type": "code",
   "execution_count": null,
   "metadata": {},
   "outputs": [],
   "source": [
    "import wntr\n",
    "import matplotlib\n",
    "import matplotlib.pylab as plt\n",
    "import numpy as np\n",
    "import pandas as pd"
   ]
  },
  {
   "cell_type": "markdown",
   "metadata": {},
   "source": [
    "## Water network model\n",
    "If adapting code for a different EPANET input (INP) file, the correct file path and desired simulation parameters will need to be updated."
   ]
  },
  {
   "cell_type": "code",
   "execution_count": null,
   "metadata": {},
   "outputs": [],
   "source": [
    "# Identify file path to inp file\n",
    "inp_file = \"networks/Net3.inp\"\n",
    "\n",
    "# Create water network model \n",
    "wn = wntr.network.WaterNetworkModel(inp_file)\n",
    "\n",
    "# Calculate population per junction\n",
    "population = wntr.metrics.population(wn)"
   ]
  },
  {
   "cell_type": "markdown",
   "metadata": {},
   "source": [
    "## Fire flow parameters\n",
    "The parameters `minimum_pressure` and `required_pressure` are used for pressure dependent demand (PDD) simulations. Nodes with pressures below minimum pressure will not receive any water, and node pressures need to be at least the required pressure to receive all of the requested demand.\n",
    "\n",
    "Assuming that hydrants are at every junction in the network model, hydrants of interest are identified as the nodes connnected to pipes with diameters of interest. For this reason, a range of pipe diameters to include in the analysis needs to be identified."
   ]
  },
  {
   "cell_type": "code",
   "execution_count": null,
   "metadata": {},
   "outputs": [],
   "source": [
    "# Define simulation parameters \n",
    "start_time = 2*3600 # 2 hours\n",
    "fire_duration = 4*3600 # 4 hours\n",
    "total_duration = start_time + fire_duration\n",
    "\n",
    "fire_demand = 0.5047 # 8000 GPM\n",
    "\n",
    "minimum_pressure = 3.52 # 5 psi\n",
    "required_pressure = 14.06 # 20 psi\n",
    "\n",
    "# Identify the range of pipe diameters\n",
    "min_pipe_diam = 0.1524 # 6 inch\n",
    "max_pipe_diam = 0.2032 # 8 inch"
   ]
  },
  {
   "cell_type": "markdown",
   "metadata": {},
   "source": [
    "## Baseline simulation\n",
    "The baseline simulation can be used to identify non-zero (NZD) junctions that fall below minimum pressure during normal operating conditions. This step helps determine which junctions that experience low pressures during the disaster simulation are a direct result of the disaster and not normal operating conditions. "
   ]
  },
  {
   "cell_type": "code",
   "execution_count": null,
   "metadata": {},
   "outputs": [],
   "source": [
    "# Calculate average expected demand (AED) and identify junctions with non-zero AED\n",
    "AED = wntr.metrics.average_expected_demand(wn)\n",
    "nzd_junct = AED[AED > 0].index\n",
    "\n",
    "# Set hydraulic parameters\n",
    "wn.options.hydraulic.demand_model = 'PDD'    \n",
    "wn.options.time.duration = total_duration\n",
    "wn.options.hydraulic.minimum_pressure = minimum_pressure\n",
    "wn.options.hydraulic.required_pressure = required_pressure \n",
    "\n",
    "# Simulate the hydraulics\n",
    "sim = wntr.sim.WNTRSimulator(wn)\n",
    "results = sim.run_sim()\n",
    "\n",
    "# Save junction pressure results and identify junctions that fall below minimum pressure\n",
    "pressure = results.node['pressure'].loc[start_time::, nzd_junct]\n",
    "normal_pressure_below_pmin = pressure.columns[(pressure < minimum_pressure).any()]"
   ]
  },
  {
   "cell_type": "markdown",
   "metadata": {},
   "source": [
    "## Fire flow simulations \n",
    "A try/except/finally approach is taken to ensure the script can finish running and still catch any convergence issues that might have occurred due to increased fire flow demand. A user can revisit nodes with failed simulations individually to determine the cause of failure, if desired."
   ]
  },
  {
   "cell_type": "code",
   "execution_count": null,
   "metadata": {},
   "outputs": [],
   "source": [
    "# Query pipes with diameters within diameter bounds set earlier to include in analysis\n",
    "pipe_diameter = wn.query_link_attribute('diameter')\n",
    "pipes_of_interest = pipe_diameter[(pipe_diameter <= max_pipe_diam) & (pipe_diameter >= min_pipe_diam)]"
   ]
  },
  {
   "cell_type": "code",
   "execution_count": null,
   "metadata": {},
   "outputs": [],
   "source": [
    "# Identify junctions connected to pipes of interest\n",
    "junct_of_interest = set()\n",
    "for pipe_name in pipes_of_interest.index:\n",
    "    pipe = wn.get_link(pipe_name)\n",
    "    if pipe.start_node_name in wn.junction_name_list:\n",
    "        junct_of_interest.add(pipe.start_node_name)\n",
    "    if pipe.end_node_name in wn.junction_name_list:\n",
    "        junct_of_interest.add(pipe.end_node_name)"
   ]
  },
  {
   "cell_type": "code",
   "execution_count": null,
   "metadata": {},
   "outputs": [],
   "source": [
    "# Create dictionary to save results\n",
    "analysis_results = {}\n",
    "\n",
    "# Simulate fire flow demand for each hydrant location\n",
    "for junct in junct_of_interest:\n",
    "    wn = wntr.network.WaterNetworkModel(inp_file)\n",
    "    wn.options.hydraulic.demand_model = 'PDD'    \n",
    "    wn.options.time.duration = total_duration\n",
    "    wn.options.hydraulic.minimum_pressure = minimum_pressure\n",
    "    wn.options.hydraulic.required_pressure = required_pressure\n",
    "\n",
    "    # Create fire flow pattern\n",
    "    fire_flow_pattern = wntr.network.elements.Pattern.binary_pattern(\n",
    "        'fire_flow',\n",
    "        start_time=start_time,\n",
    "        end_time=total_duration,\n",
    "        step_size=wn.options.time.pattern_timestep,\n",
    "        duration=wn.options.time.duration\n",
    "        )\n",
    "    wn.add_pattern('fire_flow', fire_flow_pattern)\n",
    "\n",
    "    # Apply fire flow pattern to hydrant location\n",
    "    fire_junct = wn.get_node(junct)\n",
    "    fire_junct.demand_timeseries_list.append((fire_demand, fire_flow_pattern, 'Fire flow'))\n",
    "\n",
    "    try:\n",
    "        # Simulate hydraulics\n",
    "        sim = wntr.sim.WNTRSimulator(wn) \n",
    "        sim_results = sim.run_sim()\n",
    " \n",
    "        # Identify impacted junctions using pressure results\n",
    "        sim_pressure = sim_results.node['pressure'].loc[start_time::, nzd_junct]\n",
    "        sim_pressure_below_pmin = sim_pressure.columns[(sim_pressure < minimum_pressure).any()]\n",
    "        impacted_junctions = set(sim_pressure_below_pmin) - set(normal_pressure_below_pmin)\n",
    "        impacted_junctions = list(impacted_junctions)\n",
    "        \n",
    "    except Exception as e:\n",
    "        # Identify failed simulations and the reason\n",
    "        impacted_junctions = None\n",
    "        print(junct, ' Failed:', e)\n",
    "\n",
    "    finally:\n",
    "        # Save simulation results\n",
    "        analysis_results[junct] = impacted_junctions"
   ]
  },
  {
   "cell_type": "markdown",
   "metadata": {},
   "source": [
    "## Results"
   ]
  },
  {
   "cell_type": "code",
   "execution_count": null,
   "metadata": {},
   "outputs": [],
   "source": [
    "# Calculate and save junction and population impact results to dictionary\n",
    "num_junctions_impacted = {}\n",
    "num_people_impacted = {}\n",
    "for pipe_name, impacted_junctions in analysis_results.items():\n",
    "    if impacted_junctions is not None:\n",
    "        num_junctions_impacted[pipe_name] = len(impacted_junctions)\n",
    "        num_people_impacted[pipe_name] = population[impacted_junctions].sum()"
   ]
  },
  {
   "cell_type": "code",
   "execution_count": null,
   "metadata": {},
   "outputs": [],
   "source": [
    "# Set colormap for network maps\n",
    "cmap=matplotlib.colormaps['viridis']\n",
    "\n",
    "# Plot junctions impacted due to increased fire flow\n",
    "# The parameter `node_range` can be adjusted to better suit the simulation results of the network used in the analysis\n",
    "wntr.graphics.plot_network(wn, node_attribute=num_junctions_impacted, node_size=20, link_width=0, \n",
    "                           node_range=[0,5], node_cmap = cmap, node_colorbar_label='Junctions Impacted', \n",
    "                           title='Number of junctions impacted by each fire flow demand')\n",
    "\n",
    "# Plot population impacted due to increased fire flow\n",
    "wntr.graphics.plot_network(wn, node_attribute=num_people_impacted, node_size=20, link_width=0, \n",
    "                           node_range=[0,2500], node_cmap = cmap, node_colorbar_label='Population Impacted',\n",
    "                           title='Number of people impacted by each fire flow demand')                    "
   ]
  },
  {
   "cell_type": "markdown",
   "metadata": {},
   "source": [
    "## Save results to CSV files"
   ]
  },
  {
   "cell_type": "code",
   "execution_count": null,
   "metadata": {},
   "outputs": [],
   "source": [
    "# Save the junction impacted results to CSV\n",
    "# Check to verify the file was created in the directory\n",
    "num_junctions_impacted = pd.Series(num_junctions_impacted)\n",
    "num_junctions_impacted.to_csv('fire_flow_junctions_impacted.csv')\n",
    "\n",
    "# Save the population impacted results to CSV\n",
    "num_people_impacted = pd.Series(num_people_impacted)\n",
    "num_people_impacted.to_csv('fire_flow_people_impacted.csv')"
   ]
  }
 ],
 "metadata": {
  "kernelspec": {
   "display_name": "wntr_test",
   "language": "python",
   "name": "python3"
  },
  "language_info": {
   "codemirror_mode": {
    "name": "ipython",
    "version": 3
   },
   "file_extension": ".py",
   "mimetype": "text/x-python",
   "name": "python",
   "nbconvert_exporter": "python",
   "pygments_lexer": "ipython3",
   "version": "3.12.10"
  }
 },
 "nbformat": 4,
 "nbformat_minor": 4
}
