{
 "cells": [
  {
   "cell_type": "markdown",
   "metadata": {},
   "source": [
    "# WNTR Salt Water Intrusion Tutorial\n",
    "The following tutorial illustrates the use of storm surge data associated with hurricanes to model salt water intrusion into a water distribution system.  \n",
    "\n",
    "The analysis uses storm surge data from [EPA's Creating Resilient Water Utilities (CRWU) website](https://epa.maps.arcgis.com/apps/MapSeries/index.html?appid=852ca645500d419e8c6761b923380663), which sources data from [National Oceanic and Atmospheric Administration's (NOAA's) Sea, Lake, and Overland Surge from Hurricanes (SLOSH) model](https://www.nhc.noaa.gov/nationalsurge/).  The SLOSH model is used by the National Weather Service to estimate storm surge during hurricanes. To simplify the analysis, the salt water inundation rate into the water distribution system is assumed to be proportional to storm surge depth.  More detailed analysis could be pursued by following the methodology laid out by Moglen et. al. in their paper titled [\"A nexus approach to infrastructure resilience planning under uncertainty\"](https://www.sciencedirect.com/science/article/pii/S0951832022005464).\n",
    "\n",
    "The water network model used in the analysis is ky4 from the [UKnowledge Water Distribution Systems Research Database](https://uknowledge.uky.edu/wdsrd/). The model coordinates were moved to a coastal location near Tampa for the tutorial."
   ]
  },
  {
   "cell_type": "markdown",
   "metadata": {},
   "source": [
    "# Imports\n",
    "Import WNTR and other Python packages needed for the tutorial.\n",
    "- os.path.join is required to define file paths\n",
    "- Numpy is required to create and manipulate arrays\n",
    "- Rasterio is used to load and plot the storm surge data \n",
    "- Matplotlib is required to create graphics"
   ]
  },
  {
   "cell_type": "code",
   "execution_count": null,
   "metadata": {},
   "outputs": [],
   "source": [
    "from os.path import join\n",
    "import numpy as np\n",
    "import rasterio as rs\n",
    "from rasterio.plot import show\n",
    "import matplotlib.pyplot as plt\n",
    "import wntr"
   ]
  },
  {
   "cell_type": "markdown",
   "metadata": {},
   "source": [
    "# Create the WaterNetworkModel"
   ]
  },
  {
   "cell_type": "markdown",
   "metadata": {},
   "source": [
    "Load the EPANET INP file into WNTR to create a WaterNetworkModel"
   ]
  },
  {
   "cell_type": "code",
   "execution_count": null,
   "metadata": {},
   "outputs": [],
   "source": [
    "network_path = \"data/coastal_ky4.inp\"\n",
    "wn = wntr.network.WaterNetworkModel(network_path) "
   ]
  },
  {
   "cell_type": "markdown",
   "metadata": {},
   "source": [
    "Set simulation time and water quality options"
   ]
  },
  {
   "cell_type": "code",
   "execution_count": null,
   "metadata": {},
   "outputs": [],
   "source": [
    "# set time options to run at hourly time steps for eight days\n",
    "wn.options.time.hydraulic_timestep = 3600\n",
    "wn.options.time.quality_timestep = 3600\n",
    "wn.options.time.duration = 3600 * 192\n",
    "\n",
    "# Set parameter type for quality simulation and add a name for the chemical\n",
    "wn.options.quality.parameter = \"CHEMICAL\"\n",
    "wn.options.quality.chemical_name = \"NaCl\""
   ]
  },
  {
   "cell_type": "markdown",
   "metadata": {},
   "source": [
    "GeoDataFrames are created from the WaterNetworkModel using `to_gis`.  The GeoDataFrames are used in associate junctions with the storm surge data."
   ]
  },
  {
   "cell_type": "code",
   "execution_count": null,
   "metadata": {},
   "outputs": [],
   "source": [
    "wn_gis = wn.to_gis(crs=\"EPSG:4269\")"
   ]
  },
  {
   "cell_type": "markdown",
   "metadata": {},
   "source": [
    "Plot the water network model"
   ]
  },
  {
   "cell_type": "code",
   "execution_count": null,
   "metadata": {},
   "outputs": [],
   "source": [
    "fig, ax = plt.subplots()\n",
    "ax = wntr.graphics.plot_network(wn, ax=ax)"
   ]
  },
  {
   "cell_type": "markdown",
   "metadata": {},
   "source": [
    "# Load storm surge data\n",
    "For the purposes of this tutorial, a subset of the storm surge raster data is used to keep file size small. To download the entire raster dataset, navigate to the [NOAA National Storm Surge Risk Maps webpage](https://www.nhc.noaa.gov/nationalsurge/). Scroll down to the \"Data Availability and Download\" section and use the link labeled \"Texas to Maine (high tide scenario)\" to obtain a zip file containing the storm surge scenarios. Unzip the folder and adjust the `raster_path` variable below to point to the folder's location. \n",
    "\n",
    "Load the raster data using the geographic extent of the water network model."
   ]
  },
  {
   "cell_type": "code",
   "execution_count": null,
   "metadata": {},
   "outputs": [],
   "source": [
    "raster_path = join(\"data\", \"coastal_ky4_storm_surge.tif\")\n",
    "\n",
    "min_lon, min_lat, max_lon, max_lat = wn_gis.junctions.total_bounds\n",
    "\n",
    "with rs.open(raster_path) as src:\n",
    "    window = rs.windows.from_bounds(min_lon, min_lat, max_lon, max_lat, src.transform)\n",
    "    inundation_raster = src.read(1, window=window)\n",
    "    raster_transform = src.window_transform(window)\n",
    "    raster_crs = src.crs"
   ]
  },
  {
   "cell_type": "markdown",
   "metadata": {},
   "source": [
    "Convert raster data to float and convert missing data values (255) to NaN"
   ]
  },
  {
   "cell_type": "code",
   "execution_count": null,
   "metadata": {},
   "outputs": [],
   "source": [
    "inundation_raster = inundation_raster.astype(float) # change dtype from int to float to allow for NaN value\n",
    "inundation_raster[inundation_raster==255] = np.nan # 255 indicates no data"
   ]
  },
  {
   "cell_type": "markdown",
   "metadata": {},
   "source": [
    "Plot the storm surge data"
   ]
  },
  {
   "cell_type": "code",
   "execution_count": null,
   "metadata": {},
   "outputs": [],
   "source": [
    "fig, ax = plt.subplots(figsize=(10,10))\n",
    "imshow = show(inundation_raster, transform=raster_transform, ax=ax, zorder=5)\n",
    "im = imshow.get_images()[0]\n",
    "fig.colorbar(im, ax=ax, shrink=0.5)"
   ]
  },
  {
   "cell_type": "markdown",
   "metadata": {},
   "source": [
    "# Associate storm surge data with the WaterNetworkModel"
   ]
  },
  {
   "cell_type": "markdown",
   "metadata": {},
   "source": [
    "WNTR's `sample_raster` function provides a way to associate raster values to point geometries, such as junctions."
   ]
  },
  {
   "cell_type": "code",
   "execution_count": null,
   "metadata": {},
   "outputs": [],
   "source": [
    "junctions = wn_gis.junctions\n",
    "junctions['inundation_level'] = wntr.gis.sample_raster(junctions, raster_path, bands=1)\n",
    "print(junctions['inundation_level'].head())"
   ]
  },
  {
   "cell_type": "markdown",
   "metadata": {},
   "source": [
    "Plot junctions with storm surge level"
   ]
  },
  {
   "cell_type": "code",
   "execution_count": null,
   "metadata": {},
   "outputs": [],
   "source": [
    "fig, ax = plt.subplots(figsize=(10,10))\n",
    "\n",
    "# plot storm surge data\n",
    "im = show(inundation_raster, transform=raster_transform, \n",
    "          vmin=np.nanmin(inundation_raster), vmax=np.nanmax(inundation_raster), \n",
    "          ax=ax, alpha=0.5)\n",
    "\n",
    "# plot junctions with associated inundation level\n",
    "ax = wntr.graphics.plot_network(wn, node_attribute=junctions[\"inundation_level\"], node_cmap=\"viridis\", ax=ax)"
   ]
  },
  {
   "cell_type": "markdown",
   "metadata": {},
   "source": [
    "# Add salt water intrusion to the WaterNetworkModel\n",
    "The analysis uses storm surge values to determine salt water intrusion across the WaterNetworkModel. Salt water intrusion is modeled using concentration sources (CONCEN) to inject salt water into the system at junctions inundated by the storm. The inundation rate is assumed to be proportional to the storm surge depth. The concentration of salt is set to 35 kg / m^3.  The analysis assumes that the storm surge starts at hour 2 and ends at hour 22.\n",
    "\n",
    "\n",
    "To model saltwater intrusion at each junction, the level of sea water inundation is used to determine the amount of salt water entering the system at each junction. The density of salt in sea water is 35 kg/m^3. In this analysis, the inundation bins levels from 0-6 are linearly converted to salt water densities with 0 having no salt water and 6 having the maximum density of salt water.\n",
    "\n",
    "Estimate salt water intrusion rate using inundation levels"
   ]
  },
  {
   "cell_type": "code",
   "execution_count": null,
   "metadata": {},
   "outputs": [],
   "source": [
    "salt_water_flowrate = junctions[\"inundation_level\"].copy()\n",
    "salt_water_flowrate[:] = - 0.0001 * salt_water_flowrate[:] # m3/s\n",
    "print(salt_water_flowrate.head())"
   ]
  },
  {
   "cell_type": "markdown",
   "metadata": {},
   "source": [
    "Plot salt water flowrate distribution"
   ]
  },
  {
   "cell_type": "code",
   "execution_count": null,
   "metadata": {},
   "outputs": [],
   "source": [
    "fig, ax = plt.subplots()\n",
    "ax.hist(salt_water_flowrate)\n",
    "ax.set_xlabel(\"Salt water flowrate (m^3 / s)\")\n",
    "ax.set_ylabel(\"Node count\")\n",
    "ax.set_title(\"Distribution of salt water flowrate\")"
   ]
  },
  {
   "cell_type": "markdown",
   "metadata": {},
   "source": [
    "Add a binary pattern to the WaterNetworkModel to create the concentration source.  The binary pattern starts at hour 2 and ends at hour 22."
   ]
  },
  {
   "cell_type": "code",
   "execution_count": null,
   "metadata": {},
   "outputs": [],
   "source": [
    "storm_start = 2*3600\n",
    "storm_end = 22*3600\n",
    "source_pattern = wntr.network.elements.Pattern.binary_pattern('StormSurge',\n",
    "    start_time=storm_start, end_time=storm_end, duration=wn.options.time.duration,\n",
    "    step_size=wn.options.time.pattern_timestep)\n",
    "\n",
    "wn.add_pattern('StormSurge', source_pattern)"
   ]
  },
  {
   "cell_type": "markdown",
   "metadata": {},
   "source": [
    "Add a source at each junction that is inundated, using the estimated flow rates and salt water density"
   ]
  },
  {
   "cell_type": "code",
   "execution_count": null,
   "metadata": {
    "scrolled": true
   },
   "outputs": [],
   "source": [
    "inundated = salt_water_flowrate < 0.0\n",
    "salt_water_density = 35 # kg/m3 \n",
    "for junction_name in wn.junction_name_list:\n",
    "    if inundated[junction_name]:\n",
    "        junction = wn.get_node(junction_name)\n",
    "        wn.add_source(f'Source_{junction_name}', junction_name, 'CONCEN', salt_water_density, 'StormSurge')\n",
    "        junction.add_demand(base=salt_water_flowrate[junction_name], pattern_name='StormSurge')"
   ]
  },
  {
   "cell_type": "markdown",
   "metadata": {},
   "source": [
    "# Run the baseline storm surge simulation"
   ]
  },
  {
   "cell_type": "markdown",
   "metadata": {},
   "source": [
    "Simulate hydraulics and water quality, extract water quality results"
   ]
  },
  {
   "cell_type": "code",
   "execution_count": null,
   "metadata": {},
   "outputs": [],
   "source": [
    "sim = wntr.sim.EpanetSimulator(wn)\n",
    "baseline_results = sim.run_sim()\n",
    "baseline_quality = baseline_results.node['quality']\n",
    "print(baseline_quality.head())"
   ]
  },
  {
   "cell_type": "markdown",
   "metadata": {},
   "source": [
    "Plot results"
   ]
  },
  {
   "cell_type": "code",
   "execution_count": null,
   "metadata": {},
   "outputs": [],
   "source": [
    "fig, ax = plt.subplots()\n",
    "baseline_quality.mean(axis=1).plot(ax=ax, label=\"Average salt density\")\n",
    "ax.axvspan(storm_start, storm_end, color='grey', alpha=0.5, label=\"Storm Duration\")\n",
    "ax.legend()\n",
    "ax.set_xlabel(\"Seconds\")\n",
    "ax.set_ylabel(\"Salt water density (kg/m^3)\")"
   ]
  },
  {
   "cell_type": "markdown",
   "metadata": {},
   "source": [
    "Plot average salt water concentration during the storm surge"
   ]
  },
  {
   "cell_type": "code",
   "execution_count": null,
   "metadata": {},
   "outputs": [],
   "source": [
    "avg_salt_water = baseline_quality.loc[storm_start:storm_end].mean(axis=0)\n",
    "ax = wntr.graphics.plot_network(wn, node_attribute=avg_salt_water, node_colorbar_label=\"\", title=\"Average salt\")"
   ]
  },
  {
   "cell_type": "markdown",
   "metadata": {},
   "source": [
    "# Run a storm surge simulation with flushing response\n",
    "Hydrant flushing locations are selected to remove salt water from the system.  The locations are randomly selected, however other selection methods could also be used."
   ]
  },
  {
   "cell_type": "code",
   "execution_count": null,
   "metadata": {},
   "outputs": [],
   "source": [
    "np.random.seed(1234)\n",
    "number_of_hydrants = 5\n",
    "\n",
    "hydrant_nodes = list(np.random.choice(wn.junction_name_list, number_of_hydrants))"
   ]
  },
  {
   "cell_type": "markdown",
   "metadata": {},
   "source": [
    "Plot hydrant locations"
   ]
  },
  {
   "cell_type": "code",
   "execution_count": null,
   "metadata": {
    "scrolled": true
   },
   "outputs": [],
   "source": [
    "wntr.graphics.plot_network(wn, node_attribute=hydrant_nodes)"
   ]
  },
  {
   "cell_type": "markdown",
   "metadata": {},
   "source": [
    "Add fire flow demand at the hydrant locations to flush the system"
   ]
  },
  {
   "cell_type": "code",
   "execution_count": null,
   "metadata": {},
   "outputs": [],
   "source": [
    "fire_flow_demand = 0.126 # 2000 gal/min\n",
    "hydrant_start = storm_end\n",
    "hydrant_end = storm_end + 72 * 3600\n",
    "\n",
    "for hydrant_node in hydrant_nodes:\n",
    "    junction = wn.get_node(hydrant_node)\n",
    "    junction.add_fire_fighting_demand(wn, fire_flow_demand, hydrant_start, hydrant_end)"
   ]
  },
  {
   "cell_type": "markdown",
   "metadata": {},
   "source": [
    "Run the simulation with flushing response and extract water quality results"
   ]
  },
  {
   "cell_type": "code",
   "execution_count": null,
   "metadata": {},
   "outputs": [],
   "source": [
    "sim = wntr.sim.EpanetSimulator(wn)\n",
    "response_results = sim.run_sim()\n",
    "response_quality = response_results.node['quality']\n",
    "print(response_quality.head())"
   ]
  },
  {
   "cell_type": "markdown",
   "metadata": {},
   "source": [
    "Plot results"
   ]
  },
  {
   "cell_type": "code",
   "execution_count": null,
   "metadata": {},
   "outputs": [],
   "source": [
    "fig, ax = plt.subplots()\n",
    "baseline_quality.mean(axis=1).plot(ax=ax, label=\"Baseline average salt density\")\n",
    "response_quality.mean(axis=1).plot(ax=ax, label=\"Response average salt density\")\n",
    "ax.axvspan(storm_start, storm_end, color='grey', alpha=0.5, label=\"Storm Duration\")\n",
    "ax.axvspan(hydrant_start, hydrant_end, color='blue', alpha=0.5, label=\"Hydrant Duration\")\n",
    "ax.legend()\n",
    "ax.set_xlabel(\"Time (s)\")\n",
    "ax.set_ylabel(\"Salt water density (kg/m^3)\")"
   ]
  }
 ],
 "metadata": {
  "kernelspec": {
   "display_name": "Python 3 (ipykernel)",
   "language": "python",
   "name": "python3"
  },
  "language_info": {
   "codemirror_mode": {
    "name": "ipython",
    "version": 3
   },
   "file_extension": ".py",
   "mimetype": "text/x-python",
   "name": "python",
   "nbconvert_exporter": "python",
   "pygments_lexer": "ipython3",
   "version": "3.11.7"
  }
 },
 "nbformat": 4,
 "nbformat_minor": 4
}
