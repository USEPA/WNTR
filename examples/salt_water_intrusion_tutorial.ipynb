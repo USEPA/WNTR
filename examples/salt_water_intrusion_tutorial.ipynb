{
 "cells": [
  {
   "cell_type": "markdown",
   "metadata": {},
   "source": [
    "# WNTR Saltwater Intrusion Tutorial\n",
    "The following tutorial illustrates the use of storm surge data associated with hurricanes to simulate saltwater intrusion into a drinking water distribution system.  \n",
    "\n",
    "The analysis uses storm surge data from [EPA's Creating Resilient Water Utilities (CRWU) website](https://epa.maps.arcgis.com/apps/MapSeries/index.html?appid=852ca645500d419e8c6761b923380663), which sources data from [National Oceanic and Atmospheric Administration's (NOAA's) Sea, Lake, and Overland Surge from Hurricanes (SLOSH) model](https://www.nhc.noaa.gov/nationalsurge/). The SLOSH model is used by the National Weather Service to estimate storm surge during hurricanes. To simplify the analysis in this tutorial, the saltwater inundation rate into the drinking water distribution system is assumed to be proportional to the storm surge depth. A more detailed analysis could be pursued by following the methodology laid out by Moglen et al. in their paper titled [\"A nexus approach to infrastructure resilience planning under uncertainty\"](https://www.sciencedirect.com/science/article/pii/S0951832022005464).\n",
    "\n",
    "The water network model used in the analysis is KY 4 from the [UKnowledge Water Distribution Systems Research Database](https://uknowledge.uky.edu/wdsrd/). For this tutorial, the model coordinates were changed, so that the network is in a coastal location near Tampa."
   ]
  },
  {
   "cell_type": "markdown",
   "metadata": {},
   "source": [
    "# Imports\n",
    "Import WNTR and other Python packages needed for the tutorial.\n",
    "- Numpy is required to create and manipulate arrays\n",
    "- Rasterio is used to load and plot the storm surge data \n",
    "- Matplotlib is used to create graphics"
   ]
  },
  {
   "cell_type": "code",
   "execution_count": null,
   "metadata": {},
   "outputs": [],
   "source": [
    "import numpy as np\n",
    "import rasterio as rs\n",
    "from rasterio.plot import show\n",
    "import matplotlib.pyplot as plt\n",
    "import wntr"
   ]
  },
  {
   "cell_type": "markdown",
   "metadata": {},
   "source": [
    "# Create the water network model"
   ]
  },
  {
   "cell_type": "code",
   "execution_count": null,
   "metadata": {},
   "outputs": [],
   "source": [
    "# Create a WaterNetworkModel from an EPANET input (INP) file\n",
    "network_path = \"data/coastal_ky4.inp\"\n",
    "wn = wntr.network.WaterNetworkModel(network_path) "
   ]
  },
  {
   "cell_type": "code",
   "execution_count": null,
   "metadata": {},
   "outputs": [],
   "source": [
    "# Define number of seconds in a day\n",
    "s_per_day = 24 * 3600 ## unit conversion for seconds per day\n",
    "\n",
    "# Set the simulation time options to run at hourly time steps for eight days\n",
    "wn.options.time.hydraulic_timestep = 3600\n",
    "wn.options.time.quality_timestep = 3600\n",
    "wn.options.time.duration = 8 * s_per_day\n",
    "\n",
    "# Set the parameter type for the water quality simulation to chemical \n",
    "wn.options.quality.parameter = \"CHEMICAL\"\n",
    "# Set the name of the chemical species to NaCl to measure salt levels throughout the simulation\n",
    "wn.options.quality.chemical_name = \"NaCl\""
   ]
  },
  {
   "cell_type": "markdown",
   "metadata": {},
   "source": [
    "GeoDataFrames are created from the `WaterNetworkModel` using `to_gis`. The GeoDataFrames are used to associate junctions with the storm surge data. The coordinate reference system (CRS) is set to **EPSG:4269 NAD83 / North America** (see https://epsg.io/4269 for more details). "
   ]
  },
  {
   "cell_type": "code",
   "execution_count": null,
   "metadata": {},
   "outputs": [],
   "source": [
    "# Set the CRS to EPSG:4269 NAD83 / North America\n",
    "wn_gis = wn.to_gis(crs=\"EPSG:4269\")"
   ]
  },
  {
   "cell_type": "code",
   "execution_count": null,
   "metadata": {},
   "outputs": [],
   "source": [
    "# Plot the network model\n",
    "ax = wntr.graphics.plot_network(wn)"
   ]
  },
  {
   "cell_type": "markdown",
   "metadata": {},
   "source": [
    "# Load storm surge data\n",
    "For the purposes of this tutorial, a subset of the storm surge raster data is used to keep the file size small. To download the entire raster dataset, \n",
    "- Navigate to the [NOAA National Storm Surge Risk Maps webpage](https://www.nhc.noaa.gov/nationalsurge/) \n",
    "- Scroll down to the \"Data Availability and Download\" section \n",
    "- Select the link labeled \"Texas to Maine (high tide scenario)\" to obtain a zip file containing the storm surge scenarios\n",
    "- Unzip the folder and adjust the `raster_path` variable below to point to the folder's location "
   ]
  },
  {
   "cell_type": "code",
   "execution_count": null,
   "metadata": {},
   "outputs": [],
   "source": [
    "# Load the storm surge raster data using the geographic extent of the water network model\n",
    "# Storm surge refers to the sea water inundation in feet of coastal lands\n",
    "raster_path = \"data/coastal_ky4_storm_surge.tif\"\n",
    "\n",
    "min_lon, min_lat, max_lon, max_lat = wn_gis.junctions.total_bounds\n",
    "\n",
    "with rs.open(raster_path) as src:\n",
    "    window = rs.windows.from_bounds(min_lon, min_lat, max_lon, max_lat, src.transform)\n",
    "    inundation_raster = src.read(1, window=window)\n",
    "    raster_transform = src.window_transform(window)\n",
    "    raster_crs = src.crs"
   ]
  },
  {
   "cell_type": "code",
   "execution_count": null,
   "metadata": {},
   "outputs": [],
   "source": [
    "# Convert raster data to float to allow for NaN value  \n",
    "inundation_raster = inundation_raster.astype(float)  \n",
    "# Convert missing data values (255 indicates no data) to NaN \n",
    "inundation_raster[inundation_raster==255] = np.nan "
   ]
  },
  {
   "cell_type": "code",
   "execution_count": null,
   "metadata": {},
   "outputs": [],
   "source": [
    "# Plot the storm surge data\n",
    "fig, ax = plt.subplots(figsize=(10,10))\n",
    "imshow = show(inundation_raster, transform=raster_transform, ax=ax, zorder=5)\n",
    "im = imshow.get_images()[0]\n",
    "tmp = ax.set_title('Storm surge data')\n",
    "tmp = ax.set_xticks([])\n",
    "tmp = ax.set_yticks([])\n",
    "fig.colorbar(im, ax=ax, shrink=0.5, label='Inundation depth (ft)')"
   ]
  },
  {
   "cell_type": "markdown",
   "metadata": {},
   "source": [
    "# Associate storm surge data with the WaterNetworkModel"
   ]
  },
  {
   "cell_type": "markdown",
   "metadata": {},
   "source": [
    "WNTR's `sample_raster` function provides a way to associate raster values to point geometries, such as junctions."
   ]
  },
  {
   "cell_type": "code",
   "execution_count": null,
   "metadata": {},
   "outputs": [],
   "source": [
    "# Assign inundation levels to junctions\n",
    "junctions = wn_gis.junctions\n",
    "junctions['inundation_level'] = wntr.gis.sample_raster(junctions, raster_path)\n",
    "# Print the first 5 junctions with their inundation level\n",
    "print(junctions['inundation_level'].head())"
   ]
  },
  {
   "cell_type": "code",
   "execution_count": null,
   "metadata": {},
   "outputs": [],
   "source": [
    "# Plot the storm surge data overlaid with the network model\n",
    "fig, ax = plt.subplots(figsize=(10,10))\n",
    "\n",
    "# Plot storm surge data\n",
    "im = show(inundation_raster, transform=raster_transform, \n",
    "          vmin=np.nanmin(inundation_raster), vmax=np.nanmax(inundation_raster), \n",
    "          ax=ax, alpha=0.5)\n",
    "tmp = ax.set_title('Storm surge data')\n",
    "\n",
    "# Plot junctions with associated inundation level\n",
    "ax = wntr.graphics.plot_network(wn, node_attribute=junctions[\"inundation_level\"], node_cmap=\"viridis\", ax=ax, node_colorbar_label='Inundation\\ndepth (ft)')"
   ]
  },
  {
   "cell_type": "markdown",
   "metadata": {},
   "source": [
    "# Add saltwater intrusion to the WaterNetworkModel\n",
    "The analysis uses storm surge values to determine saltwater intrusion across the `WaterNetworkModel`. Saltwater intrusion is simulated using the source quality type \"CONCEN\", which models saltwater intrusion at the junctions as an injection of salt with different concentrations. The inundation rate (flowrate of sea water into network) is assumed to be proportional to the storm surge depth. The analysis assumes that the storm surge starts at hour 2 and ends at hour 22. The average concentration of salt in sea water is 35 kg/m^3. In this analysis, the inundation level is converted to saltwater concentrations with 0 having no saltwater and 6 having the maximum concentration of salt, which is 35 kg/m^3."
   ]
  },
  {
   "cell_type": "code",
   "execution_count": null,
   "metadata": {},
   "outputs": [],
   "source": [
    "# Estimate the saltwater flowrates using the inundation levels\n",
    "salt_water_flowrate = junctions[\"inundation_level\"].copy()\n",
    "salt_water_flowrate[:] = - 0.0001 * salt_water_flowrate[:] # m3/s\n",
    "# Print the saltwater flowrate for the first 5 junctions only \n",
    "print(salt_water_flowrate.head())"
   ]
  },
  {
   "cell_type": "code",
   "execution_count": null,
   "metadata": {},
   "outputs": [],
   "source": [
    "# Plot the distribution of saltwater flowrates\n",
    "fig, ax = plt.subplots()\n",
    "ax.hist(salt_water_flowrate)\n",
    "ax.set_xlabel(\"Saltwater flowrate (m$^3$/s)\")\n",
    "ax.set_ylabel(\"Node count\")\n",
    "ax.set_title(\"Distribution of saltwater flowrate\")"
   ]
  },
  {
   "cell_type": "code",
   "execution_count": null,
   "metadata": {},
   "outputs": [],
   "source": [
    "# Create a binary pattern, called StormSurge, that starts at hour 2 and ends at hour 22 in the simulation\n",
    "# This pattern is used to simulate the injection of salt into the network\n",
    "storm_start = 2*3600\n",
    "storm_end = 22*3600\n",
    "source_pattern = wntr.network.elements.Pattern.binary_pattern('StormSurge',\n",
    "    start_time=storm_start, end_time=storm_end, duration=wn.options.time.duration,\n",
    "    step_size=wn.options.time.pattern_timestep)\n",
    "\n",
    "# Add the pattern, StormSurge, to the water network model\n",
    "wn.add_pattern('StormSurge', source_pattern)"
   ]
  },
  {
   "cell_type": "code",
   "execution_count": null,
   "metadata": {
    "scrolled": true
   },
   "outputs": [],
   "source": [
    "# Define inundated junction, which is junction with saltwater flowrate less than zero  \n",
    "inundated = salt_water_flowrate < 0.0\n",
    "salt_water_conc = 35 # kg/m3 \n",
    "# Add a salt injection source at each inundated junction \n",
    "# Saltwater concentration is used to define the salt concentration injected\n",
    "# Saltwater flowrate is used as the injection rate \n",
    "# StormSurge pattern is used to define the hours for which the injection occurs \n",
    "for junction_name in wn.junction_name_list:\n",
    "    if inundated[junction_name]:\n",
    "        junction = wn.get_node(junction_name)\n",
    "        wn.add_source(f'Source_{junction_name}', junction_name, 'CONCEN', salt_water_conc, 'StormSurge')\n",
    "        junction.add_demand(base=salt_water_flowrate[junction_name], pattern_name='StormSurge')"
   ]
  },
  {
   "cell_type": "markdown",
   "metadata": {},
   "source": [
    "# Simulate the baseline storm surge scenario"
   ]
  },
  {
   "cell_type": "code",
   "execution_count": null,
   "metadata": {},
   "outputs": [],
   "source": [
    "# Simulate the hydraulics and water quality for the baseline scenario\n",
    "sim = wntr.sim.EpanetSimulator(wn)\n",
    "# Extract the water quality results (i.e., salt concentration in kg/m^3)\n",
    "baseline_results = sim.run_sim()\n",
    "baseline_quality = baseline_results.node['quality']\n",
    "baseline_quality.index = baseline_quality.index / s_per_day ## converts to days\n",
    "# Print the junction salt concentration for the first 5 timesteps only \n",
    "print(baseline_quality.head())"
   ]
  },
  {
   "cell_type": "code",
   "execution_count": null,
   "metadata": {},
   "outputs": [],
   "source": [
    "# Plot the average salt concentration in the network over time\n",
    "fig, ax = plt.subplots()\n",
    "baseline_quality.mean(axis=1).plot(ax=ax, label=\"Average salt concentration\")\n",
    "ax.axvspan(storm_start/s_per_day, storm_end/s_per_day, color='grey', alpha=0.5, label=\"Storm duration\")\n",
    "ax.legend()\n",
    "ax.set_title(\"Average salt concentration\")\n",
    "ax.set_xlabel(\"Time (day)\")\n",
    "ax.set_ylabel(\"Saltwater concentration (kg/m$^3$)\")"
   ]
  },
  {
   "cell_type": "code",
   "execution_count": null,
   "metadata": {},
   "outputs": [],
   "source": [
    "# Plot the average salt concentration for each junction of the network during the storm surge\n",
    "avg_salt_water = baseline_quality.loc[storm_start/s_per_day:storm_end/s_per_day].mean(axis=0)\n",
    "ax = wntr.graphics.plot_network(wn, node_attribute=avg_salt_water, node_colorbar_label=\"Salt concentration\\n(kg/m$^3$)\", title=\"Average salt concentration\")\n",
    "tmp = ax.set_xticks([])\n",
    "tmp = ax.set_yticks([])"
   ]
  },
  {
   "cell_type": "markdown",
   "metadata": {},
   "source": [
    "# Investigate response actions to saltwater intrusion scenario\n",
    "Hydrant flushing can be a response action to remove saltwater from the network. For this tutorial, the hydrant locations are randomly identified, but other identification methods could also be used (e.g., predefined list from a geographich information system (GIS) layer)."
   ]
  },
  {
   "cell_type": "code",
   "execution_count": null,
   "metadata": {},
   "outputs": [],
   "source": [
    "# Generate random locations for 5 hydrants in the network\n",
    "np.random.seed(1234)\n",
    "number_of_hydrants = 5\n",
    "\n",
    "hydrant_nodes = list(np.random.choice(wn.junction_name_list, number_of_hydrants))"
   ]
  },
  {
   "cell_type": "code",
   "execution_count": null,
   "metadata": {
    "scrolled": true
   },
   "outputs": [],
   "source": [
    "# Plot the locations of hydrants in the network\n",
    "wntr.graphics.plot_network(wn, node_attribute=hydrant_nodes, title=\"Network hydrant locations\")"
   ]
  },
  {
   "cell_type": "code",
   "execution_count": null,
   "metadata": {},
   "outputs": [],
   "source": [
    "# Define the hydrant flushing rate and duration\n",
    "flushing_rate = 0.126 # 2000 gal/min\n",
    "hydrant_start = storm_end\n",
    "hydrant_end = storm_end + 72 * 3600\n",
    "\n",
    "# Add the hydrant flushing rate to the hydrant locations in the network\n",
    "for hydrant_node in hydrant_nodes:\n",
    "    junction = wn.get_node(hydrant_node)\n",
    "    junction.add_fire_fighting_demand(wn, flushing_rate, hydrant_start, hydrant_end)"
   ]
  },
  {
   "cell_type": "code",
   "execution_count": null,
   "metadata": {},
   "outputs": [],
   "source": [
    "# Simulate the hydraulics and water quality for the flushing response \n",
    "sim = wntr.sim.EpanetSimulator(wn)\n",
    "response_results = sim.run_sim()\n",
    "# Extract the water quality results (i.e., salt concentration in kg/m^3) \n",
    "response_quality = response_results.node['quality']\n",
    "response_quality.index = response_quality.index / s_per_day\n",
    "# Print the junction salt concentration for the 5 timesteps after flushing starts \n",
    "print(response_quality.iloc[22:27,:])"
   ]
  },
  {
   "cell_type": "code",
   "execution_count": null,
   "metadata": {},
   "outputs": [],
   "source": [
    "# Plot the average salt concentration over time for the baseline and flushing response scenarios\n",
    "fig, ax = plt.subplots()\n",
    "baseline_quality.mean(axis=1).plot(ax=ax, label=\"Baseline average salt concentration\")\n",
    "response_quality.mean(axis=1).plot(ax=ax, label=\"Response average salt concentration\")\n",
    "ax.axvspan(storm_start/s_per_day, storm_end/s_per_day, color='grey', alpha=0.5, label=\"Storm duration\")\n",
    "ax.axvspan(hydrant_start/s_per_day, hydrant_end/s_per_day, color='blue', alpha=0.5, label=\"Flushing duration\")\n",
    "ax.legend()\n",
    "ax.set_xlabel(\"Time (day)\")\n",
    "ax.set_ylabel(\"Saltwater concentration (kg/m$^3$)\")"
   ]
  },
  {
   "cell_type": "code",
   "execution_count": null,
   "metadata": {},
   "outputs": [],
   "source": [
    "# Plot the salt concentration at each junction of the network for hour 55 in the simulation for both the baseline and flushing scenarios\n",
    "fig, axes = plt.subplots(1,2, figsize=(12,3.5))\n",
    "salt_water_55_base = baseline_quality.loc[55/24,:]\n",
    "ax = wntr.graphics.plot_network(wn, node_attribute=salt_water_55_base, node_colorbar_label=\"Salt\\nconcentration\\n(kg/m$^3$)\", title=\"Baseline salt concentration hour 55\", show_plot=False, ax=axes[0])\n",
    "salt_water_55_flush = response_quality.loc[55/24,:]\n",
    "ax = wntr.graphics.plot_network(wn, node_attribute=salt_water_55_flush, node_colorbar_label=\"Salt\\nconcentration\\n(kg/m$^3$)\", title=\"Flushing salt concentration hour 55\", show_plot=False, ax=axes[1])"
   ]
  },
  {
   "cell_type": "markdown",
   "metadata": {},
   "source": [
    "# Save results to CSV files\n",
    "Save average baseline and response water quality results"
   ]
  },
  {
   "cell_type": "code",
   "execution_count": null,
   "metadata": {},
   "outputs": [],
   "source": [
    "baseline_quality.mean(axis=1).to_csv('salt_water_baseline_quality.csv')\n",
    "response_quality.mean(axis=1).to_csv('salt_water_response_quality.csv')"
   ]
  }
 ],
 "metadata": {
  "kernelspec": {
   "display_name": "Python 3 (ipykernel)",
   "language": "python",
   "name": "python3"
  },
  "language_info": {
   "codemirror_mode": {
    "name": "ipython",
    "version": 3
   },
   "file_extension": ".py",
   "mimetype": "text/x-python",
   "name": "python",
   "nbconvert_exporter": "python",
   "pygments_lexer": "ipython3",
   "version": "3.11.7"
  }
 },
 "nbformat": 4,
 "nbformat_minor": 4
}
